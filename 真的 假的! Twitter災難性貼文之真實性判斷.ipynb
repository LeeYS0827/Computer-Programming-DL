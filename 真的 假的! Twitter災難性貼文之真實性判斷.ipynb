{
 "cells": [
  {
   "cell_type": "markdown",
   "metadata": {},
   "source": [
    "![封面](期末專題發表報名/封面.png)"
   ]
  },
  {
   "cell_type": "markdown",
   "metadata": {},
   "source": [
    "# 目錄\n",
    "1. 選題動機\n",
    "2. 專案介紹\n",
    "3. 資料庫與資料介紹\n",
    "4. 模型實作\n",
    "5. 使用者介面\n",
    "6. 目前進度\n",
    "7. 模型上線與維護"
   ]
  },
  {
   "cell_type": "markdown",
   "metadata": {},
   "source": [
    "# 1.選題動機\n",
    "    * 假貼文猖獗:輕則造成財物損失，重可造成人員傷亡\n",
    "    * NLP 分類問題應用廣泛，如: 電影評論\n",
    "    * 打擊假貼文:為眾多國家與社交媒體公司近年首要之務"
   ]
  },
  {
   "cell_type": "markdown",
   "metadata": {},
   "source": [
    "# 2.專案介紹\n",
    "## 題目啟發\n",
    "    * Kaggle Ongoing Competition\n",
    "    * 任務: 對災難性推特貼文，判斷真實性\n",
    "    * 評分: 放上Kaggle競賽平台，由平台公正資料測試預測準確度\n",
    "## 我們的專案\n",
    "1. 下載Kaggle資料集\n",
    "2. 訓練NLP、機器學習和深度學習模型\n",
    "3. 爬蟲抓取新的推特貼文，持續測試更新模型\n",
    "4. 透過`Heroku`雲平台進行模型上線部屬\n",
    "5. `LineBot聊天機器人`: \n",
    "    * 使用者介面\n",
    "    * 即時查詢留言，快速判斷真假\n"
   ]
  },
  {
   "cell_type": "markdown",
   "metadata": {},
   "source": [
    "# 3.資料庫與資料介紹\n",
    "## 資料庫- Kaggle 資料集\n",
    "* Train Data\n",
    "* Test Data\n",
    "\n",
    "## 擴充資料集- 新的推特文\n",
    "* Twitter爬蟲抓新貼文\n",
    "* 雲平台部署\n",
    "\n",
    "## 資料集介紹\n",
    "![封面](期末專題發表報名/投影片9.PNG)\n",
    "\n",
    "## Twitter爬蟲\n",
    "方法:\n",
    "1. BeautifulSoup, Selenium\n",
    "2. NLTK + Twitter  API \n",
    "3. Twint套件 (不透過API)"
   ]
  },
  {
   "cell_type": "markdown",
   "metadata": {},
   "source": [
    "# 4.模型實作"
   ]
  },
  {
   "cell_type": "markdown",
   "metadata": {},
   "source": [
    "## 模型介紹\n",
    "![封面](期末專題發表報名/投影片12.PNG)\n",
    "\n",
    "## 模型實做規劃\n",
    "![封面](期末專題發表報名/投影片13.PNG)"
   ]
  },
  {
   "cell_type": "markdown",
   "metadata": {},
   "source": [
    "# 5.使用者介面: Line Bot\n",
    "## 為何選Line Bot\n",
    "* 易於使用，可以自動回復，在台灣2018年數據統計，達2100萬活躍用戶，高達九成使用率\n",
    "* 不需要安裝其他應用程式\n",
    "* 即時服務\n",
    "* 可以專注於後端處理\n",
    "* 可以處理群體回復\n",
    "* 成本低且安全\n",
    "\n",
    "![封面](期末專題發表報名/LineBot.png)\n",
    "\n",
    "## Line Bot原理\n",
    "1. 用戶發送訊息至LINE 官方帳號。\n",
    "2. LINE Platform 將一個 webhook 事件重送至bot server 的 webhook URL，也就是 deploy 於 Heruko 平台的server端。\n",
    "3. Bot server 將依據 webhook event，透過LINE Platform 回應用戶"
   ]
  },
  {
   "cell_type": "markdown",
   "metadata": {},
   "source": [
    "# 6.目前進度\n",
    "1. BERT模型測試完成，判斷準確性達 83.231%\n",
    "2. XLNet模型搭建完畢，程式碼調整中"
   ]
  },
  {
   "cell_type": "markdown",
   "metadata": {},
   "source": [
    "## 程式碼連結(Google Drive):\n",
    "https://drive.google.com/drive/folders/10rcM9h9QnMJoL04jj8tv0MSAt0b-_1Xz?usp=sharing\n",
    "    * BERT: 10% 50% Sample and ALL Train Data(已完成)\n",
    "    * XLNet(測試調整中)"
   ]
  },
  {
   "cell_type": "markdown",
   "metadata": {},
   "source": [
    "![封面](期末專題發表報名/投影片18.PNG)"
   ]
  },
  {
   "cell_type": "markdown",
   "metadata": {},
   "source": [
    "# 7.模型上線與維護: Heroku"
   ]
  },
  {
   "cell_type": "markdown",
   "metadata": {},
   "source": [
    "## Heroku是什麼?\n",
    "支援多種語言的雲平台服務: Python, Java, Node.js, Ruby\n",
    "\n",
    "\n",
    "## 為什麼要使用Heroku？\n",
    "1. 屏除硬體限制，專注於軟體開發，讓專業的廠商替你管理硬體\n",
    "2. 後端server若為個人使用也可以透過ngrok使其他使用者連線到local端，但電腦必須得持續啟動，非常不方便 →　Heroku就是一個為了解決該問題的PaaS供應商之一\n",
    "3. 提供了多元的程式語言支援以及大量的資料庫、email以及許多服務的外掛語附加元件，讓使用者能非常方便使用\n",
    "4. Heroku自2007年營運以來，官方文件完整，易於上手，且提供免費額度供測試使用，對新手非常友善"
   ]
  },
  {
   "cell_type": "markdown",
   "metadata": {},
   "source": [
    "![封面](期末專題發表報名/末頁.PNG)"
   ]
  }
 ],
 "metadata": {
  "kernelspec": {
   "display_name": "Python 3",
   "language": "python",
   "name": "python3"
  },
  "language_info": {
   "codemirror_mode": {
    "name": "ipython",
    "version": 3
   },
   "file_extension": ".py",
   "mimetype": "text/x-python",
   "name": "python",
   "nbconvert_exporter": "python",
   "pygments_lexer": "ipython3",
   "version": "3.7.3"
  }
 },
 "nbformat": 4,
 "nbformat_minor": 4
}
