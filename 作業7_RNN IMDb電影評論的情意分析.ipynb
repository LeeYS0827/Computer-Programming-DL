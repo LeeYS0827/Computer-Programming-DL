{
 "cells": [
  {
   "cell_type": "markdown",
   "metadata": {},
   "source": [
    "# 流程\n",
    "##  目的: 對電影評論進行情感分析，結果爲positive或negative\n",
    "##  方法: 『長短期記憶網路』(LSTM) 應用 -- 情緒分析(Sentiment Analysis)\n",
    "\n",
    "\n",
    "## 先備知識:\n",
    "* 影評事一段文字，是序列的，ＲＮＮ能夠記憶前文\n",
    "\n",
    "## 步驟\n",
    "* 資料預處理\n",
    "    * 載檔案\n",
    "    * 轉編碼(亂碼時，可以使用python的chardet類庫進行判斷)\n",
    "    * 生成詞彙表\n",
    "    * 轉詞向量 -> 每個單詞對應於一個編號，將影評資料轉化成詞向量。方便後面生成詞嵌入矩陣)\n",
    "    * 統一長度-填充詞向量並轉化為np陣列(要組成batch進行訓練，就需要先將其長度統一。這裡我選擇以最長的影評為標準，對其他較短的影評的空白部分進行填充)\n",
    "    * 劃分資料集(訓練集、測試集、驗證集)\n",
    "    * 打亂資料集，寫入檔案(為了取得更好的訓練效果，將資料集隨機打亂)\n",
    "    \n",
    "* 建模\n",
    "    * 使用embedding構建詞嵌入矩陣(一條影評，對應於一個由單詞編號構成的向量)，即可構建出詞嵌入矩陣。在詞嵌入矩陣中，每個詞由一個向量表示，矩陣中不同向量之間的差異對應於它們表示的詞之間的差異。\n",
    "    * 使用LSTM作為迴圈神經網路的基本單元\n",
    "    * 對embedding和LSTM進行隨機失活(dropout) -> 為了提高模型的泛化能力，並減少引數\n",
    "    * 建立深度為2的深度迴圈神經網路 -> 為了提高模型的擬合能力\n",
    "    * 給出二分類概率: 對深度迴圈神經網路的最後節點的輸出做邏輯迴歸，通過sigmoid使結果落到0-1之間，代表結果是正類的概率。\n",
    "    * 損失函式使用交叉熵，優化器選擇Adam。\n",
    "\n",
    "* 訓練(額外操作)\n",
    "    * 使用移動平均 -> 使用的主要目的是使loss曲線儘量平滑，以及提升模型的泛化能力。\n",
    "    ## ??\n",
    "    * 使用學習率指數衰減 -> 目的是保證前期學習率足夠大，能夠快速降低loss，後期學習率變小，能更好地逼近最優解。\n",
    "\n",
    "\n",
    "### 參考網站\n",
    "1.https://www.twblogs.net/a/5b7ace622b7177392c96d970\n",
    "2.https://www.itread01.com/article/1522031940.html"
   ]
  },
  {
   "cell_type": "code",
   "execution_count": 5,
   "metadata": {},
   "outputs": [],
   "source": [
    "# 載入\n",
    "%matplotlib inline\n",
    "\n",
    "import numpy as np\n",
    "import matplotlib.pyplot as plt\n",
    "import pandas as pd"
   ]
  },
  {
   "cell_type": "markdown",
   "metadata": {},
   "source": [
    "# 實做"
   ]
  },
  {
   "cell_type": "markdown",
   "metadata": {},
   "source": [
    "## 1.載入深度學習套件"
   ]
  },
  {
   "cell_type": "code",
   "execution_count": 6,
   "metadata": {},
   "outputs": [],
   "source": [
    "from tensorflow.keras.preprocessing import sequence\n",
    "from tensorflow.keras.models import Sequential\n",
    "from tensorflow.keras.layers import Dense, Embedding, LSTM\n",
    "from tensorflow.keras.datasets import imdb"
   ]
  },
  {
   "cell_type": "code",
   "execution_count": 7,
   "metadata": {},
   "outputs": [],
   "source": [
    "from tensorflow.keras import *\n",
    "from tensorflow.keras.utils import *\n",
    "from tensorflow.keras.layers import *"
   ]
  },
  {
   "cell_type": "markdown",
   "metadata": {},
   "source": [
    "## 2.讀入數據"
   ]
  },
  {
   "cell_type": "markdown",
   "metadata": {},
   "source": [
    "### ERROR: ValueError: Object arrays cannot be loaded when allow_pickle=False\n",
    "* 主要是版本問題，當版本高於 1.16.2時，預設已經改為　allow_pickle=False\n",
    "* Sol: np降版本　-> pip install numpy==1.16.2\n",
    "* 記得要重開　Ｋｅｒｎｅｌ"
   ]
  },
  {
   "cell_type": "code",
   "execution_count": 8,
   "metadata": {},
   "outputs": [
    {
     "name": "stdout",
     "output_type": "stream",
     "text": [
      "Requirement already satisfied: numpy==1.16.2 in c:\\users\\user.laptop-osidbp5e\\appdata\\roaming\\python\\python37\\site-packages (1.16.2)\n",
      "Note: you may need to restart the kernel to use updated packages.\n"
     ]
    }
   ],
   "source": [
    "pip install --user numpy==1.16.2"
   ]
  },
  {
   "cell_type": "code",
   "execution_count": 9,
   "metadata": {},
   "outputs": [
    {
     "name": "stdout",
     "output_type": "stream",
     "text": [
      "Requirement already satisfied: numpy==1.16.2 in c:\\users\\user.laptop-osidbp5e\\appdata\\roaming\\python\\python37\\site-packages (1.16.2)\n",
      "Note: you may need to restart the kernel to use updated packages.\n"
     ]
    }
   ],
   "source": [
    "pip install numpy==1.16.2"
   ]
  },
  {
   "cell_type": "code",
   "execution_count": 30,
   "metadata": {},
   "outputs": [],
   "source": [
    "# 載入數據\n",
    "(x_train, y_train), (x_test, y_test) = imdb.load_data(num_words=10000) #OKK了！\n",
    "# num_words: 整数或 None。要考虑的最常用的词语\n",
    "# 任何不太频繁的词将在序列数据中显示为 oov_char 值。 oov_char 值\n",
    "# (補充))oov_char: 整数。由于 num_words 或 skip_top 限制而被删除的单词将被替换为此字符。"
   ]
  },
  {
   "cell_type": "code",
   "execution_count": 32,
   "metadata": {},
   "outputs": [
    {
     "name": "stdout",
     "output_type": "stream",
     "text": [
      "<class 'numpy.ndarray'>\n",
      "25000 25000\n",
      "25000\n"
     ]
    }
   ],
   "source": [
    "#觀察\n",
    "print(type(x_train))\n",
    "print(len(x_train), len(x_test))\n",
    "print(len(y_train))"
   ]
  },
  {
   "cell_type": "code",
   "execution_count": 12,
   "metadata": {},
   "outputs": [
    {
     "data": {
      "text/plain": [
       "[1,\n",
       " 14,\n",
       " 22,\n",
       " 16,\n",
       " 43,\n",
       " 530,\n",
       " 973,\n",
       " 1622,\n",
       " 1385,\n",
       " 65,\n",
       " 458,\n",
       " 4468,\n",
       " 66,\n",
       " 3941,\n",
       " 4,\n",
       " 173,\n",
       " 36,\n",
       " 256,\n",
       " 5,\n",
       " 25,\n",
       " 100,\n",
       " 43,\n",
       " 838,\n",
       " 112,\n",
       " 50,\n",
       " 670,\n",
       " 2,\n",
       " 9,\n",
       " 35,\n",
       " 480,\n",
       " 284,\n",
       " 5,\n",
       " 150,\n",
       " 4,\n",
       " 172,\n",
       " 112,\n",
       " 167,\n",
       " 2,\n",
       " 336,\n",
       " 385,\n",
       " 39,\n",
       " 4,\n",
       " 172,\n",
       " 4536,\n",
       " 1111,\n",
       " 17,\n",
       " 546,\n",
       " 38,\n",
       " 13,\n",
       " 447,\n",
       " 4,\n",
       " 192,\n",
       " 50,\n",
       " 16,\n",
       " 6,\n",
       " 147,\n",
       " 2025,\n",
       " 19,\n",
       " 14,\n",
       " 22,\n",
       " 4,\n",
       " 1920,\n",
       " 4613,\n",
       " 469,\n",
       " 4,\n",
       " 22,\n",
       " 71,\n",
       " 87,\n",
       " 12,\n",
       " 16,\n",
       " 43,\n",
       " 530,\n",
       " 38,\n",
       " 76,\n",
       " 15,\n",
       " 13,\n",
       " 1247,\n",
       " 4,\n",
       " 22,\n",
       " 17,\n",
       " 515,\n",
       " 17,\n",
       " 12,\n",
       " 16,\n",
       " 626,\n",
       " 18,\n",
       " 2,\n",
       " 5,\n",
       " 62,\n",
       " 386,\n",
       " 12,\n",
       " 8,\n",
       " 316,\n",
       " 8,\n",
       " 106,\n",
       " 5,\n",
       " 4,\n",
       " 2223,\n",
       " 5244,\n",
       " 16,\n",
       " 480,\n",
       " 66,\n",
       " 3785,\n",
       " 33,\n",
       " 4,\n",
       " 130,\n",
       " 12,\n",
       " 16,\n",
       " 38,\n",
       " 619,\n",
       " 5,\n",
       " 25,\n",
       " 124,\n",
       " 51,\n",
       " 36,\n",
       " 135,\n",
       " 48,\n",
       " 25,\n",
       " 1415,\n",
       " 33,\n",
       " 6,\n",
       " 22,\n",
       " 12,\n",
       " 215,\n",
       " 28,\n",
       " 77,\n",
       " 52,\n",
       " 5,\n",
       " 14,\n",
       " 407,\n",
       " 16,\n",
       " 82,\n",
       " 2,\n",
       " 8,\n",
       " 4,\n",
       " 107,\n",
       " 117,\n",
       " 5952,\n",
       " 15,\n",
       " 256,\n",
       " 4,\n",
       " 2,\n",
       " 7,\n",
       " 3766,\n",
       " 5,\n",
       " 723,\n",
       " 36,\n",
       " 71,\n",
       " 43,\n",
       " 530,\n",
       " 476,\n",
       " 26,\n",
       " 400,\n",
       " 317,\n",
       " 46,\n",
       " 7,\n",
       " 4,\n",
       " 2,\n",
       " 1029,\n",
       " 13,\n",
       " 104,\n",
       " 88,\n",
       " 4,\n",
       " 381,\n",
       " 15,\n",
       " 297,\n",
       " 98,\n",
       " 32,\n",
       " 2071,\n",
       " 56,\n",
       " 26,\n",
       " 141,\n",
       " 6,\n",
       " 194,\n",
       " 7486,\n",
       " 18,\n",
       " 4,\n",
       " 226,\n",
       " 22,\n",
       " 21,\n",
       " 134,\n",
       " 476,\n",
       " 26,\n",
       " 480,\n",
       " 5,\n",
       " 144,\n",
       " 30,\n",
       " 5535,\n",
       " 18,\n",
       " 51,\n",
       " 36,\n",
       " 28,\n",
       " 224,\n",
       " 92,\n",
       " 25,\n",
       " 104,\n",
       " 4,\n",
       " 226,\n",
       " 65,\n",
       " 16,\n",
       " 38,\n",
       " 1334,\n",
       " 88,\n",
       " 12,\n",
       " 16,\n",
       " 283,\n",
       " 5,\n",
       " 16,\n",
       " 4472,\n",
       " 113,\n",
       " 103,\n",
       " 32,\n",
       " 15,\n",
       " 16,\n",
       " 5345,\n",
       " 19,\n",
       " 178,\n",
       " 32]"
      ]
     },
     "execution_count": 12,
     "metadata": {},
     "output_type": "execute_result"
    }
   ],
   "source": [
    "x_train[0]"
   ]
  },
  {
   "cell_type": "code",
   "execution_count": 13,
   "metadata": {},
   "outputs": [
    {
     "data": {
      "text/plain": [
       "218"
      ]
     },
     "execution_count": 13,
     "metadata": {},
     "output_type": "execute_result"
    }
   ],
   "source": [
    "# 看第一個影評的長度\n",
    "len(x_train[0])"
   ]
  },
  {
   "cell_type": "code",
   "execution_count": 14,
   "metadata": {},
   "outputs": [
    {
     "data": {
      "text/plain": [
       "False"
      ]
     },
     "execution_count": 14,
     "metadata": {},
     "output_type": "execute_result"
    }
   ],
   "source": [
    "# 影評長度不一\n",
    "len(x_train[1]) == len(x_train[1996])"
   ]
  },
  {
   "cell_type": "code",
   "execution_count": 15,
   "metadata": {},
   "outputs": [
    {
     "data": {
      "text/plain": [
       "1"
      ]
     },
     "execution_count": 15,
     "metadata": {},
     "output_type": "execute_result"
    }
   ],
   "source": [
    "#ｙ代表影評正負向\n",
    "y_train[0]"
   ]
  },
  {
   "cell_type": "code",
   "execution_count": 16,
   "metadata": {},
   "outputs": [
    {
     "data": {
      "text/plain": [
       "0"
      ]
     },
     "execution_count": 16,
     "metadata": {},
     "output_type": "execute_result"
    }
   ],
   "source": [
    "y_train[2000] #　負面"
   ]
  },
  {
   "cell_type": "markdown",
   "metadata": {},
   "source": [
    "## 3.資料處理\n",
    "### pad_sequences序列填充: 将多个序列截断或补齐为相同长度。\n",
    "* 使用原因: 为了实现的简便，keras只能接受长度相同的序列输入\n",
    "* 該方法: 该函数是将序列转化为经过填充以后的一个新序列。\n",
    "* maxlen: 整数。最大序列长度。 任何更长的序列都将被截断。\n",
    "    * 法一: 可指定序列統一的長度\n",
    "    * 法二: 用最長序列的長度，其他短序列，則用默認的向前補值方法"
   ]
  },
  {
   "cell_type": "raw",
   "metadata": {},
   "source": [
    "# 補充(法二)\n",
    "keras.preprocessing.sequence.pad_sequences(sequences, maxlen=None, dtype='int32', padding='pre', truncating='pre', value=0.0)\n",
    "\n",
    "比 num_timesteps 短的序列将在末端以 value 值补齐。\n",
    "\n",
    "比 num_timesteps 长的序列将会被截断以满足所需要的长度。补齐或截断发生的位置分别由参数 pading 和 truncating 决定。\n",
    "\n",
    "向前补齐为默认操作。"
   ]
  },
  {
   "cell_type": "code",
   "execution_count": 78,
   "metadata": {},
   "outputs": [
    {
     "name": "stdout",
     "output_type": "stream",
     "text": [
      "11\n",
      "2494\n",
      "6719\n"
     ]
    }
   ],
   "source": [
    "#看原始資料最短和最長的影評\n",
    "l = []\n",
    "for i in x_train:\n",
    "    l.append(len(x_train[i]))\n",
    "\n",
    "print(min(l)) # 要在 for-loop 外\n",
    "print(max(l))\n",
    "\n",
    "# p=list.index(value)，p为value在list的位置\n",
    "print(l.index(11)) #查影評長度為11的影評所在位置"
   ]
  },
  {
   "cell_type": "code",
   "execution_count": 79,
   "metadata": {},
   "outputs": [
    {
     "name": "stdout",
     "output_type": "stream",
     "text": [
      "[1, 13, 586, 851, 14, 31, 60, 23, 2863, 2364, 314]\n"
     ]
    }
   ],
   "source": [
    "print(x_train[6719]) # 的確只有11個字，一個字以一個數值表示"
   ]
  },
  {
   "cell_type": "markdown",
   "metadata": {},
   "source": [
    "### 修改部分\n",
    "* maxlen: 100 > 333\n",
    "* epoch = 25 (因為有Early Stopping)\n",
    "* batch = 66\n",
    "* 把25000筆測試集拆成15000筆驗證集和10000筆測試集，此時訓練集、驗證集和測試集的比例為5:3:2"
   ]
  },
  {
   "cell_type": "code",
   "execution_count": 33,
   "metadata": {},
   "outputs": [],
   "source": [
    "# 都切成一樣長，缺的補值\n",
    "x_train = sequence.pad_sequences(x_train, maxlen = 333)\n",
    "x_test = sequence.pad_sequences(x_test, maxlen=333)"
   ]
  },
  {
   "cell_type": "code",
   "execution_count": 34,
   "metadata": {},
   "outputs": [
    {
     "name": "stdout",
     "output_type": "stream",
     "text": [
      "[   0    0    0    0    0    0    0    0    0    0    0    0    0    0\n",
      "    0    0    0    0    0    0    0    0    0    0    0    0    0    0\n",
      "    0    0    0    0    0    0    0    0    0    0    0    0    0    0\n",
      "    0    0    0    0    0    0    0    0    0    0    0    0    0    0\n",
      "    0    0    0    0    0    0    0    0    0    0    0    0    0    0\n",
      "    0    0    0    0    0    0    0    0    0    0    0    0    0    0\n",
      "    0    0    0    0    0    0    0    0    0    0    0    0    0    0\n",
      "    0    0    0    0    0    0    0    0    0    0    0    0    0    0\n",
      "    0    0    0    0    0    0    0    0    0    0    0    0    0    0\n",
      "    0    0    0    0    0    0    0    0    0    0    0    0    0    0\n",
      "    0    0    0    0    0    0    0    0    0    0    0    0    0    0\n",
      "    0    0    0    0    0    0    0    0    0    0    0    0    0    0\n",
      "    0    0    0    0    0    0    0    0    0    0    0    0    0    0\n",
      "    0    0    0    0    0    0    0    0    0    0    0    0    0    0\n",
      "    0    0    0    0    0    0    0    0    0    0    0    0    0    0\n",
      "    0    0    0    0    0    0    0    0    0    0    0    0    0    0\n",
      "    0    0    0    0    0    0    0    0    0    0    0    0    0    0\n",
      "    0    0    0    0    0    0    0    0    0    0    0    0    0    0\n",
      "    0    0    0    0    0    0    0    0    0    0    0    0    0    0\n",
      "    0    0    0    0    0    0    0    0    0    0    0    0    0    0\n",
      "    0    0    0    0    0    0    0    0    0    0    0    0    0    0\n",
      "    0    0    0    0    0    0    0    0    0    0    0    0    0    0\n",
      "    0    0    0    0    0    0    0    0    0    0    0    0    0    0\n",
      "    1   13  586  851   14   31   60   23 2863 2364  314]\n",
      "333\n"
     ]
    }
   ],
   "source": [
    "print(x_train[6719]) # 已經補成長度為100\n",
    "print(len(x_train[6719]))"
   ]
  },
  {
   "cell_type": "code",
   "execution_count": 35,
   "metadata": {},
   "outputs": [
    {
     "name": "stdout",
     "output_type": "stream",
     "text": [
      "(15000, 333) (10000, 333)\n",
      "(15000,) (10000,)\n",
      "(25000, 333) (25000,)\n"
     ]
    }
   ],
   "source": [
    "# 訓練集、驗證集和測試集的比例為5:3:2\n",
    "from sklearn.model_selection import train_test_split\n",
    "x_val, x_test, y_val, y_test = train_test_split(x_test, \n",
    "                                                y_test,\n",
    "                                                test_size = 0.4,\n",
    "                                                random_state = 100)\n",
    "print(x_val.shape, x_test.shape)\n",
    "print(y_val.shape, y_test.shape)\n",
    "print(x_train.shape, y_train.shape)"
   ]
  },
  {
   "cell_type": "code",
   "execution_count": 36,
   "metadata": {},
   "outputs": [
    {
     "data": {
      "text/plain": [
       "array([   0,    0,    0,    0,    0,    0,    0,    0,    0,    0,    0,\n",
       "          0,    0,    0,    0,    0,    0,    0,    0,    0,    0,    0,\n",
       "          0,    0,    0,    0,    0,    0,    0,    0,    0,    0,    0,\n",
       "          0,    0,    0,    0,    0,    0,    0,    0,    0,    0,    0,\n",
       "          0,    0,    0,    0,    0,    0,    0,    0,    0,    0,    0,\n",
       "          0,    0,    0,    0,    0,    0,    0,    0,    0,    0,    0,\n",
       "          0,    0,    0,    0,    0,    0,    0,    0,    0,    0,    0,\n",
       "          0,    0,    0,    0,    0,    0,    0,    0,    0,    0,    0,\n",
       "          0,    0,    0,    0,    0,    0,    0,    0,    0,    0,    0,\n",
       "          0,    0,    0,    0,    0,    0,    0,    0,    0,    0,    0,\n",
       "          0,    0,    0,    0,    0,    0,    0,    0,    0,    0,    0,\n",
       "          0,    0,    0,    0,    0,    0,    0,    0,    0,    0,    0,\n",
       "          0,    0,    0,    0,    0,    0,    0,    0,    0,    0,    0,\n",
       "          0,    0,    0,    0,    0,    0,    0,    0,    0,    0,    0,\n",
       "          0,    0,    0,    0,    0,    0,    0,    0,    0,    0,    0,\n",
       "          0,    0,    0,    0,    0,    0,    0,    0,    0,    0,    0,\n",
       "          0,    0,    0,    0,    0,    0,    0,    0,    0,    0,    0,\n",
       "          0,    0,    0,    0,    0,    1,   14,   22,   47,   49,    7,\n",
       "          4,  833, 1717,  807,    5,  906, 4414,  126, 6538,   11,   31,\n",
       "         22,    4,  114,    9,  643, 1892,   21,    4, 1917,    2,   26,\n",
       "        195,    8,   97,   56,    4, 1474,   14,    9,    6, 3679,   20,\n",
       "         18,   32, 2088,   15,    9,  252,    8,  591,   17,    6, 1360,\n",
       "        498,  812,   12,    9,  545,  441,    5,   19,  678,  381,   40,\n",
       "       4089, 2107, 7801, 6605,    5, 6597, 1768,   89,  100,   25,  140,\n",
       "        355,   10,   10, 1717,  807,    5,    2,  141,   17,   14,   47,\n",
       "        196,   77,    2,    5,    9,   55,  878,    8, 8522,    6,   52,\n",
       "        463,    7,   14,    9,  110,   11,    4, 5474,    2,    7,   14,\n",
       "         22,    4,  278, 4795,   19,  827, 3520,    5, 4708,  196,  466,\n",
       "          4,  676,    5, 1748,  212,    7,  134,  381,    4,   22, 3317,\n",
       "          5, 1990,  338,  857,    5,  529,  795, 9702,  283, 1717,  807,\n",
       "          9,   35,  498])"
      ]
     },
     "execution_count": 36,
     "metadata": {},
     "output_type": "execute_result"
    }
   ],
   "source": [
    "import sklearn\n",
    "x_train[1996]"
   ]
  },
  {
   "cell_type": "code",
   "execution_count": 37,
   "metadata": {},
   "outputs": [
    {
     "data": {
      "text/plain": [
       "(25000, 333)"
      ]
     },
     "execution_count": 37,
     "metadata": {},
     "output_type": "execute_result"
    }
   ],
   "source": [
    "x_train.shape"
   ]
  },
  {
   "cell_type": "markdown",
   "metadata": {},
   "source": [
    "## 4. step 01: 打造一個函數學習機\n",
    "使用 Keras Sequential 顺序模型,顺序模型是多个网络层的线性堆叠\n",
    "### 調整項目:\n",
    "* LSTM改用GRU，並且降低神經元的數量(128增加150)\n",
    "* Early Stopping"
   ]
  },
  {
   "cell_type": "markdown",
   "metadata": {},
   "source": [
    "### 知識\n",
    "1. Sequential序貫模型:\n",
    "    * 是函式式模型的簡略版，為最簡單的線性、從頭到尾的結構順序，不分叉，是多個網路層的線性堆疊\n",
    "    * Keras實現了很多層，包括core核心層，Convolution卷積層、Pooling池化層等非常豐富有趣的網路結構。\n",
    "2. 神經網路的第一層 -> 將list型別轉換為tensor張量型別,才能送入神經網路中訓練，有兩種轉換方式：\n",
    "    * Embedding層: 填充列表使每個列表長度都相同，然後轉換為整數型別的張量，形狀為(samples, word_indices)\n",
    "    * 將列表進行one-hot編碼: 轉換成0、 1向量。然後用Dense網路層作為神經網路的第一層，處理浮點型別向量資料。\n",
    "3. Embedding(max_features, output_dim)\n",
    "    * Keras提供了一个嵌入层Embedding，适用于文本数据的神经网络。\n",
    "    * 将正整数（索引值）转换为固定尺寸的稠密向量。 例如： [[4], [20]] -> [[0.25, 0.1], [0.6, -0.2]]\n",
    "    * 该层只能用作模型中的第一层。\n",
    "    * max_features=1000: 输入中最大的整数（即词索引）不应该大于 999 （词汇表大小）\n",
    "    * output_dim: 词向量的维度,这是嵌入单词的向量空间的大小。它为每个单词定义了这个层的输出向量的大小。例如，它可能是32或100甚至更大\n",
    "    * input_dim：这是文本数据中词汇的取值可能数。例如，如果您的数据是整数编码为0-9之间的值，那么词汇的大小就是10个单词\n",
    "    * EX: 例如，下面我们定义一个词汇表为200的嵌入层（例如从0到199的整数编码的字，包括0到199），一个32维的向量空间，其中将嵌入单词，以及输入文档，每个单词有50个单词。\n",
    "        * e = Embedding(input_dim=200, output_dim=32, input_length=50)\n"
   ]
  },
  {
   "cell_type": "markdown",
   "metadata": {},
   "source": [
    "### 知識: 『嵌入』層:\n",
    "* 是幫我們輸入的正整數轉為實數域上的向量，這是『詞嵌入』(Word Embedding)的技術，把一個維數為所有詞的數量的高維空間嵌入到一個維數低得多的連續向量空間中\n",
    "* 每個單詞或詞組被映射為實數域上的向量。Google Tomas Mikolov 領導的團隊發明了一套工具『Word2Vec』來進行詞嵌入，訓練向量空間模型的速度比以往的方法都快"
   ]
  },
  {
   "cell_type": "markdown",
   "metadata": {},
   "source": [
    "### 知識\n",
    "4. model.add(LSTM(128, dropout=0.2, recurrent_dropout=0.2)) \n",
    "    * LSTM 模型常會造成過度擬合(Overfit)!! → 所以要有dropout & recurrent_dropout\n",
    "    * 返回一個維度為128的向量\n",
    "    * dropout: 針對 input 抑制過度擬合,即暂时从网络中移除神经网络中的单元,Dropout可以比较有效的缓解过拟合的发生，在一定程度上达到正则化的效果。避免模型「背答案」，每次學的時候該神經層有多少比例的參數不會去學習\n",
    "    * 输入层0.2的 dropout 率适用于各种任务,隱藏層dropout 率設為0.5\n",
    "    * recurrent：記憶過去的訓練輸出\n",
    "    * recurrent_dropout: 針對上一個 output state 抑制過度擬合(hidden state的dropout)"
   ]
  },
  {
   "cell_type": "code",
   "execution_count": 38,
   "metadata": {},
   "outputs": [],
   "source": [
    "# 基于 LSTM 的序列分類\n",
    "model = Sequential()\n",
    "\n",
    "# model.add(Embedding(max_features, output_dim))\n",
    "model.add(Embedding(10000, 128))\n",
    "\n",
    "# LSTM > GRU\n",
    "#model.add(LSTM(128, dropout=0.2, recurrent_dropout=0.2)) \n",
    "model.add(GRU(64, dropout = 0.2, recurrent_dropout = 0.2))\n",
    "\n",
    "\n",
    "# Dense\n",
    "model.add(Dense(1, activation='sigmoid')) #1: output layer的單元，因輸出結果只有0或1(所以units=1)"
   ]
  },
  {
   "cell_type": "markdown",
   "metadata": {},
   "source": [
    "# ??把model串在一起"
   ]
  },
  {
   "cell_type": "code",
   "execution_count": 39,
   "metadata": {},
   "outputs": [],
   "source": [
    "model.compile(loss='binary_crossentropy',\n",
    "             optimizer='adam',\n",
    "             metrics=['accuracy'])\n",
    "# adam好處：快、做momentum"
   ]
  },
  {
   "cell_type": "code",
   "execution_count": 40,
   "metadata": {},
   "outputs": [
    {
     "name": "stdout",
     "output_type": "stream",
     "text": [
      "_________________________________________________________________\n",
      "Layer (type)                 Output Shape              Param #   \n",
      "=================================================================\n",
      "embedding_1 (Embedding)      (None, None, 128)         1280000   \n",
      "_________________________________________________________________\n",
      "gru_1 (GRU)                  (None, 64)                37056     \n",
      "_________________________________________________________________\n",
      "dense_1 (Dense)              (None, 1)                 65        \n",
      "=================================================================\n",
      "Total params: 1,317,121\n",
      "Trainable params: 1,317,121\n",
      "Non-trainable params: 0\n",
      "_________________________________________________________________\n"
     ]
    }
   ],
   "source": [
    "model.summary()"
   ]
  },
  {
   "cell_type": "code",
   "execution_count": 41,
   "metadata": {},
   "outputs": [],
   "source": [
    "#??\n",
    "#(128+128+1)*4*128"
   ]
  },
  {
   "cell_type": "markdown",
   "metadata": {},
   "source": [
    "### Early Stopping:\n",
    "* 模型訓練一段時間後，當準確率不再有顯著的提升就提早結束訓練\n",
    "* 能夠節省訓練的時間，也可防止過度擬合"
   ]
  },
  {
   "cell_type": "code",
   "execution_count": 42,
   "metadata": {},
   "outputs": [],
   "source": [
    "from keras.callbacks import EarlyStopping\n",
    "early_stopping = EarlyStopping(monitor = 'val_loss', patience = 4, verbose = 0, mode = 'auto') \n",
    "    # patience = 4: 當模型不再有顯著的進步時，還會再多訓練3個epochs才結束訓練"
   ]
  },
  {
   "cell_type": "markdown",
   "metadata": {},
   "source": [
    "## 5.step 02: 訓練\n",
    "### 調整:\n",
    "* batch_size 32 → 64\n",
    "* epochs 10 → 25 (有實施early stopping，可以設高一點)"
   ]
  },
  {
   "cell_type": "code",
   "execution_count": 43,
   "metadata": {},
   "outputs": [
    {
     "name": "stdout",
     "output_type": "stream",
     "text": [
      "Train on 25000 samples, validate on 15000 samples\n",
      "WARNING:tensorflow:From C:\\ProgramData\\Anaconda3\\lib\\site-packages\\tensorflow\\python\\ops\\math_ops.py:3066: to_int32 (from tensorflow.python.ops.math_ops) is deprecated and will be removed in a future version.\n",
      "Instructions for updating:\n",
      "Use tf.cast instead.\n",
      "Epoch 1/20\n",
      "25000/25000 [==============================] - 244s 10ms/sample - loss: 0.4962 - acc: 0.7593 - val_loss: 0.4683 - val_acc: 0.7855\n",
      "Epoch 2/20\n",
      "25000/25000 [==============================] - 248s 10ms/sample - loss: 0.3455 - acc: 0.8582 - val_loss: 0.3701 - val_acc: 0.8419\n",
      "Epoch 3/20\n",
      "25000/25000 [==============================] - 251s 10ms/sample - loss: 0.2979 - acc: 0.8800 - val_loss: 0.3413 - val_acc: 0.8584\n",
      "Epoch 4/20\n",
      "25000/25000 [==============================] - 248s 10ms/sample - loss: 0.2299 - acc: 0.9121 - val_loss: 0.3703 - val_acc: 0.8437\n",
      "Epoch 5/20\n",
      "25000/25000 [==============================] - 249s 10ms/sample - loss: 0.1923 - acc: 0.9285 - val_loss: 0.3470 - val_acc: 0.8577\n",
      "Epoch 6/20\n",
      "25000/25000 [==============================] - 249s 10ms/sample - loss: 0.1551 - acc: 0.9434 - val_loss: 0.3796 - val_acc: 0.8576\n",
      "Epoch 7/20\n",
      "25000/25000 [==============================] - 249s 10ms/sample - loss: 0.1195 - acc: 0.9568 - val_loss: 0.4200 - val_acc: 0.8383\n"
     ]
    }
   ],
   "source": [
    "#model.fit(x_train, y_train, batch_size=32, epochs=10, validation_data=(x_test, y_test))\n",
    "\n",
    "history = model.fit(x_train, y_train, batch_size = 64, epochs = 20, validation_data = (x_val, y_val), \n",
    "                    callbacks = [early_stopping])"
   ]
  },
  {
   "cell_type": "markdown",
   "metadata": {},
   "source": [
    "## 知識: Keras 儲存與載入訓練好的模型或參數\n",
    "* `model.to_json()`: 以 JSON 字符串的形式返回模型的表示(※请注意:该表示不包括权重，仅包含结构)\n",
    "    * 可以通过以下方式从 JSON 字符串重新实例化同一模型（使用重新初始化的权重）：\n",
    "    * from keras.models import model_from_json\n",
    "\n",
    "    * json_string = model.to_json()\n",
    "    * model = model_from_json(json_string)\n",
    "* `model.save_weights(filepath)`将模型权重存储为 HDF5 文件\n",
    "* `model.load_weights(filepath, by_name=False)`: 从 HDF5 文件（由 save_weights 创建）中加载权重。默认情况下，模型的结构应该是不变的。 如果想将权重载入不同的模型（部分层相同）， 设置 by_name=True 来载入那些名字相同的层的权重。"
   ]
  },
  {
   "cell_type": "markdown",
   "metadata": {},
   "source": [
    "## 6.訓練成果\n",
    "訓練集和驗證集準確率和loss值的變化"
   ]
  },
  {
   "cell_type": "code",
   "execution_count": 45,
   "metadata": {},
   "outputs": [
    {
     "data": {
      "image/png": "[encoded data removed]",
      "text/plain": [
       "<Figure size 432x288 with 1 Axes>"
      ]
     },
     "metadata": {
      "needs_background": "light"
     },
     "output_type": "display_data"
    },
    {
     "data": {
      "image/png": "[encoded data removed]",
      "text/plain": [
       "<Figure size 432x288 with 1 Axes>"
      ]
     },
     "metadata": {
      "needs_background": "light"
     },
     "output_type": "display_data"
    }
   ],
   "source": [
    "import matplotlib.pyplot as plt\n",
    "\n",
    "# Plot training & validation accuracy values\n",
    "plt.plot(range(1, len(history.history['acc']) + 1), history.history['acc'])\n",
    "plt.plot(range(1, len(history.history['val_acc']) + 1), history.history['val_acc'])\n",
    "plt.title('Model accuracy')\n",
    "plt.ylabel('Accuracy')\n",
    "plt.xlabel('Epoch')\n",
    "plt.legend(['Train', 'Validation'], loc='upper left')\n",
    "plt.show()\n",
    "\n",
    "# Plot training & validation loss values\n",
    "plt.plot(range(1, len(history.history['loss']) + 1), history.history['loss'])\n",
    "plt.plot(range(1, len(history.history['val_loss']) + 1), history.history['val_loss'])\n",
    "plt.title('Model loss')\n",
    "plt.ylabel('Loss')\n",
    "plt.xlabel('Epoch')\n",
    "plt.legend(['Train', 'Validation'], loc='upper left')\n",
    "plt.show()"
   ]
  },
  {
   "cell_type": "markdown",
   "metadata": {},
   "source": [
    "### 查看該模型預測測試集資料的結果"
   ]
  },
  {
   "cell_type": "code",
   "execution_count": 46,
   "metadata": {},
   "outputs": [
    {
     "name": "stdout",
     "output_type": "stream",
     "text": [
      "10000/10000 [==============================] - 12s 1ms/sample - loss: 0.4080 - acc: 0.8471\n",
      "Test loss: 0.4080015291213989\n",
      "Test accuracy: 0.8471\n"
     ]
    }
   ],
   "source": [
    "# 做出來的模型預測測試集的準確率為0.8471\n",
    "score = model.evaluate(x_test, y_test)\n",
    "print('Test loss:', score[0])\n",
    "print('Test accuracy:', score[1])"
   ]
  },
  {
   "cell_type": "markdown",
   "metadata": {},
   "source": [
    "## 7.寫入檔案"
   ]
  },
  {
   "cell_type": "code",
   "execution_count": 47,
   "metadata": {},
   "outputs": [],
   "source": [
    "model_json = model.to_json() #只儲存結構\n",
    "open('imdb_model_architecture.json', 'w').write(model_json)\n",
    "model.save_weights('imdb_model_weights.h5') #只存權重"
   ]
  },
  {
   "cell_type": "code",
   "execution_count": null,
   "metadata": {},
   "outputs": [],
   "source": []
  }
 ],
 "metadata": {
  "kernelspec": {
   "display_name": "Python 3",
   "language": "python",
   "name": "python3"
  },
  "language_info": {
   "codemirror_mode": {
    "name": "ipython",
    "version": 3
   },
   "file_extension": ".py",
   "mimetype": "text/x-python",
   "name": "python",
   "nbconvert_exporter": "python",
   "pygments_lexer": "ipython3",
   "version": "3.7.3"
  }
 },
 "nbformat": 4,
 "nbformat_minor": 2
}
