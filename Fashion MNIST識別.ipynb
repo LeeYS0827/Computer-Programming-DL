{
 "cells": [
  {
   "cell_type": "markdown",
   "metadata": {},
   "source": [
    "# Fashion MNIST識別"
   ]
  },
  {
   "cell_type": "markdown",
   "metadata": {},
   "source": [
    "### Reference:\n",
    "* Hands-On-Machine-Learning-with-Scikit-Learn-Keras-and-Tensorflow, 2e\n",
    "* 莫凡Python"
   ]
  },
  {
   "cell_type": "markdown",
   "metadata": {},
   "source": [
    "## 安裝 Tensorflow"
   ]
  },
  {
   "cell_type": "code",
   "execution_count": 27,
   "metadata": {},
   "outputs": [
    {
     "name": "stdout",
     "output_type": "stream",
     "text": [
      "Requirement already satisfied: tensorflow in c:\\users\\user.laptop-osidbp5e\\appdata\\roaming\\python\\python37\\site-packages (2.1.0)\n",
      "Requirement already satisfied: gast==0.2.2 in c:\\users\\user.laptop-osidbp5e\\.conda\\envs\\tf\\lib\\site-packages (from tensorflow) (0.2.2)\n",
      "Requirement already satisfied: keras-applications>=1.0.8 in c:\\users\\user.laptop-osidbp5e\\.conda\\envs\\tf\\lib\\site-packages (from tensorflow) (1.0.8)\n",
      "Requirement already satisfied: google-pasta>=0.1.6 in c:\\users\\user.laptop-osidbp5e\\.conda\\envs\\tf\\lib\\site-packages (from tensorflow) (0.1.8)\n",
      "Requirement already satisfied: termcolor>=1.1.0 in c:\\users\\user.laptop-osidbp5e\\.conda\\envs\\tf\\lib\\site-packages (from tensorflow) (1.1.0)\n",
      "Requirement already satisfied: wrapt>=1.11.1 in c:\\users\\user.laptop-osidbp5e\\appdata\\roaming\\python\\python37\\site-packages (from tensorflow) (1.11.2)\n",
      "Requirement already satisfied: absl-py>=0.7.0 in c:\\users\\user.laptop-osidbp5e\\.conda\\envs\\tf\\lib\\site-packages (from tensorflow) (0.9.0)\n",
      "Requirement already satisfied: numpy<2.0,>=1.16.0 in c:\\users\\user.laptop-osidbp5e\\.conda\\envs\\tf\\lib\\site-packages (from tensorflow) (1.18.1)\n",
      "Requirement already satisfied: grpcio>=1.8.6 in c:\\users\\user.laptop-osidbp5e\\.conda\\envs\\tf\\lib\\site-packages (from tensorflow) (1.27.2)\n",
      "Requirement already satisfied: wheel>=0.26; python_version >= \"3\" in c:\\users\\user.laptop-osidbp5e\\.conda\\envs\\tf\\lib\\site-packages (from tensorflow) (0.34.2)\n",
      "Requirement already satisfied: scipy==1.4.1; python_version >= \"3\" in c:\\users\\user.laptop-osidbp5e\\appdata\\roaming\\python\\python37\\site-packages (from tensorflow) (1.4.1)\n",
      "Requirement already satisfied: keras-preprocessing>=1.1.0 in c:\\users\\user.laptop-osidbp5e\\.conda\\envs\\tf\\lib\\site-packages (from tensorflow) (1.1.0)\n",
      "Requirement already satisfied: opt-einsum>=2.3.2 in c:\\users\\user.laptop-osidbp5e\\.conda\\envs\\tf\\lib\\site-packages (from tensorflow) (3.2.0)\n",
      "Requirement already satisfied: six>=1.12.0 in c:\\users\\user.laptop-osidbp5e\\appdata\\roaming\\python\\python37\\site-packages (from tensorflow) (1.12.0)\n",
      "Requirement already satisfied: tensorboard<2.2.0,>=2.1.0 in c:\\users\\user.laptop-osidbp5e\\.conda\\envs\\tf\\lib\\site-packages (from tensorflow) (2.1.0)\n",
      "Requirement already satisfied: protobuf>=3.8.0 in c:\\users\\user.laptop-osidbp5e\\.conda\\envs\\tf\\lib\\site-packages (from tensorflow) (3.11.3)\n",
      "Requirement already satisfied: astor>=0.6.0 in c:\\users\\user.laptop-osidbp5e\\.conda\\envs\\tf\\lib\\site-packages (from tensorflow) (0.8.1)\n",
      "Requirement already satisfied: tensorflow-estimator<2.2.0,>=2.1.0rc0 in c:\\users\\user.laptop-osidbp5e\\.conda\\envs\\tf\\lib\\site-packages (from tensorflow) (2.1.0)\n",
      "Requirement already satisfied: h5py in c:\\users\\user.laptop-osidbp5e\\.conda\\envs\\tf\\lib\\site-packages (from keras-applications>=1.0.8->tensorflow) (2.10.0)\n",
      "Requirement already satisfied: setuptools>=41.0.0 in c:\\users\\user.laptop-osidbp5e\\.conda\\envs\\tf\\lib\\site-packages (from tensorboard<2.2.0,>=2.1.0->tensorflow) (45.2.0.post20200210)\n",
      "Requirement already satisfied: google-auth-oauthlib<0.5,>=0.4.1 in c:\\users\\user.laptop-osidbp5e\\.conda\\envs\\tf\\lib\\site-packages (from tensorboard<2.2.0,>=2.1.0->tensorflow) (0.4.1)\n",
      "Requirement already satisfied: google-auth<2,>=1.6.3 in c:\\users\\user.laptop-osidbp5e\\.conda\\envs\\tf\\lib\\site-packages (from tensorboard<2.2.0,>=2.1.0->tensorflow) (1.11.2)\n",
      "Requirement already satisfied: werkzeug>=0.11.15 in c:\\users\\user.laptop-osidbp5e\\.conda\\envs\\tf\\lib\\site-packages (from tensorboard<2.2.0,>=2.1.0->tensorflow) (1.0.0)\n",
      "Requirement already satisfied: requests<3,>=2.21.0 in c:\\users\\user.laptop-osidbp5e\\.conda\\envs\\tf\\lib\\site-packages (from tensorboard<2.2.0,>=2.1.0->tensorflow) (2.23.0)\n",
      "Requirement already satisfied: markdown>=2.6.8 in c:\\users\\user.laptop-osidbp5e\\.conda\\envs\\tf\\lib\\site-packages (from tensorboard<2.2.0,>=2.1.0->tensorflow) (3.2.1)\n",
      "Requirement already satisfied: requests-oauthlib>=0.7.0 in c:\\users\\user.laptop-osidbp5e\\.conda\\envs\\tf\\lib\\site-packages (from google-auth-oauthlib<0.5,>=0.4.1->tensorboard<2.2.0,>=2.1.0->tensorflow) (1.3.0)\n",
      "Requirement already satisfied: pyasn1-modules>=0.2.1 in c:\\users\\user.laptop-osidbp5e\\.conda\\envs\\tf\\lib\\site-packages (from google-auth<2,>=1.6.3->tensorboard<2.2.0,>=2.1.0->tensorflow) (0.2.8)\n",
      "Requirement already satisfied: rsa<4.1,>=3.1.4 in c:\\users\\user.laptop-osidbp5e\\.conda\\envs\\tf\\lib\\site-packages (from google-auth<2,>=1.6.3->tensorboard<2.2.0,>=2.1.0->tensorflow) (4.0)\n",
      "Requirement already satisfied: cachetools<5.0,>=2.0.0 in c:\\users\\user.laptop-osidbp5e\\.conda\\envs\\tf\\lib\\site-packages (from google-auth<2,>=1.6.3->tensorboard<2.2.0,>=2.1.0->tensorflow) (4.0.0)\n",
      "Requirement already satisfied: idna<3,>=2.5 in c:\\users\\user.laptop-osidbp5e\\.conda\\envs\\tf\\lib\\site-packages (from requests<3,>=2.21.0->tensorboard<2.2.0,>=2.1.0->tensorflow) (2.9)\n",
      "Requirement already satisfied: chardet<4,>=3.0.2 in c:\\users\\user.laptop-osidbp5e\\.conda\\envs\\tf\\lib\\site-packages (from requests<3,>=2.21.0->tensorboard<2.2.0,>=2.1.0->tensorflow) (3.0.4)\n",
      "Requirement already satisfied: urllib3!=1.25.0,!=1.25.1,<1.26,>=1.21.1 in c:\\users\\user.laptop-osidbp5e\\.conda\\envs\\tf\\lib\\site-packages (from requests<3,>=2.21.0->tensorboard<2.2.0,>=2.1.0->tensorflow) (1.25.8)\n",
      "Requirement already satisfied: certifi>=2017.4.17 in c:\\users\\user.laptop-osidbp5e\\.conda\\envs\\tf\\lib\\site-packages (from requests<3,>=2.21.0->tensorboard<2.2.0,>=2.1.0->tensorflow) (2019.11.28)\n",
      "Requirement already satisfied: oauthlib>=3.0.0 in c:\\users\\user.laptop-osidbp5e\\.conda\\envs\\tf\\lib\\site-packages (from requests-oauthlib>=0.7.0->google-auth-oauthlib<0.5,>=0.4.1->tensorboard<2.2.0,>=2.1.0->tensorflow) (3.1.0)\n",
      "Requirement already satisfied: pyasn1<0.5.0,>=0.4.6 in c:\\users\\user.laptop-osidbp5e\\.conda\\envs\\tf\\lib\\site-packages (from pyasn1-modules>=0.2.1->google-auth<2,>=1.6.3->tensorboard<2.2.0,>=2.1.0->tensorflow) (0.4.8)\n",
      "Note: you may need to restart the kernel to use updated packages.\n"
     ]
    }
   ],
   "source": [
    "pip install tensorflow"
   ]
  },
  {
   "cell_type": "markdown",
   "metadata": {},
   "source": [
    "## 確認安裝版本"
   ]
  },
  {
   "cell_type": "code",
   "execution_count": 29,
   "metadata": {},
   "outputs": [
    {
     "data": {
      "text/plain": [
       "'2.2.4-tf'"
      ]
     },
     "execution_count": 29,
     "metadata": {},
     "output_type": "execute_result"
    }
   ],
   "source": [
    "from tensorflow import keras\n",
    "keras.__version__"
   ]
  },
  {
   "cell_type": "code",
   "execution_count": 9,
   "metadata": {},
   "outputs": [
    {
     "data": {
      "text/plain": [
       "'2.1.0'"
      ]
     },
     "execution_count": 9,
     "metadata": {},
     "output_type": "execute_result"
    }
   ],
   "source": [
    "import tensorflow as tf\n",
    "tf.__version__"
   ]
  },
  {
   "cell_type": "markdown",
   "metadata": {},
   "source": [
    "## Building an Image Classifier Using the Sequential API"
   ]
  },
  {
   "cell_type": "code",
   "execution_count": 32,
   "metadata": {},
   "outputs": [
    {
     "name": "stdout",
     "output_type": "stream",
     "text": [
      "Downloading data from https://storage.googleapis.com/tensorflow/tf-keras-datasets/train-labels-idx1-ubyte.gz\n",
      "32768/29515 [=================================] - 0s 1us/step\n",
      "Downloading data from https://storage.googleapis.com/tensorflow/tf-keras-datasets/train-images-idx3-ubyte.gz\n",
      "26427392/26421880 [==============================] - 4s 0us/step\n",
      "Downloading data from https://storage.googleapis.com/tensorflow/tf-keras-datasets/t10k-labels-idx1-ubyte.gz\n",
      "8192/5148 [===============================================] - 0s 0us/step\n",
      "Downloading data from https://storage.googleapis.com/tensorflow/tf-keras-datasets/t10k-images-idx3-ubyte.gz\n",
      "4423680/4422102 [==============================] - 1s 0us/step\n"
     ]
    }
   ],
   "source": [
    "#Using Keras to load Dataset: Fashion MNIST\n",
    "fashion_mnist = keras.datasets.fashion_mnist\n",
    "(X_train_full, y_train_full), (X_test, y_test) = fashion_mnist.load_data()"
   ]
  },
  {
   "cell_type": "code",
   "execution_count": 36,
   "metadata": {},
   "outputs": [
    {
     "name": "stdout",
     "output_type": "stream",
     "text": [
      "X_train_shape:  (60000, 28, 28)\n",
      "X_train_type:  uint8\n"
     ]
    }
   ],
   "source": [
    "#shape\n",
    "print('X_train_shape: ', X_train_full.shape)\n",
    "print('X_train_type: ', X_train_full.dtype)"
   ]
  },
  {
   "cell_type": "code",
   "execution_count": 42,
   "metadata": {},
   "outputs": [],
   "source": [
    "#Create validation set\n",
    "#Scale the input features for Gradient Descent\n",
    "# By scaling the pixel to 0-1 range by dividing by 255.0(also to float)\n",
    "X_valid, X_train = X_train_full[:5000] / 255.0, X_train_full[5000:] / 255.0\n",
    "y_valid, y_train = y_train_full[:5000] / 255.0, y_train_full[5000:] / 255.0"
   ]
  },
  {
   "cell_type": "code",
   "execution_count": 43,
   "metadata": {},
   "outputs": [],
   "source": [
    "#the list of class names to know what the answers\n",
    "class_names = [\"T-shirt/top\", \"Trouser\", \"Pullover\", \"Dress\", \"Coat\", \"Sandal\", \"Shirt\", \"Sneaker\", \"Bag\", \"Ankle boot\"]"
   ]
  },
  {
   "cell_type": "code",
   "execution_count": 45,
   "metadata": {},
   "outputs": [],
   "source": [
    "#class_names[y_train[0]]"
   ]
  },
  {
   "cell_type": "code",
   "execution_count": 47,
   "metadata": {},
   "outputs": [],
   "source": [
    "# Build the neural network: A Classification MLP with 2 hidden layers\n",
    "model = keras.models.Sequential()\n",
    "model.add(keras.layers.Flatten(input_shape=[28, 28]))\n",
    "model.add(keras.layers.Dense(300, activation='relu')) # 1st hidden layer:300 neurons\n",
    "model.add(keras.layers.Dense(100, activation='relu')) # 2nd\n",
    "model.add(keras.layers.Dense(10, activation='softmax')) # output layer"
   ]
  },
  {
   "cell_type": "code",
   "execution_count": 48,
   "metadata": {},
   "outputs": [
    {
     "name": "stdout",
     "output_type": "stream",
     "text": [
      "Model: \"sequential_1\"\n",
      "_________________________________________________________________\n",
      "Layer (type)                 Output Shape              Param #   \n",
      "=================================================================\n",
      "flatten (Flatten)            (None, 784)               0         \n",
      "_________________________________________________________________\n",
      "dense (Dense)                (None, 300)               235500    \n",
      "_________________________________________________________________\n",
      "dense_1 (Dense)              (None, 100)               30100     \n",
      "_________________________________________________________________\n",
      "dense_2 (Dense)              (None, 10)                1010      \n",
      "=================================================================\n",
      "Total params: 266,610\n",
      "Trainable params: 266,610\n",
      "Non-trainable params: 0\n",
      "_________________________________________________________________\n"
     ]
    }
   ],
   "source": [
    "model.summary()"
   ]
  },
  {
   "cell_type": "code",
   "execution_count": 58,
   "metadata": {},
   "outputs": [
    {
     "name": "stdout",
     "output_type": "stream",
     "text": [
      "[<tensorflow.python.keras.layers.core.Flatten object at 0x000001BE78B3F4C8>, <tensorflow.python.keras.layers.core.Dense object at 0x000001BE78B3F2C8>, <tensorflow.python.keras.layers.core.Dense object at 0x000001BE78B32A88>, <tensorflow.python.keras.layers.core.Dense object at 0x000001BE724DFD48>]\n",
      "\n",
      "\n",
      "dense\n",
      "\n",
      "\n"
     ]
    },
    {
     "data": {
      "text/plain": [
       "'dense_2'"
      ]
     },
     "execution_count": 58,
     "metadata": {},
     "output_type": "execute_result"
    }
   ],
   "source": [
    "print(model.layers)\n",
    "print(\"\\n\")\n",
    "print(model.layers[1].name)\n",
    "print(\"\\n\")\n",
    "model.get_layer('dense_2').name"
   ]
  },
  {
   "cell_type": "code",
   "execution_count": null,
   "metadata": {},
   "outputs": [],
   "source": []
  }
 ],
 "metadata": {
  "kernelspec": {
   "display_name": "Tensorflow",
   "language": "python",
   "name": "tf"
  },
  "language_info": {
   "codemirror_mode": {
    "name": "ipython",
    "version": 3
   },
   "file_extension": ".py",
   "mimetype": "text/x-python",
   "name": "python",
   "nbconvert_exporter": "python",
   "pygments_lexer": "ipython3",
   "version": "3.7.6"
  }
 },
 "nbformat": 4,
 "nbformat_minor": 2
}
