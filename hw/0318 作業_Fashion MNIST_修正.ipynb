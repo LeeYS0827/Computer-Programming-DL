{
 "cells": [
  {
   "cell_type": "code",
   "execution_count": 3,
   "metadata": {},
   "outputs": [],
   "source": [
    "%matplotlib inline\n",
    "\n",
    "import numpy as np\n",
    "import matplotlib.pyplot as plt"
   ]
  },
  {
   "cell_type": "code",
   "execution_count": 4,
   "metadata": {},
   "outputs": [
    {
     "name": "stdout",
     "output_type": "stream",
     "text": [
      "Requirement already satisfied: keras in c:\\programdata\\anaconda3\\lib\\site-packages (2.3.1)\n",
      "Requirement already satisfied: pyyaml in c:\\programdata\\anaconda3\\lib\\site-packages (from keras) (5.1.1)\n",
      "Requirement already satisfied: scipy>=0.14 in c:\\users\\user.laptop-osidbp5e\\appdata\\roaming\\python\\python37\\site-packages (from keras) (1.4.1)\n",
      "Requirement already satisfied: six>=1.9.0 in c:\\users\\user.laptop-osidbp5e\\appdata\\roaming\\python\\python37\\site-packages (from keras) (1.12.0)\n",
      "Requirement already satisfied: keras-applications>=1.0.6 in c:\\programdata\\anaconda3\\lib\\site-packages (from keras) (1.0.8)\n",
      "Requirement already satisfied: numpy>=1.9.1 in c:\\programdata\\anaconda3\\lib\\site-packages (from keras) (1.16.4)\n",
      "Requirement already satisfied: h5py in c:\\programdata\\anaconda3\\lib\\site-packages (from keras) (2.9.0)\n",
      "Requirement already satisfied: keras-preprocessing>=1.0.5 in c:\\programdata\\anaconda3\\lib\\site-packages (from keras) (1.1.0)\n",
      "Note: you may need to restart the kernel to use updated packages.\n"
     ]
    }
   ],
   "source": [
    "pip install keras"
   ]
  },
  {
   "cell_type": "code",
   "execution_count": 5,
   "metadata": {},
   "outputs": [
    {
     "name": "stdout",
     "output_type": "stream",
     "text": [
      "Requirement already satisfied: tensorflow in c:\\programdata\\anaconda3\\lib\\site-packages (1.13.1)\n",
      "Requirement already satisfied: wheel>=0.26 in c:\\programdata\\anaconda3\\lib\\site-packages (from tensorflow) (0.33.4)\n",
      "Requirement already satisfied: tensorflow-estimator<1.14.0rc0,>=1.13.0 in c:\\programdata\\anaconda3\\lib\\site-packages (from tensorflow) (1.13.0)\n",
      "Requirement already satisfied: protobuf>=3.6.1 in c:\\programdata\\anaconda3\\lib\\site-packages (from tensorflow) (3.11.3)\n",
      "Requirement already satisfied: gast>=0.2.0 in c:\\programdata\\anaconda3\\lib\\site-packages (from tensorflow) (0.2.2)\n",
      "Requirement already satisfied: astor>=0.6.0 in c:\\programdata\\anaconda3\\lib\\site-packages (from tensorflow) (0.8.1)\n",
      "Requirement already satisfied: numpy>=1.13.3 in c:\\programdata\\anaconda3\\lib\\site-packages (from tensorflow) (1.16.4)\n",
      "Requirement already satisfied: keras-preprocessing>=1.0.5 in c:\\programdata\\anaconda3\\lib\\site-packages (from tensorflow) (1.1.0)\n",
      "Requirement already satisfied: six>=1.10.0 in c:\\users\\user.laptop-osidbp5e\\appdata\\roaming\\python\\python37\\site-packages (from tensorflow) (1.12.0)\n",
      "Requirement already satisfied: grpcio>=1.8.6 in c:\\programdata\\anaconda3\\lib\\site-packages (from tensorflow) (1.27.2)\n",
      "Requirement already satisfied: keras-applications>=1.0.6 in c:\\programdata\\anaconda3\\lib\\site-packages (from tensorflow) (1.0.8)\n",
      "Requirement already satisfied: termcolor>=1.1.0 in c:\\programdata\\anaconda3\\lib\\site-packages (from tensorflow) (1.1.0)\n",
      "Requirement already satisfied: absl-py>=0.1.6 in c:\\programdata\\anaconda3\\lib\\site-packages (from tensorflow) (0.9.0)\n",
      "Requirement already satisfied: tensorboard<1.14.0,>=1.13.0 in c:\\programdata\\anaconda3\\lib\\site-packages (from tensorflow) (1.13.1)\n",
      "Requirement already satisfied: mock>=2.0.0 in c:\\programdata\\anaconda3\\lib\\site-packages (from tensorflow-estimator<1.14.0rc0,>=1.13.0->tensorflow) (3.0.5)\n",
      "Requirement already satisfied: setuptools in c:\\programdata\\anaconda3\\lib\\site-packages (from protobuf>=3.6.1->tensorflow) (41.0.1)\n",
      "Requirement already satisfied: h5py in c:\\programdata\\anaconda3\\lib\\site-packages (from keras-applications>=1.0.6->tensorflow) (2.9.0)\n",
      "Requirement already satisfied: markdown>=2.6.8 in c:\\programdata\\anaconda3\\lib\\site-packages (from tensorboard<1.14.0,>=1.13.0->tensorflow) (3.2.1)\n",
      "Requirement already satisfied: werkzeug>=0.11.15 in c:\\programdata\\anaconda3\\lib\\site-packages (from tensorboard<1.14.0,>=1.13.0->tensorflow) (0.15.4)\n",
      "Note: you may need to restart the kernel to use updated packages.\n"
     ]
    }
   ],
   "source": [
    "pip install tensorflow"
   ]
  },
  {
   "cell_type": "markdown",
   "metadata": {},
   "source": [
    "## 1.讀入 Fashion MNIST 數據集"
   ]
  },
  {
   "cell_type": "code",
   "execution_count": 6,
   "metadata": {},
   "outputs": [],
   "source": [
    "#import tensorflow as tf"
   ]
  },
  {
   "cell_type": "markdown",
   "metadata": {},
   "source": [
    "#### 終端機更新，就解除Error\n",
    "https://stackoverflow.com/questions/51724309/attributeerror-module-tensorflow-has-no-attribute-name-scope-with-keras\n",
    "* pip install --upgrade pip setuptools wheel\n",
    "* pip install -I tensorflow\n",
    "* pip install -I keras"
   ]
  },
  {
   "cell_type": "code",
   "execution_count": 7,
   "metadata": {},
   "outputs": [
    {
     "name": "stderr",
     "output_type": "stream",
     "text": [
      "Using TensorFlow backend.\n"
     ]
    }
   ],
   "source": [
    "# Error\n",
    "import tensorflow as tf\n",
    "import keras\n",
    "from tensorflow.keras.datasets import fashion_mnist"
   ]
  },
  {
   "cell_type": "code",
   "execution_count": 8,
   "metadata": {},
   "outputs": [],
   "source": [
    "# 法二(課本)\n",
    "#fashion_mnist = keras.datasets.fashion_mnist"
   ]
  },
  {
   "cell_type": "code",
   "execution_count": 9,
   "metadata": {},
   "outputs": [],
   "source": [
    "(x_train, y_train), (x_test, y_test) = fashion_mnist.load_data()"
   ]
  },
  {
   "cell_type": "code",
   "execution_count": 10,
   "metadata": {},
   "outputs": [
    {
     "data": {
      "text/plain": [
       "(60000, 28, 28)"
      ]
     },
     "execution_count": 10,
     "metadata": {},
     "output_type": "execute_result"
    }
   ],
   "source": [
    "x_train.shape #60000張圖片，每張是28x28"
   ]
  },
  {
   "cell_type": "code",
   "execution_count": 11,
   "metadata": {},
   "outputs": [
    {
     "data": {
      "text/plain": [
       "dtype('uint8')"
      ]
     },
     "execution_count": 11,
     "metadata": {},
     "output_type": "execute_result"
    }
   ],
   "source": [
    "x_train.dtype"
   ]
  },
  {
   "cell_type": "markdown",
   "metadata": {},
   "source": [
    "## 2.查看數據集內容"
   ]
  },
  {
   "cell_type": "code",
   "execution_count": 12,
   "metadata": {},
   "outputs": [
    {
     "name": "stdout",
     "output_type": "stream",
     "text": [
      "It's  1\n"
     ]
    }
   ],
   "source": [
    "n = 1996\n",
    "print(\"It's \", y_train[n])"
   ]
  },
  {
   "cell_type": "code",
   "execution_count": 13,
   "metadata": {},
   "outputs": [],
   "source": [
    "# 把數字轉換成對應的類別\n",
    "class_names = ['T-shirt/top', \"Trouser\", \"Pullover\", \"Dress\", \"Coat\", \"Sandal\", \"Shirt\", \"Sneaker\", \"Bag\", \"Ankle boot\"]"
   ]
  },
  {
   "cell_type": "code",
   "execution_count": 14,
   "metadata": {},
   "outputs": [
    {
     "name": "stdout",
     "output_type": "stream",
     "text": [
      "It's  Trouser\n"
     ]
    },
    {
     "data": {
      "text/plain": [
       "<matplotlib.image.AxesImage at 0x1b3ffbeb940>"
      ]
     },
     "execution_count": 14,
     "metadata": {},
     "output_type": "execute_result"
    },
    {
     "data": {
      "image/png": "[encoded data removed]",
      "text/plain": [
       "<Figure size 432x288 with 1 Axes>"
      ]
     },
     "metadata": {
      "needs_background": "light"
     },
     "output_type": "display_data"
    }
   ],
   "source": [
    "n = 1996\n",
    "print(\"It's \", class_names[y_train[n]])\n",
    "plt.imshow(x_train[n], cmap='Purples')"
   ]
  },
  {
   "cell_type": "markdown",
   "metadata": {},
   "source": [
    "### replace\n",
    "* replace=True: 可以从a 中反复选取同一个元素。\n",
    "* replace=False: a 中同一个元素只能被选取一次。"
   ]
  },
  {
   "cell_type": "markdown",
   "metadata": {},
   "source": [
    "### subplot\n",
    "subplot(2, 3, 3)=subplot(233)"
   ]
  },
  {
   "cell_type": "code",
   "execution_count": 15,
   "metadata": {},
   "outputs": [
    {
     "data": {
      "image/png": "[encoded data removed]",
      "text/plain": [
       "<Figure size 432x288 with 5 Axes>"
      ]
     },
     "metadata": {},
     "output_type": "display_data"
    }
   ],
   "source": [
    "import random\n",
    "pick = np.random.choice(60000, 5, replace=False) # 60000個裡面隨機選 5個出來\n",
    "\n",
    "for i in range(5):\n",
    "    n = pick[i]\n",
    "    #plt.figure(figsize = (20,20))\n",
    "    ax = plt.subplot(151+i) #151代表一列五行，i代表從左邊數來第幾個\n",
    "    ax.set_xticks([]) #橫坐標為空值\n",
    "    ax.set_yticks([]) #縱坐標為空值\n",
    "    ax.set_title(class_names[y_train[n]], fontsize=10, color='r')\n",
    "    plt.imshow(x_train[n], cmap='Greys')"
   ]
  },
  {
   "cell_type": "markdown",
   "metadata": {},
   "source": [
    "## 3.整理資料"
   ]
  },
  {
   "cell_type": "code",
   "execution_count": 16,
   "metadata": {},
   "outputs": [
    {
     "data": {
      "text/plain": [
       "array([[  0,   0,   0,   0,   0,   0,   0,   0,   0,   0,   0,  15,  22,\n",
       "          0,   0,   0,   0,  34,   0,   0,   0,   0,   0,   0,   0,   0,\n",
       "          0,   0],\n",
       "       [  0,   0,   0,   0,   0,   0,   0,   0,   0,   0, 161, 205, 196,\n",
       "        164, 209, 149, 164, 189, 130,  24,   0,   0,   0,   0,   0,   0,\n",
       "          0,   0],\n",
       "       [  0,   0,   0,   0,   0,   0,   0,   0,   0,   0, 144, 195, 188,\n",
       "        189, 211, 199, 186, 181, 170,  37,   0,   0,   0,   0,   0,   0,\n",
       "          0,   0],\n",
       "       [  0,   0,   0,   0,   0,   0,   0,   0,   0,   0, 124, 185, 209,\n",
       "        191, 167, 167, 171, 208, 191,   0,   0,   0,   0,   0,   0,   0,\n",
       "          0,   0],\n",
       "       [  0,   0,   0,   0,   0,   0,   0,   0,   0,   0, 164, 229, 219,\n",
       "        231, 214, 220, 211, 221, 191,   0,   0,   0,   0,   0,   0,   0,\n",
       "          0,   0],\n",
       "       [  0,   0,   0,   0,   0,   0,   0,   0,   0,   0, 196, 229, 211,\n",
       "        219, 209, 217, 213, 207, 205,   0,   0,   0,   0,   0,   0,   0,\n",
       "          0,   0],\n",
       "       [  0,   0,   0,   0,   0,   0,   0,   0,   0,   0, 208, 225, 205,\n",
       "        208, 215, 228, 209, 203, 209,   0,   0,   0,   0,   0,   0,   0,\n",
       "          0,   0],\n",
       "       [  0,   0,   0,   0,   0,   0,   0,   0,   0,   0, 114, 244, 208,\n",
       "        228, 208, 217, 217, 220, 209,   0,   0,   0,   0,   0,   0,   0,\n",
       "          0,   0],\n",
       "       [  0,   0,   0,   0,   0,   0,   0,   0,   0,   0,  31, 233, 214,\n",
       "        221, 213, 220, 202, 232, 156,   0,   0,   0,   0,   0,   0,   0,\n",
       "          0,   0],\n",
       "       [  0,   0,   0,   0,   0,   0,   0,   0,   0,   0,   0, 228, 213,\n",
       "        206, 215, 222, 207, 233, 105,   0,   0,   0,   0,   0,   0,   0,\n",
       "          0,   0],\n",
       "       [  0,   0,   0,   0,   0,   0,   0,   0,   0,   0,  13, 228, 214,\n",
       "        213, 208, 223, 204, 232, 112,   0,   0,   0,   0,   0,   0,   0,\n",
       "          0,   0],\n",
       "       [  0,   0,   0,   0,   0,   0,   0,   0,   0,   0,  62, 235, 213,\n",
       "        225, 220, 210, 201, 224, 167,   0,   0,   0,   0,   0,   0,   0,\n",
       "          0,   0],\n",
       "       [  0,   0,   0,   0,   0,   0,   0,   0,   0,   0, 137, 233, 208,\n",
       "        208, 218, 207, 203, 216, 215,   0,   0,   0,   0,   0,   0,   0,\n",
       "          0,   0],\n",
       "       [  0,   0,   0,   0,   0,   0,   0,   0,   0,   0, 206, 224, 206,\n",
       "        220, 217, 221, 219, 201, 247,   0,   0,   0,   0,   0,   0,   0,\n",
       "          0,   0],\n",
       "       [  0,   0,   0,   0,   0,   0,   0,   0,   0,   0, 245, 211, 213,\n",
       "        228, 207, 204, 209, 204, 248,  54,   0,   0,   0,   0,   0,   0,\n",
       "          0,   0],\n",
       "       [  0,   0,   0,   0,   0,   0,   0,   0,   0,  15, 251, 204, 219,\n",
       "        218, 204, 213, 203, 201, 243, 116,   0,   0,   0,   0,   0,   0,\n",
       "          0,   0],\n",
       "       [  0,   0,   0,   0,   0,   0,   0,   0,   0,  44, 255, 203, 203,\n",
       "        221, 213, 216, 215, 189, 228, 153,   0,   0,   0,   0,   0,   0,\n",
       "          0,   0],\n",
       "       [  0,   0,   0,   0,   0,   0,   0,   0,   0,  80, 253, 205, 199,\n",
       "        205, 217, 224, 211, 186, 210, 191,   0,   0,   0,   0,   0,   0,\n",
       "          0,   0],\n",
       "       [  0,   0,   0,   0,   0,   0,   0,   0,   0, 102, 250, 208, 206,\n",
       "        228, 207, 213, 225, 205, 221, 191,   0,   0,   0,   0,   0,   0,\n",
       "          0,   0],\n",
       "       [  0,   0,   0,   0,   0,   0,   0,   0,   0, 111, 248, 190, 213,\n",
       "        218, 214, 217, 206, 204, 205, 200,   0,   0,   0,   0,   0,   0,\n",
       "          0,   0],\n",
       "       [  0,   0,   0,   0,   0,   0,   0,   0,   0, 121, 248, 203, 215,\n",
       "        210, 215, 223, 222, 208, 199, 209,   0,   0,   0,   0,   0,   0,\n",
       "          0,   0],\n",
       "       [  0,   0,   0,   0,   0,   0,   0,   0,   0, 128, 244, 191, 221,\n",
       "        214, 211, 225, 211, 209, 209, 202,   0,   0,   0,   0,   0,   0,\n",
       "          0,   0],\n",
       "       [  0,   0,   0,   0,   0,   0,   0,   0,   0, 136, 238, 195, 228,\n",
       "        229, 223, 215, 216, 210, 220, 205,   0,   0,   0,   0,   0,   0,\n",
       "          0,   0],\n",
       "       [  0,   0,   0,   0,   0,   0,   0,   0,   0, 146, 250, 203, 220,\n",
       "        211, 220, 216, 225, 210, 208, 210,   0,   0,   0,   0,   0,   0,\n",
       "          0,   0],\n",
       "       [  0,   0,   0,   0,   0,   0,   0,   0,   0, 135, 244, 216, 222,\n",
       "        228, 219, 218, 224, 214, 224, 190,   0,   0,   0,   0,   0,   0,\n",
       "          0,   0],\n",
       "       [  0,   0,   0,   0,   0,   0,   0,   0,   0, 163, 242, 232, 233,\n",
       "        242, 225, 218, 238, 231, 233, 187,   0,   0,   0,   0,   0,   0,\n",
       "          0,   0],\n",
       "       [  0,   0,   0,   0,   0,   0,   0,   0,   0, 109, 201, 145, 229,\n",
       "        160, 217, 233, 148, 209, 192, 150,   0,   0,   0,   0,   0,   0,\n",
       "          0,   0],\n",
       "       [  0,   0,   0,   0,   0,   0,   0,   0,   0,   0,   5,   0,  36,\n",
       "          0,   0,  25,   0,  33,  16,   0,   0,   0,   0,   0,   0,   0,\n",
       "          0,   0]], dtype=uint8)"
      ]
     },
     "execution_count": 16,
     "metadata": {},
     "output_type": "execute_result"
    }
   ],
   "source": [
    "x_train\n",
    "x_test[1996]\n",
    "# 所以不用壓縮? Nope"
   ]
  },
  {
   "cell_type": "code",
   "execution_count": 17,
   "metadata": {},
   "outputs": [],
   "source": [
    "x_train = x_train/255\n",
    "x_test = x_test/255"
   ]
  },
  {
   "cell_type": "code",
   "execution_count": 18,
   "metadata": {},
   "outputs": [
    {
     "data": {
      "text/plain": [
       "array([[0.        , 0.        , 0.        , 0.        , 0.        ,\n",
       "        0.        , 0.        , 0.        , 0.        , 0.        ,\n",
       "        1.54545455, 4.2       , 3.49090909, 3.58181818, 3.4       ,\n",
       "        3.23636364, 2.90909091, 3.50909091, 1.54545455, 0.        ,\n",
       "        0.        , 0.        , 0.        , 0.        , 0.        ,\n",
       "        0.        , 0.        , 0.        ],\n",
       "       [0.        , 0.        , 0.        , 0.        , 0.        ,\n",
       "        0.        , 0.        , 0.        , 0.        , 0.        ,\n",
       "        3.01818182, 3.98181818, 3.38181818, 3.47272727, 3.2       ,\n",
       "        3.16363636, 3.        , 3.54545455, 2.70909091, 0.        ,\n",
       "        0.        , 0.        , 0.        , 0.        , 0.        ,\n",
       "        0.        , 0.        , 0.        ],\n",
       "       [0.        , 0.        , 0.        , 0.        , 0.        ,\n",
       "        0.        , 0.        , 0.        , 0.        , 0.        ,\n",
       "        4.43636364, 3.67272727, 3.6       , 3.52727273, 3.29090909,\n",
       "        3.29090909, 3.14545455, 3.29090909, 3.45454545, 0.        ,\n",
       "        0.        , 0.        , 0.        , 0.        , 0.        ,\n",
       "        0.        , 0.        , 0.        ],\n",
       "       [0.        , 0.        , 0.        , 0.        , 0.        ,\n",
       "        0.        , 0.        , 0.        , 0.        , 0.69090909,\n",
       "        4.38181818, 3.10909091, 3.16363636, 3.07272727, 3.01818182,\n",
       "        2.78181818, 2.67272727, 2.43636364, 2.8       , 0.38181818,\n",
       "        0.        , 0.        , 0.        , 0.        , 0.        ,\n",
       "        0.        , 0.        , 0.        ],\n",
       "       [0.        , 0.        , 0.        , 0.        , 0.        ,\n",
       "        0.        , 0.        , 0.        , 0.        , 1.6       ,\n",
       "        4.09090909, 2.8       , 3.01818182, 3.        , 3.09090909,\n",
       "        2.74545455, 2.72727273, 2.52727273, 2.74545455, 1.01818182,\n",
       "        0.        , 0.        , 0.        , 0.        , 0.        ,\n",
       "        0.        , 0.        , 0.        ],\n",
       "       [0.        , 0.        , 0.        , 0.        , 0.        ,\n",
       "        0.        , 0.        , 0.        , 0.        , 2.6       ,\n",
       "        3.81818182, 2.72727273, 2.94545455, 2.98181818, 3.09090909,\n",
       "        2.89090909, 2.85454545, 2.6       , 2.72727273, 1.38181818,\n",
       "        0.        , 0.        , 0.        , 0.        , 0.        ,\n",
       "        0.        , 0.        , 0.        ],\n",
       "       [0.        , 0.        , 0.        , 0.        , 0.        ,\n",
       "        0.        , 0.        , 0.        , 0.        , 3.47272727,\n",
       "        3.52727273, 2.69090909, 2.87272727, 3.01818182, 3.12727273,\n",
       "        2.90909091, 2.85454545, 2.69090909, 2.58181818, 2.07272727,\n",
       "        0.        , 0.        , 0.        , 0.        , 0.        ,\n",
       "        0.        , 0.        , 0.        ],\n",
       "       [0.        , 0.        , 0.        , 0.        , 0.        ,\n",
       "        0.        , 0.        , 0.        , 0.        , 3.78181818,\n",
       "        3.50909091, 2.74545455, 2.83636364, 2.87272727, 3.6       ,\n",
       "        3.23636364, 2.89090909, 2.8       , 2.61818182, 2.21818182,\n",
       "        0.        , 0.        , 0.        , 0.        , 0.        ,\n",
       "        0.        , 0.        , 0.        ],\n",
       "       [0.        , 0.        , 0.        , 0.        , 0.        ,\n",
       "        0.        , 0.        , 0.        , 0.        , 3.8       ,\n",
       "        3.61818182, 2.81818182, 2.8       , 2.78181818, 3.8       ,\n",
       "        3.70909091, 2.89090909, 2.83636364, 2.8       , 2.07272727,\n",
       "        0.        , 0.        , 0.        , 0.        , 0.        ,\n",
       "        0.        , 0.        , 0.        ],\n",
       "       [0.        , 0.        , 0.        , 0.        , 0.        ,\n",
       "        0.        , 0.        , 0.        , 0.        , 3.58181818,\n",
       "        3.72727273, 2.85454545, 2.81818182, 2.72727273, 1.50909091,\n",
       "        4.34545455, 3.01818182, 2.74545455, 2.81818182, 2.16363636,\n",
       "        0.        , 0.        , 0.        , 0.        , 0.        ,\n",
       "        0.        , 0.        , 0.        ],\n",
       "       [0.        , 0.        , 0.        , 0.        , 0.        ,\n",
       "        0.        , 0.        , 0.        , 0.        , 3.09090909,\n",
       "        3.98181818, 2.83636364, 2.92727273, 2.83636364, 0.30909091,\n",
       "        4.63636364, 3.36363636, 2.76363636, 2.87272727, 2.05454545,\n",
       "        0.        , 0.        , 0.        , 0.        , 0.        ,\n",
       "        0.        , 0.        , 0.        ],\n",
       "       [0.        , 0.        , 0.        , 0.        , 0.        ,\n",
       "        0.        , 0.        , 0.        , 0.        , 2.67272727,\n",
       "        4.18181818, 2.81818182, 3.05454545, 2.50909091, 0.        ,\n",
       "        4.32727273, 3.8       , 2.78181818, 2.89090909, 1.85454545,\n",
       "        0.        , 0.        , 0.        , 0.        , 0.        ,\n",
       "        0.        , 0.        , 0.        ],\n",
       "       [0.        , 0.        , 0.        , 0.        , 0.        ,\n",
       "        0.        , 0.        , 0.        , 0.        , 2.45454545,\n",
       "        4.30909091, 2.90909091, 3.10909091, 2.29090909, 0.        ,\n",
       "        3.92727273, 3.72727273, 2.74545455, 2.94545455, 1.69090909,\n",
       "        0.        , 0.        , 0.        , 0.        , 0.        ,\n",
       "        0.        , 0.        , 0.        ],\n",
       "       [0.        , 0.        , 0.        , 0.        , 0.        ,\n",
       "        0.        , 0.        , 0.        , 0.        , 2.        ,\n",
       "        4.4       , 3.07272727, 3.16363636, 2.27272727, 0.        ,\n",
       "        3.4       , 3.78181818, 2.78181818, 3.01818182, 1.56363636,\n",
       "        0.        , 0.        , 0.        , 0.        , 0.        ,\n",
       "        0.        , 0.        , 0.        ],\n",
       "       [0.        , 0.        , 0.        , 0.        , 0.        ,\n",
       "        0.        , 0.        , 0.        , 0.        , 1.81818182,\n",
       "        4.45454545, 3.14545455, 3.29090909, 2.07272727, 0.        ,\n",
       "        2.81818182, 3.85454545, 2.98181818, 3.07272727, 1.43636364,\n",
       "        0.        , 0.        , 0.        , 0.        , 0.        ,\n",
       "        0.        , 0.        , 0.        ],\n",
       "       [0.        , 0.        , 0.        , 0.        , 0.        ,\n",
       "        0.        , 0.        , 0.        , 0.        , 1.74545455,\n",
       "        4.50909091, 3.10909091, 3.43636364, 1.4       , 0.        ,\n",
       "        2.21818182, 3.92727273, 3.01818182, 3.18181818, 1.21818182,\n",
       "        0.        , 0.        , 0.        , 0.        , 0.        ,\n",
       "        0.        , 0.        , 0.        ],\n",
       "       [0.        , 0.        , 0.        , 0.        , 0.        ,\n",
       "        0.        , 0.        , 0.        , 0.        , 1.54545455,\n",
       "        4.47272727, 3.14545455, 3.49090909, 0.8       , 0.        ,\n",
       "        1.54545455, 3.94545455, 3.01818182, 3.2       , 0.87272727,\n",
       "        0.        , 0.        , 0.        , 0.        , 0.        ,\n",
       "        0.        , 0.        , 0.        ],\n",
       "       [0.        , 0.        , 0.        , 0.        , 0.        ,\n",
       "        0.        , 0.        , 0.        , 0.        , 1.4       ,\n",
       "        4.38181818, 3.10909091, 3.45454545, 0.14545455, 0.        ,\n",
       "        0.2       , 3.74545455, 3.2       , 3.27272727, 0.58181818,\n",
       "        0.        , 0.        , 0.        , 0.        , 0.        ,\n",
       "        0.        , 0.        , 0.        ],\n",
       "       [0.        , 0.        , 0.        , 0.        , 0.        ,\n",
       "        0.        , 0.        , 0.        , 0.        , 1.4       ,\n",
       "        4.34545455, 3.12727273, 3.32727273, 0.        , 0.        ,\n",
       "        0.        , 3.56363636, 3.4       , 3.32727273, 0.41818182,\n",
       "        0.        , 0.        , 0.        , 0.        , 0.        ,\n",
       "        0.        , 0.        , 0.        ],\n",
       "       [0.        , 0.        , 0.        , 0.        , 0.        ,\n",
       "        0.        , 0.        , 0.        , 0.        , 1.43636364,\n",
       "        3.76363636, 3.14545455, 3.18181818, 0.        , 0.        ,\n",
       "        0.        , 3.4       , 3.56363636, 3.36363636, 0.50909091,\n",
       "        0.        , 0.        , 0.        , 0.        , 0.        ,\n",
       "        0.        , 0.        , 0.        ],\n",
       "       [0.        , 0.        , 0.        , 0.        , 0.        ,\n",
       "        0.        , 0.        , 0.        , 0.        , 1.29090909,\n",
       "        3.74545455, 3.2       , 3.09090909, 0.        , 0.        ,\n",
       "        0.        , 3.34545455, 3.54545455, 3.27272727, 0.61818182,\n",
       "        0.        , 0.        , 0.        , 0.        , 0.        ,\n",
       "        0.        , 0.        , 0.        ],\n",
       "       [0.        , 0.        , 0.        , 0.        , 0.        ,\n",
       "        0.        , 0.        , 0.        , 0.        , 0.92727273,\n",
       "        3.69090909, 3.2       , 3.03636364, 0.        , 0.        ,\n",
       "        0.        , 3.36363636, 3.43636364, 3.14545455, 0.38181818,\n",
       "        0.        , 0.        , 0.        , 0.        , 0.        ,\n",
       "        0.        , 0.        , 0.        ],\n",
       "       [0.        , 0.        , 0.        , 0.        , 0.        ,\n",
       "        0.        , 0.        , 0.        , 0.        , 0.52727273,\n",
       "        3.6       , 3.21818182, 3.03636364, 0.        , 0.        ,\n",
       "        0.        , 3.18181818, 3.4       , 3.16363636, 0.        ,\n",
       "        0.        , 0.        , 0.        , 0.        , 0.        ,\n",
       "        0.        , 0.        , 0.        ],\n",
       "       [0.        , 0.        , 0.        , 0.        , 0.        ,\n",
       "        0.        , 0.        , 0.        , 0.        , 0.23636364,\n",
       "        3.47272727, 3.21818182, 2.94545455, 0.        , 0.        ,\n",
       "        0.        , 3.21818182, 3.43636364, 3.05454545, 0.        ,\n",
       "        0.        , 0.        , 0.        , 0.        , 0.        ,\n",
       "        0.        , 0.        , 0.        ],\n",
       "       [0.        , 0.        , 0.        , 0.        , 0.        ,\n",
       "        0.        , 0.        , 0.        , 0.        , 0.        ,\n",
       "        3.27272727, 3.47272727, 2.87272727, 0.        , 0.        ,\n",
       "        0.        , 3.07272727, 3.72727273, 2.49090909, 0.        ,\n",
       "        0.        , 0.        , 0.        , 0.        , 0.        ,\n",
       "        0.        , 0.        , 0.        ],\n",
       "       [0.        , 0.        , 0.        , 0.        , 0.        ,\n",
       "        0.        , 0.        , 0.        , 0.        , 0.        ,\n",
       "        2.61818182, 3.89090909, 2.18181818, 0.        , 0.07272727,\n",
       "        0.        , 2.45454545, 3.94545455, 2.03636364, 0.        ,\n",
       "        0.        , 0.        , 0.        , 0.        , 0.        ,\n",
       "        0.        , 0.        , 0.        ],\n",
       "       [0.        , 0.        , 0.        , 0.        , 0.        ,\n",
       "        0.        , 0.        , 0.        , 0.        , 0.        ,\n",
       "        2.27272727, 4.47272727, 2.29090909, 0.        , 0.07272727,\n",
       "        0.        , 2.58181818, 4.30909091, 1.94545455, 0.        ,\n",
       "        0.        , 0.        , 0.        , 0.        , 0.        ,\n",
       "        0.        , 0.        , 0.        ],\n",
       "       [0.        , 0.        , 0.        , 0.        , 0.        ,\n",
       "        0.        , 0.        , 0.        , 0.        , 0.        ,\n",
       "        0.54545455, 2.69090909, 1.03636364, 0.        , 0.        ,\n",
       "        0.        , 1.        , 1.96363636, 0.16363636, 0.        ,\n",
       "        0.        , 0.        , 0.        , 0.        , 0.        ,\n",
       "        0.        , 0.        , 0.        ]])"
      ]
     },
     "execution_count": 18,
     "metadata": {},
     "output_type": "execute_result"
    }
   ],
   "source": [
    "x_train[1996]"
   ]
  },
  {
   "cell_type": "markdown",
   "metadata": {},
   "source": [
    "## 4.打造神經網路"
   ]
  },
  {
   "cell_type": "code",
   "execution_count": 19,
   "metadata": {},
   "outputs": [
    {
     "name": "stdout",
     "output_type": "stream",
     "text": [
      "WARNING:tensorflow:From C:\\ProgramData\\Anaconda3\\lib\\site-packages\\tensorflow\\python\\ops\\resource_variable_ops.py:435: colocate_with (from tensorflow.python.framework.ops) is deprecated and will be removed in a future version.\n",
      "Instructions for updating:\n",
      "Colocations handled automatically by placer.\n"
     ]
    }
   ],
   "source": [
    "model = keras.models.Sequential([\n",
    "    keras.layers.Flatten(input_shape=[28, 28]),\n",
    "    keras.layers.Dense(300, activation='relu'),\n",
    "    keras.layers.Dense(100, activation=\"relu\"),\n",
    "    keras.layers.Dense(10, activation='softmax')\n",
    "])"
   ]
  },
  {
   "cell_type": "code",
   "execution_count": 20,
   "metadata": {},
   "outputs": [
    {
     "name": "stdout",
     "output_type": "stream",
     "text": [
      "Model: \"sequential_1\"\n",
      "_________________________________________________________________\n",
      "Layer (type)                 Output Shape              Param #   \n",
      "=================================================================\n",
      "flatten_1 (Flatten)          (None, 784)               0         \n",
      "_________________________________________________________________\n",
      "dense_1 (Dense)              (None, 300)               235500    \n",
      "_________________________________________________________________\n",
      "dense_2 (Dense)              (None, 100)               30100     \n",
      "_________________________________________________________________\n",
      "dense_3 (Dense)              (None, 10)                1010      \n",
      "=================================================================\n",
      "Total params: 266,610\n",
      "Trainable params: 266,610\n",
      "Non-trainable params: 0\n",
      "_________________________________________________________________\n"
     ]
    }
   ],
   "source": [
    "model.summary()\n",
    "# 235500 = 784 * 300 + 300"
   ]
  },
  {
   "cell_type": "code",
   "execution_count": 21,
   "metadata": {},
   "outputs": [
    {
     "data": {
      "text/plain": [
       "[<keras.layers.core.Flatten at 0x1b3ffd92940>,\n",
       " <keras.layers.core.Dense at 0x1b3ffc5b588>,\n",
       " <keras.layers.core.Dense at 0x1b3ffd92d30>,\n",
       " <keras.layers.core.Dense at 0x1b3ffd92eb8>]"
      ]
     },
     "execution_count": 21,
     "metadata": {},
     "output_type": "execute_result"
    }
   ],
   "source": [
    "model.layers"
   ]
  },
  {
   "cell_type": "code",
   "execution_count": 22,
   "metadata": {},
   "outputs": [
    {
     "data": {
      "text/plain": [
       "'dense_2'"
      ]
     },
     "execution_count": 22,
     "metadata": {},
     "output_type": "execute_result"
    }
   ],
   "source": [
    "model.layers[2].name"
   ]
  },
  {
   "cell_type": "code",
   "execution_count": 23,
   "metadata": {},
   "outputs": [
    {
     "data": {
      "text/plain": [
       "'dense_3'"
      ]
     },
     "execution_count": 23,
     "metadata": {},
     "output_type": "execute_result"
    }
   ],
   "source": [
    "model.get_layer('dense_3').name"
   ]
  },
  {
   "cell_type": "code",
   "execution_count": 24,
   "metadata": {},
   "outputs": [
    {
     "ename": "ValueError",
     "evalue": "too many values to unpack (expected 2)",
     "output_type": "error",
     "traceback": [
      "\u001b[1;31m---------------------------------------------------------------------------\u001b[0m",
      "\u001b[1;31mValueError\u001b[0m                                Traceback (most recent call last)",
      "\u001b[1;32m<ipython-input-24-4d7e9d5cde05>\u001b[0m in \u001b[0;36m<module>\u001b[1;34m\u001b[0m\n\u001b[0;32m      1\u001b[0m \u001b[1;31m#Error\u001b[0m\u001b[1;33m\u001b[0m\u001b[1;33m\u001b[0m\u001b[1;33m\u001b[0m\u001b[0m\n\u001b[1;32m----> 2\u001b[1;33m \u001b[0mweights\u001b[0m\u001b[1;33m,\u001b[0m \u001b[0mbiases\u001b[0m \u001b[1;33m=\u001b[0m \u001b[0mmodel\u001b[0m\u001b[1;33m.\u001b[0m\u001b[0mget_weights\u001b[0m\u001b[1;33m(\u001b[0m\u001b[1;33m)\u001b[0m\u001b[1;33m\u001b[0m\u001b[1;33m\u001b[0m\u001b[0m\n\u001b[0m",
      "\u001b[1;31mValueError\u001b[0m: too many values to unpack (expected 2)"
     ]
    }
   ],
   "source": [
    "#Error\n",
    "weights, biases = model.get_weights()"
   ]
  },
  {
   "cell_type": "code",
   "execution_count": 25,
   "metadata": {},
   "outputs": [],
   "source": [
    "# 直接调出所有weights和bias\n",
    "weights = model.get_weights()"
   ]
  },
  {
   "cell_type": "code",
   "execution_count": 26,
   "metadata": {},
   "outputs": [
    {
     "data": {
      "text/plain": [
       "array([0., 0., 0., 0., 0., 0., 0., 0., 0., 0.], dtype=float32)"
      ]
     },
     "execution_count": 26,
     "metadata": {},
     "output_type": "execute_result"
    }
   ],
   "source": [
    "model.get_weights()[5] #dense_3的weights"
   ]
  },
  {
   "cell_type": "code",
   "execution_count": 27,
   "metadata": {},
   "outputs": [
    {
     "data": {
      "text/plain": [
       "[array([[-0.05975816,  0.0052042 ,  0.02269877, ...,  0.02061737,\n",
       "          0.01084843,  0.06260423],\n",
       "        [ 0.01950924, -0.00240428, -0.06253319, ..., -0.01455341,\n",
       "          0.00639329,  0.01236635],\n",
       "        [-0.00354815, -0.00038905,  0.00412813, ..., -0.04958449,\n",
       "          0.04908142,  0.00246461],\n",
       "        ...,\n",
       "        [-0.01613045, -0.02061715,  0.02782463, ...,  0.02644542,\n",
       "         -0.01507329, -0.03143043],\n",
       "        [-0.07206679, -0.00186104,  0.01269925, ...,  0.03385284,\n",
       "          0.02435397,  0.00576384],\n",
       "        [-0.01729274, -0.0069157 , -0.0085312 , ...,  0.0303729 ,\n",
       "         -0.04095706, -0.02549682]], dtype=float32),\n",
       " array([0., 0., 0., 0., 0., 0., 0., 0., 0., 0., 0., 0., 0., 0., 0., 0., 0.,\n",
       "        0., 0., 0., 0., 0., 0., 0., 0., 0., 0., 0., 0., 0., 0., 0., 0., 0.,\n",
       "        0., 0., 0., 0., 0., 0., 0., 0., 0., 0., 0., 0., 0., 0., 0., 0., 0.,\n",
       "        0., 0., 0., 0., 0., 0., 0., 0., 0., 0., 0., 0., 0., 0., 0., 0., 0.,\n",
       "        0., 0., 0., 0., 0., 0., 0., 0., 0., 0., 0., 0., 0., 0., 0., 0., 0.,\n",
       "        0., 0., 0., 0., 0., 0., 0., 0., 0., 0., 0., 0., 0., 0., 0., 0., 0.,\n",
       "        0., 0., 0., 0., 0., 0., 0., 0., 0., 0., 0., 0., 0., 0., 0., 0., 0.,\n",
       "        0., 0., 0., 0., 0., 0., 0., 0., 0., 0., 0., 0., 0., 0., 0., 0., 0.,\n",
       "        0., 0., 0., 0., 0., 0., 0., 0., 0., 0., 0., 0., 0., 0., 0., 0., 0.,\n",
       "        0., 0., 0., 0., 0., 0., 0., 0., 0., 0., 0., 0., 0., 0., 0., 0., 0.,\n",
       "        0., 0., 0., 0., 0., 0., 0., 0., 0., 0., 0., 0., 0., 0., 0., 0., 0.,\n",
       "        0., 0., 0., 0., 0., 0., 0., 0., 0., 0., 0., 0., 0., 0., 0., 0., 0.,\n",
       "        0., 0., 0., 0., 0., 0., 0., 0., 0., 0., 0., 0., 0., 0., 0., 0., 0.,\n",
       "        0., 0., 0., 0., 0., 0., 0., 0., 0., 0., 0., 0., 0., 0., 0., 0., 0.,\n",
       "        0., 0., 0., 0., 0., 0., 0., 0., 0., 0., 0., 0., 0., 0., 0., 0., 0.,\n",
       "        0., 0., 0., 0., 0., 0., 0., 0., 0., 0., 0., 0., 0., 0., 0., 0., 0.,\n",
       "        0., 0., 0., 0., 0., 0., 0., 0., 0., 0., 0., 0., 0., 0., 0., 0., 0.,\n",
       "        0., 0., 0., 0., 0., 0., 0., 0., 0., 0., 0.], dtype=float32),\n",
       " array([[ 0.04310506,  0.01945839, -0.02303507, ...,  0.10741851,\n",
       "         -0.08324376, -0.04709331],\n",
       "        [ 0.06354643, -0.01867031,  0.01871873, ..., -0.0080438 ,\n",
       "          0.1205148 ,  0.06989344],\n",
       "        [ 0.07611942, -0.01496869,  0.02509955, ...,  0.00232483,\n",
       "         -0.03556367,  0.0543591 ],\n",
       "        ...,\n",
       "        [-0.06958616,  0.05163474,  0.00206495, ...,  0.07260213,\n",
       "         -0.07276461, -0.10038568],\n",
       "        [-0.06311315, -0.03272702,  0.03847799, ...,  0.04979699,\n",
       "          0.02205897,  0.01692683],\n",
       "        [-0.07311182,  0.02956172, -0.08898461, ...,  0.01297273,\n",
       "          0.03532628, -0.12040433]], dtype=float32),\n",
       " array([0., 0., 0., 0., 0., 0., 0., 0., 0., 0., 0., 0., 0., 0., 0., 0., 0.,\n",
       "        0., 0., 0., 0., 0., 0., 0., 0., 0., 0., 0., 0., 0., 0., 0., 0., 0.,\n",
       "        0., 0., 0., 0., 0., 0., 0., 0., 0., 0., 0., 0., 0., 0., 0., 0., 0.,\n",
       "        0., 0., 0., 0., 0., 0., 0., 0., 0., 0., 0., 0., 0., 0., 0., 0., 0.,\n",
       "        0., 0., 0., 0., 0., 0., 0., 0., 0., 0., 0., 0., 0., 0., 0., 0., 0.,\n",
       "        0., 0., 0., 0., 0., 0., 0., 0., 0., 0., 0., 0., 0., 0., 0.],\n",
       "       dtype=float32),\n",
       " array([[ 1.34904981e-01,  1.91627443e-01, -1.96552843e-01,\n",
       "          2.24344909e-01,  1.47477150e-01, -2.23277479e-01,\n",
       "         -3.87729704e-03,  1.44873112e-01, -1.71741843e-03,\n",
       "          8.04560483e-02],\n",
       "        [ 1.32586807e-01,  1.19553000e-01, -1.96067125e-01,\n",
       "          5.97057045e-02,  1.92082524e-02, -3.19183171e-02,\n",
       "         -2.23481208e-01, -1.62376314e-01, -1.10274293e-01,\n",
       "          1.33900702e-01],\n",
       "        [ 1.36093080e-01,  2.63656974e-02, -2.27594152e-01,\n",
       "         -1.92229703e-01,  2.31060177e-01,  1.76546544e-01,\n",
       "          3.38321328e-02,  1.42016411e-01,  2.03258485e-01,\n",
       "         -4.75432873e-02],\n",
       "        [ 1.76260471e-02, -1.47108257e-01,  7.41934180e-02,\n",
       "         -9.33209509e-02, -5.96564263e-02,  2.14479625e-01,\n",
       "          1.73634559e-01,  2.61743367e-02, -8.61432403e-02,\n",
       "         -8.75836909e-02],\n",
       "        [ 5.47102094e-02,  2.23834753e-01, -1.62879080e-01,\n",
       "          9.43395495e-02, -7.25516677e-03,  1.37654483e-01,\n",
       "          1.30340606e-02, -7.78464228e-02, -1.77033588e-01,\n",
       "         -2.02194929e-01],\n",
       "        [-2.13610530e-01,  6.92738593e-02, -5.01365960e-03,\n",
       "         -1.48880482e-01, -1.01169854e-01, -9.20080692e-02,\n",
       "         -4.97726053e-02,  6.13062978e-02, -1.18970737e-01,\n",
       "         -1.53949142e-01],\n",
       "        [-2.02705100e-01,  5.03706336e-02, -2.31435642e-01,\n",
       "          6.34739101e-02,  2.30633914e-01,  1.49205774e-01,\n",
       "         -1.64950460e-01,  1.83730632e-01,  1.32239223e-01,\n",
       "          1.76173061e-01],\n",
       "        [-7.10725784e-02, -2.13709429e-01, -3.42075378e-02,\n",
       "         -2.14534029e-01,  1.96971118e-01, -2.19414324e-01,\n",
       "          1.71059579e-01, -1.95758581e-01, -1.37694180e-01,\n",
       "          2.08684742e-01],\n",
       "        [-7.48081058e-02,  1.59661025e-01,  1.70609653e-01,\n",
       "         -8.88937861e-02,  9.87942815e-02,  1.10447854e-01,\n",
       "         -1.72261804e-01,  1.95237547e-01, -8.07219744e-03,\n",
       "         -1.67076483e-01],\n",
       "        [ 1.51570112e-01,  8.60844254e-02, -1.37756884e-01,\n",
       "          2.19428688e-01, -2.31924593e-01, -1.87089980e-01,\n",
       "          9.41826403e-03, -4.71546799e-02,  2.06705004e-01,\n",
       "         -4.80664819e-02],\n",
       "        [ 1.33252770e-01, -3.06412280e-02, -1.50949687e-01,\n",
       "         -1.08490840e-01,  1.18286848e-01, -2.03669578e-01,\n",
       "          5.05358279e-02,  1.91384315e-01,  8.98336470e-02,\n",
       "          1.78923517e-01],\n",
       "        [ 1.99697137e-01, -1.86474919e-02,  1.26637459e-01,\n",
       "         -1.51440084e-01,  2.17949361e-01, -9.69174355e-02,\n",
       "         -1.23586662e-01,  1.30961478e-01, -1.45738080e-01,\n",
       "          2.17104882e-01],\n",
       "        [ 1.78778619e-01, -2.31598675e-01,  2.24691927e-01,\n",
       "          1.57455802e-01, -1.17993124e-01,  4.32887077e-02,\n",
       "         -1.25179514e-01,  1.15969658e-01,  2.27466911e-01,\n",
       "         -1.80835158e-01],\n",
       "        [ 4.98199463e-02,  2.04964250e-01,  1.67776078e-01,\n",
       "          3.95919383e-02, -4.01075035e-02, -1.26544684e-01,\n",
       "         -2.17707038e-01, -8.15711468e-02,  1.31786913e-01,\n",
       "          3.54490280e-02],\n",
       "        [ 1.38273060e-01, -2.16639772e-01,  6.43456876e-02,\n",
       "         -1.18796118e-01, -2.97403485e-02,  2.21409202e-01,\n",
       "         -6.04550838e-02,  8.31448436e-02, -4.19702977e-02,\n",
       "         -1.89490736e-01],\n",
       "        [ 4.38053310e-02,  9.42366421e-02,  1.66833252e-01,\n",
       "         -2.05697119e-03, -1.13348305e-01,  9.93914008e-02,\n",
       "          1.27098829e-01,  1.88965589e-01, -1.21106334e-01,\n",
       "          1.74758613e-01],\n",
       "        [-1.67152762e-01,  1.50869578e-01, -1.03341475e-01,\n",
       "          1.73117042e-01, -2.31695175e-02, -8.81708711e-02,\n",
       "          1.92098111e-01, -1.03569835e-01, -1.35491759e-01,\n",
       "         -1.98360190e-01],\n",
       "        [ 5.17510176e-02, -1.26876712e-01, -3.50682288e-02,\n",
       "          3.71784270e-02,  1.37207299e-01,  7.26332664e-02,\n",
       "          1.65379614e-01, -3.60995233e-02, -7.57230818e-02,\n",
       "         -1.80818275e-01],\n",
       "        [ 1.12278849e-01, -1.43219724e-01, -1.13724552e-01,\n",
       "         -4.51777875e-02,  1.40646577e-01,  5.56366444e-02,\n",
       "          1.94694102e-01,  1.26392573e-01,  1.26389414e-02,\n",
       "         -1.75254911e-01],\n",
       "        [ 1.71235502e-02,  8.01553726e-02, -1.56928450e-01,\n",
       "          1.16913050e-01, -1.32996351e-01, -1.49379790e-01,\n",
       "         -1.40987471e-01,  6.09689355e-02,  1.04378909e-01,\n",
       "         -1.12814583e-01],\n",
       "        [-2.09827960e-01,  2.47141719e-02,  1.44085258e-01,\n",
       "          7.04028904e-02,  1.39789671e-01,  6.62526488e-02,\n",
       "         -1.29551157e-01,  1.66920573e-01, -2.62568444e-02,\n",
       "          1.53057545e-01],\n",
       "        [-1.24948487e-01,  1.87388808e-01, -1.89901501e-01,\n",
       "          2.16594338e-03,  2.30319858e-01, -8.55737180e-02,\n",
       "         -2.09300146e-01,  6.37871325e-02, -3.71905118e-02,\n",
       "         -4.03984934e-02],\n",
       "        [-1.62693650e-01,  1.78232789e-04,  1.11877382e-01,\n",
       "          1.68611646e-01, -1.76820710e-01,  2.02053338e-01,\n",
       "          2.28043020e-01, -1.48659647e-01, -8.31552595e-02,\n",
       "         -5.33081144e-02],\n",
       "        [-1.88950941e-01, -5.79475313e-02,  1.95816815e-01,\n",
       "         -1.88964367e-01, -2.61709243e-02, -1.40299737e-01,\n",
       "          1.78273350e-01, -2.26505727e-01,  1.58410281e-01,\n",
       "          8.86408687e-02],\n",
       "        [-1.90359205e-02, -2.31578305e-01, -1.62316233e-01,\n",
       "          1.79311603e-01,  8.81212056e-02,  1.12059146e-01,\n",
       "         -1.37988627e-01, -4.53057438e-02,  1.40437096e-01,\n",
       "          1.58981681e-01],\n",
       "        [ 2.17805922e-01,  6.73872232e-02, -1.75455272e-01,\n",
       "          1.19089276e-01, -1.40929163e-01,  1.47106826e-01,\n",
       "          5.00087440e-02,  1.46380216e-01, -1.01270646e-01,\n",
       "         -1.22905888e-01],\n",
       "        [-1.13194898e-01, -2.13300437e-01,  3.96986902e-02,\n",
       "          1.05887175e-01,  1.14237428e-01,  1.51081383e-01,\n",
       "         -1.86273843e-01, -6.74505979e-02, -1.17752798e-01,\n",
       "         -3.37861329e-02],\n",
       "        [-1.93754345e-01, -1.83347940e-01, -1.69997752e-01,\n",
       "          1.58012211e-02,  1.63981974e-01, -1.86048210e-01,\n",
       "         -5.63528836e-02,  3.18989456e-02,  1.68625027e-01,\n",
       "          1.89600825e-01],\n",
       "        [-3.95171493e-02,  6.51865304e-02, -1.18689597e-01,\n",
       "         -1.11683160e-02,  2.00939804e-01,  2.22623944e-02,\n",
       "          2.03213245e-01,  2.00596124e-01, -1.07146710e-01,\n",
       "         -7.16908872e-02],\n",
       "        [ 1.92793995e-01, -1.95727006e-01, -3.35200876e-02,\n",
       "         -5.34450859e-02, -9.68280584e-02, -9.05566365e-02,\n",
       "          6.52040243e-02, -2.24434167e-01,  2.10601687e-02,\n",
       "         -9.39670950e-02],\n",
       "        [ 1.27968103e-01, -8.54792297e-02, -5.82968295e-02,\n",
       "          2.01695174e-01, -9.55252051e-02, -1.35858655e-01,\n",
       "          3.52863371e-02, -2.73937732e-02, -6.30126894e-02,\n",
       "          2.07048953e-01],\n",
       "        [-2.16424912e-02,  2.22732067e-01, -2.11988330e-01,\n",
       "         -1.61894262e-02,  2.28737384e-01, -4.16952372e-02,\n",
       "         -1.30523041e-01,  5.16265631e-02,  1.53500140e-02,\n",
       "         -7.90998340e-03],\n",
       "        [-6.52582645e-02, -5.96628338e-02,  1.52518451e-01,\n",
       "          1.55130357e-01,  2.09758848e-01,  1.26500756e-01,\n",
       "         -1.10490173e-01,  8.01183879e-02, -3.48174274e-02,\n",
       "          1.69496179e-01],\n",
       "        [-7.43086934e-02, -1.38218641e-01, -1.53578907e-01,\n",
       "          2.23426133e-01,  1.35129154e-01,  1.68793470e-01,\n",
       "         -1.78959593e-01,  1.27079695e-01,  2.08836854e-01,\n",
       "          1.79266244e-01],\n",
       "        [-3.38255614e-02,  1.18903637e-01, -1.69622630e-01,\n",
       "         -4.68857884e-02, -1.61334828e-01, -9.28964168e-02,\n",
       "          4.17361557e-02,  1.85431182e-01, -7.72508383e-02,\n",
       "          1.95682406e-01],\n",
       "        [ 7.70096183e-02, -2.17578530e-01,  1.94849342e-01,\n",
       "         -1.00528941e-01,  7.75416195e-02, -2.29408890e-02,\n",
       "         -1.70869634e-01,  6.77134097e-02, -2.08162934e-01,\n",
       "          5.55091202e-02],\n",
       "        [ 2.16610610e-01,  1.64979309e-01,  2.08043844e-01,\n",
       "          4.94024754e-02, -2.23247513e-01,  1.30612850e-01,\n",
       "          2.15887338e-01,  1.58637792e-01,  2.08300292e-01,\n",
       "         -1.18707031e-01],\n",
       "        [ 7.49101043e-02, -1.72209412e-01, -1.60048068e-01,\n",
       "          5.55095673e-02, -1.93008691e-01,  2.31679469e-01,\n",
       "          1.38844967e-01, -1.99331567e-01,  3.37487161e-02,\n",
       "          1.79529935e-01],\n",
       "        [ 6.31075799e-02, -3.02305818e-02, -2.45756805e-02,\n",
       "          4.43206131e-02, -1.97685480e-01,  8.43273103e-02,\n",
       "          1.81213498e-01,  1.85975194e-01,  1.25898331e-01,\n",
       "          1.82170689e-01],\n",
       "        [-1.41893595e-01,  1.80822730e-01, -1.28775507e-01,\n",
       "         -4.02683020e-02, -9.64024216e-02,  1.12172574e-01,\n",
       "         -1.87799037e-01,  2.01121271e-01, -1.19663209e-01,\n",
       "         -1.47973016e-01],\n",
       "        [-7.49112219e-02, -2.27107987e-01, -1.37216896e-02,\n",
       "         -2.25561410e-01, -1.95964277e-02, -2.26731747e-01,\n",
       "         -1.29325643e-01, -2.24150628e-01, -1.38198763e-01,\n",
       "         -1.78548038e-01],\n",
       "        [ 1.19897842e-01, -2.28562757e-01,  3.54124010e-02,\n",
       "          1.15236938e-01,  1.87697530e-01,  2.27899075e-01,\n",
       "         -6.32563084e-02,  1.34113014e-01, -2.20186248e-01,\n",
       "          1.35443717e-01],\n",
       "        [ 9.92803276e-03,  1.35804027e-01, -1.79996729e-01,\n",
       "          9.76661444e-02,  7.89889693e-02,  1.03662431e-01,\n",
       "          1.60532296e-02,  1.53748184e-01,  9.90425646e-02,\n",
       "          4.67464328e-02],\n",
       "        [-8.56469423e-02, -8.77840370e-02,  5.77300191e-02,\n",
       "         -1.99221075e-02, -1.28752112e-01,  3.98281813e-02,\n",
       "          1.22709841e-01,  1.85947418e-02, -1.29237056e-01,\n",
       "         -1.61371201e-01],\n",
       "        [-4.53769565e-02,  1.66110665e-01, -7.48103261e-02,\n",
       "         -1.80026695e-01,  7.24583566e-02, -1.88001826e-01,\n",
       "          2.22700268e-01, -1.97061941e-01,  1.93941504e-01,\n",
       "         -1.48580670e-01],\n",
       "        [ 2.28158832e-01,  2.28824854e-01, -1.15017891e-02,\n",
       "         -8.44468176e-02,  1.28350794e-01, -7.60984868e-02,\n",
       "          1.91345304e-01, -8.78077000e-02,  1.93573862e-01,\n",
       "         -1.57578975e-01],\n",
       "        [-5.64149767e-02, -2.43935436e-02,  4.78643179e-02,\n",
       "         -1.20716557e-01, -1.90099224e-01, -1.09759390e-01,\n",
       "          9.50178206e-02, -1.84083670e-01,  5.02879918e-02,\n",
       "         -2.24566251e-01],\n",
       "        [ 1.49250805e-01, -2.28582516e-01,  1.89426750e-01,\n",
       "         -2.18673244e-01,  1.21482641e-01, -3.83036584e-02,\n",
       "         -1.93926573e-01,  1.22974157e-01,  4.06453907e-02,\n",
       "         -1.96380720e-01],\n",
       "        [ 7.15593696e-02,  7.90017843e-02, -1.44203022e-01,\n",
       "         -2.25385278e-01,  5.50836027e-02,  2.32641786e-01,\n",
       "         -1.25598371e-01,  9.34927762e-02, -1.49553120e-01,\n",
       "         -1.03221089e-02],\n",
       "        [ 1.83887184e-02,  2.31149167e-01, -1.78481668e-01,\n",
       "         -1.36965245e-01, -1.43627316e-01, -4.99715507e-02,\n",
       "         -2.08266899e-01,  2.26528496e-01,  3.66461575e-02,\n",
       "         -3.15001905e-02],\n",
       "        [ 2.22264171e-01,  1.60198063e-01, -1.74297348e-01,\n",
       "         -2.78919935e-03, -1.59867644e-01, -1.80918276e-02,\n",
       "          5.39892912e-02,  1.77610725e-01,  2.13205934e-01,\n",
       "         -1.34556413e-01],\n",
       "        [-3.04317623e-02,  1.50281459e-01, -5.22707403e-02,\n",
       "          7.68287182e-02,  5.57221174e-02, -7.47357756e-02,\n",
       "         -2.74939388e-02, -3.79045755e-02, -1.59839973e-01,\n",
       "         -3.11740637e-02],\n",
       "        [ 1.61109269e-01,  1.66534483e-01,  1.17804199e-01,\n",
       "         -3.93555611e-02, -1.28483668e-01, -2.93245018e-02,\n",
       "          1.23087853e-01, -6.27885759e-02,  2.26159662e-01,\n",
       "         -1.61642313e-01],\n",
       "        [-2.08282709e-01,  1.56502247e-01,  1.37500137e-01,\n",
       "          1.52971745e-01,  1.14111096e-01, -8.42973590e-03,\n",
       "         -6.76596910e-02,  4.06324267e-02,  6.98261857e-02,\n",
       "          9.12878215e-02],\n",
       "        [ 1.92438781e-01,  4.43159342e-02,  9.45446789e-02,\n",
       "         -6.91297650e-02,  1.48006380e-01,  2.95757353e-02,\n",
       "          3.79208326e-02,  1.52821809e-01, -2.22426310e-01,\n",
       "         -2.28150591e-01],\n",
       "        [ 2.01006830e-01,  1.97309732e-01, -1.91811413e-01,\n",
       "         -9.79397595e-02, -2.17751414e-01,  1.59108877e-01,\n",
       "          1.63317531e-01,  1.24245286e-01, -8.74675363e-02,\n",
       "          1.47847563e-01],\n",
       "        [-9.27912891e-02,  6.21932745e-02, -3.64616811e-02,\n",
       "         -7.87666887e-02,  2.31054932e-01, -2.13395759e-01,\n",
       "         -1.61988825e-01, -5.10692298e-02,  2.00255275e-01,\n",
       "          3.57184708e-02],\n",
       "        [-1.10576481e-01,  1.89914763e-01, -4.69899178e-02,\n",
       "         -3.75427604e-02,  2.07390517e-01,  3.10009420e-02,\n",
       "         -7.73429424e-02, -2.19949484e-02,  1.53869510e-01,\n",
       "          2.21234769e-01],\n",
       "        [-5.66867143e-02, -4.62266803e-02,  2.04296112e-01,\n",
       "          1.70377523e-01, -1.01304933e-01, -5.04181236e-02,\n",
       "         -4.42142040e-02,  5.26929200e-02, -1.98693275e-02,\n",
       "         -4.17453051e-03],\n",
       "        [ 1.05388165e-02,  8.87585878e-02, -3.58540118e-02,\n",
       "         -1.60165429e-02,  3.72853279e-02, -1.76447421e-01,\n",
       "          1.41642958e-01, -2.24159598e-01, -2.21300125e-01,\n",
       "         -1.36453405e-01],\n",
       "        [ 1.47883981e-01,  1.61314547e-01,  1.13013983e-02,\n",
       "         -1.39565781e-01,  1.00436509e-01, -1.09528363e-01,\n",
       "         -9.36376154e-02,  3.30066383e-02, -6.84924722e-02,\n",
       "          7.26659894e-02],\n",
       "        [ 9.21537280e-02, -1.98973417e-02,  1.13448977e-01,\n",
       "          1.70380563e-01,  1.67394370e-01,  1.16249263e-01,\n",
       "          1.46385849e-01,  1.54062808e-01,  1.58238053e-01,\n",
       "         -1.23172700e-02],\n",
       "        [ 7.17352629e-02,  7.82764554e-02, -1.51514769e-01,\n",
       "         -2.14776024e-01, -6.67569041e-02, -2.84601450e-02,\n",
       "          1.67634755e-01,  1.39281899e-01,  1.48320198e-01,\n",
       "         -2.03033566e-01],\n",
       "        [ 1.69973254e-01, -2.60827243e-02,  1.06639117e-01,\n",
       "         -2.18898207e-01,  1.46638572e-01, -1.27606004e-01,\n",
       "          1.82432950e-01, -1.14284664e-01,  3.31366062e-02,\n",
       "         -3.91377807e-02],\n",
       "        [-1.69027328e-01, -1.08450130e-01,  1.17586583e-01,\n",
       "         -1.40755937e-01,  1.05786115e-01, -2.70407945e-02,\n",
       "          1.26543224e-01, -2.19957680e-01, -1.20358169e-03,\n",
       "          2.05988079e-01],\n",
       "        [ 3.95632088e-02, -1.78295970e-01, -8.50743502e-02,\n",
       "         -8.80585611e-02,  2.02330619e-01, -2.10934207e-01,\n",
       "          1.41666681e-01, -1.31364018e-01,  1.72610581e-02,\n",
       "          1.56664461e-01],\n",
       "        [ 1.94741488e-01,  2.07595468e-01,  5.25183678e-02,\n",
       "          1.31995559e-01,  1.62195027e-01,  1.78379208e-01,\n",
       "         -7.20795393e-02,  9.23859179e-02,  1.77387178e-01,\n",
       "          8.97276402e-02],\n",
       "        [-1.57529324e-01,  5.12501299e-02,  7.55913854e-02,\n",
       "         -6.69653714e-02, -1.65517598e-01, -2.24819034e-02,\n",
       "         -4.21887487e-02,  2.19717413e-01,  1.64686531e-01,\n",
       "          1.06915027e-01],\n",
       "        [-9.87486690e-02,  7.04379678e-02,  2.32320756e-01,\n",
       "         -5.10609150e-03, -1.71687335e-01,  2.28866220e-01,\n",
       "         -8.41999054e-03,  1.45441949e-01, -1.01036772e-01,\n",
       "         -1.84667498e-01],\n",
       "        [-9.97753441e-02,  2.72990465e-02, -2.41902471e-03,\n",
       "         -2.21272781e-01,  2.49836147e-02, -1.95208609e-01,\n",
       "          5.59597611e-02, -1.51546299e-03,  1.30853742e-01,\n",
       "          1.35057211e-01],\n",
       "        [ 3.43825519e-02, -8.81981552e-02,  2.28165358e-01,\n",
       "          2.59152353e-02, -1.38797194e-01, -5.31751961e-02,\n",
       "          7.27915764e-03, -1.39820814e-01, -2.25076184e-01,\n",
       "         -5.98101616e-02],\n",
       "        [ 7.53433108e-02, -2.32174262e-01,  1.55267715e-01,\n",
       "         -2.11211339e-01,  2.24157661e-01, -1.05083838e-01,\n",
       "         -3.54542732e-02,  3.95789146e-02,  6.35664165e-02,\n",
       "          7.21686482e-02],\n",
       "        [-1.88970372e-01, -6.53212368e-02, -3.00845206e-02,\n",
       "         -4.23032343e-02, -2.26032868e-01,  2.01417089e-01,\n",
       "          2.30950534e-01,  8.62069428e-02, -6.17234707e-02,\n",
       "          2.00801581e-01],\n",
       "        [-1.16340965e-02, -2.01096818e-01,  3.20743918e-02,\n",
       "          1.92288786e-01,  5.56651056e-02, -9.22194421e-02,\n",
       "          2.78804302e-02,  1.72948599e-01,  7.32190907e-02,\n",
       "         -8.47251117e-02],\n",
       "        [ 1.97635084e-01,  1.05091065e-01, -3.25676799e-02,\n",
       "         -1.63653165e-01, -2.15228394e-01,  2.08610624e-01,\n",
       "          2.72434950e-02,  1.54000223e-02,  1.80896282e-01,\n",
       "          1.13038987e-01],\n",
       "        [ 2.41835713e-02,  2.17132777e-01, -2.20644861e-01,\n",
       "         -3.63170207e-02, -1.21952154e-01,  6.81373179e-02,\n",
       "          1.16500378e-01,  3.32860053e-02, -2.35451609e-02,\n",
       "         -2.14932606e-01],\n",
       "        [ 4.90278602e-02, -3.81650031e-02,  1.32475436e-01,\n",
       "         -1.80781752e-01,  7.45582581e-02, -2.07776114e-01,\n",
       "          1.09544396e-03,  5.12399375e-02,  6.17553294e-02,\n",
       "         -2.13190079e-01],\n",
       "        [-1.05526790e-01, -3.86710465e-03, -1.67090848e-01,\n",
       "          1.77376300e-01, -2.09303424e-01, -1.28922775e-01,\n",
       "          1.79567873e-01, -7.48055428e-02, -7.97089934e-03,\n",
       "         -1.30578831e-01],\n",
       "        [-1.37764215e-03, -1.43801004e-01,  1.64327055e-01,\n",
       "         -9.20249373e-02, -1.05758160e-01, -1.80902183e-01,\n",
       "          4.91988957e-02,  7.86745250e-02,  1.91210777e-01,\n",
       "         -1.52051419e-01],\n",
       "        [ 1.57262594e-01,  1.03263408e-01, -8.62538815e-02,\n",
       "          2.65980661e-02,  3.09127569e-03, -5.05090654e-02,\n",
       "          1.01583302e-01, -3.07026505e-02, -6.11801296e-02,\n",
       "          1.36566937e-01],\n",
       "        [ 1.55786067e-01,  4.15792465e-02, -3.59659940e-02,\n",
       "         -2.49895155e-02, -1.70352012e-02, -5.15044928e-02,\n",
       "         -1.78782746e-01,  9.15808678e-02,  1.08604878e-01,\n",
       "          4.39505875e-02],\n",
       "        [-3.48743945e-02,  9.84133482e-02, -3.79977375e-02,\n",
       "         -1.13664858e-01,  9.68385935e-02,  1.05828762e-01,\n",
       "          2.11408466e-01, -6.19007647e-02, -1.72622085e-01,\n",
       "          1.45732224e-01],\n",
       "        [-5.80218583e-02,  1.78938836e-01,  1.92618966e-01,\n",
       "          9.06280279e-02, -2.73130387e-02,  2.17847139e-01,\n",
       "          1.39513731e-01,  1.04641229e-01,  1.29058152e-01,\n",
       "          1.52518481e-01],\n",
       "        [ 8.12131464e-02,  2.15946406e-01, -2.25358278e-01,\n",
       "          2.26847559e-01, -1.12160705e-01, -2.32966915e-01,\n",
       "          2.63020992e-02,  1.85103953e-01,  1.41722918e-01,\n",
       "         -2.10551992e-01],\n",
       "        [-1.09305695e-01,  1.26595646e-01, -1.70730039e-01,\n",
       "          2.33064234e-01,  1.73400342e-01, -2.12402046e-01,\n",
       "         -1.05579197e-01, -1.32237613e-01,  2.39979625e-02,\n",
       "          1.89595252e-01],\n",
       "        [ 1.86073720e-01,  1.35388374e-01, -2.10462853e-01,\n",
       "          1.79498702e-01, -6.67685419e-02, -1.57016516e-02,\n",
       "         -8.29272866e-02,  5.21673560e-02,  1.63029253e-01,\n",
       "         -2.10877523e-01],\n",
       "        [-7.90788531e-02, -1.22848086e-01, -5.87701201e-02,\n",
       "         -2.09500492e-01,  2.25185722e-01, -8.84586275e-02,\n",
       "         -5.66085875e-02, -1.13767259e-01, -2.07730338e-01,\n",
       "         -1.80962607e-01],\n",
       "        [ 5.08524477e-02,  1.94191903e-01,  1.37458146e-01,\n",
       "          9.07056928e-02,  1.67793930e-02,  2.27613091e-01,\n",
       "          2.06299692e-01, -2.21154541e-02,  9.89836454e-03,\n",
       "         -1.54215693e-01],\n",
       "        [-1.68147370e-01,  7.37513006e-02, -1.53200060e-01,\n",
       "          6.32368624e-02, -1.16761141e-01,  5.37616014e-03,\n",
       "         -3.76624167e-02,  1.41715676e-01, -2.03923211e-01,\n",
       "          1.10988468e-01],\n",
       "        [ 1.71009511e-01, -6.11823797e-03, -1.67624012e-01,\n",
       "         -1.55546457e-01,  2.32584357e-01, -2.10748166e-01,\n",
       "          1.75610483e-02,  1.91717684e-01,  1.38634264e-01,\n",
       "          6.14866018e-02],\n",
       "        [ 1.24736667e-01,  2.05069333e-01,  5.29828072e-02,\n",
       "         -3.25690806e-02,  1.89252913e-01,  1.77472532e-02,\n",
       "         -3.13745737e-02,  1.38278574e-01, -7.65838772e-02,\n",
       "         -6.71804845e-02],\n",
       "        [ 1.87046260e-01,  5.05819023e-02, -1.32003471e-01,\n",
       "         -7.71530718e-02, -1.82675123e-02,  8.20353627e-02,\n",
       "          9.85689759e-02, -9.26424563e-03, -5.63835204e-02,\n",
       "          1.81086004e-01],\n",
       "        [-2.40229070e-02,  5.33355772e-02, -4.64954078e-02,\n",
       "          1.96158588e-02,  4.75030839e-02,  2.19547361e-01,\n",
       "          4.68544364e-02,  8.27978253e-02, -2.30662823e-01,\n",
       "         -1.65584028e-01],\n",
       "        [ 1.03206992e-01, -1.07379347e-01, -1.38825476e-01,\n",
       "          2.36018896e-02,  1.43356264e-01,  1.11864686e-01,\n",
       "          1.00924462e-01, -3.29962671e-02,  2.30955660e-01,\n",
       "          4.77886796e-02],\n",
       "        [-1.24042809e-01,  1.41836077e-01,  4.10675704e-02,\n",
       "          6.16270900e-02,  1.39222115e-01, -7.24413991e-03,\n",
       "          2.00195193e-01,  1.83921158e-02,  8.14093351e-02,\n",
       "          9.26165581e-02],\n",
       "        [ 1.20696723e-01, -1.06145874e-01, -1.79736927e-01,\n",
       "          1.24852777e-01,  9.72353220e-02, -1.00196302e-01,\n",
       "         -8.31906646e-02,  9.93697345e-02,  2.17976779e-01,\n",
       "          1.73485816e-01],\n",
       "        [-7.20092803e-02, -8.86848718e-02, -1.60365343e-01,\n",
       "         -1.38764501e-01, -2.29096130e-01,  2.32650310e-01,\n",
       "         -7.37719685e-02, -1.63130760e-01, -1.27968103e-01,\n",
       "         -1.31496638e-01],\n",
       "        [ 2.95630991e-02,  1.00907296e-01, -5.60014248e-02,\n",
       "          3.76648009e-02,  1.98955715e-01,  1.53708309e-01,\n",
       "          1.40828818e-01,  2.26418853e-01,  1.28734022e-01,\n",
       "          7.30782747e-04],\n",
       "        [ 1.77631736e-01,  1.81563526e-01, -1.54610157e-01,\n",
       "         -1.43670201e-01,  1.06097162e-01, -1.99794173e-02,\n",
       "         -1.97307944e-01,  9.60613191e-02,  1.36534870e-01,\n",
       "          2.65390873e-02],\n",
       "        [-2.04895198e-01,  1.93233490e-01,  1.29767329e-01,\n",
       "         -7.02800006e-02, -4.56180722e-02, -2.95457393e-02,\n",
       "         -2.23227307e-01,  8.89967084e-02,  1.62762016e-01,\n",
       "          9.79968309e-02]], dtype=float32),\n",
       " array([0., 0., 0., 0., 0., 0., 0., 0., 0., 0.], dtype=float32)]"
      ]
     },
     "execution_count": 27,
     "metadata": {},
     "output_type": "execute_result"
    }
   ],
   "source": [
    "weights"
   ]
  },
  {
   "cell_type": "code",
   "execution_count": 28,
   "metadata": {},
   "outputs": [
    {
     "ename": "AttributeError",
     "evalue": "'list' object has no attribute 'shape'",
     "output_type": "error",
     "traceback": [
      "\u001b[1;31m---------------------------------------------------------------------------\u001b[0m",
      "\u001b[1;31mAttributeError\u001b[0m                            Traceback (most recent call last)",
      "\u001b[1;32m<ipython-input-28-8c12dd2b9105>\u001b[0m in \u001b[0;36m<module>\u001b[1;34m\u001b[0m\n\u001b[1;32m----> 1\u001b[1;33m \u001b[0mweights\u001b[0m\u001b[1;33m.\u001b[0m\u001b[0mshape\u001b[0m\u001b[1;33m\u001b[0m\u001b[1;33m\u001b[0m\u001b[0m\n\u001b[0m",
      "\u001b[1;31mAttributeError\u001b[0m: 'list' object has no attribute 'shape'"
     ]
    }
   ],
   "source": [
    "#weights.shape"
   ]
  },
  {
   "cell_type": "markdown",
   "metadata": {},
   "source": [
    "## 5.組裝"
   ]
  },
  {
   "cell_type": "code",
   "execution_count": 30,
   "metadata": {},
   "outputs": [],
   "source": [
    "model.compile(loss=\"sparse_categorical_crossentropy\",\n",
    "             optimizer=\"sgd\",\n",
    "             metrics=[\"accuracy\"])"
   ]
  },
  {
   "cell_type": "markdown",
   "metadata": {},
   "source": [
    "## 6. 訓練"
   ]
  },
  {
   "cell_type": "markdown",
   "metadata": {},
   "source": [
    "### 參考https://www.itread01.com/content/1541581923.html\n",
    "* 1. batchsize：批大小。在深度學習中，一般採用SGD訓練，即每次訓練在訓練集中取batchsize個樣本訓練\n",
    "* 2. iteration：1個iteration等於使用batchsize個樣本訓練一次；batch 需要完成一個 epoch 的次數。記住：在一個 epoch 中，batch 數和迭代數是相等的\n",
    "* 3. epoch：1個epoch等於使用訓練集中的全部樣本訓練一次"
   ]
  },
  {
   "cell_type": "code",
   "execution_count": 31,
   "metadata": {},
   "outputs": [
    {
     "name": "stdout",
     "output_type": "stream",
     "text": [
      "Epoch 1/30\n",
      "60000/60000 [==============================] - 8s 136us/step - loss: 0.5410 - accuracy: 0.8106\n",
      "Epoch 2/30\n",
      "60000/60000 [==============================] - 7s 119us/step - loss: 0.3980 - accuracy: 0.8569\n",
      "Epoch 3/30\n",
      "60000/60000 [==============================] - 8s 131us/step - loss: 0.3592 - accuracy: 0.8709\n",
      "Epoch 4/30\n",
      "60000/60000 [==============================] - 9s 144us/step - loss: 0.3355 - accuracy: 0.8787\n",
      "Epoch 5/30\n",
      "60000/60000 [==============================] - ETA: 0s - loss: 0.3159 - accuracy: 0.88 - 8s 136us/step - loss: 0.3159 - accuracy: 0.8853\n",
      "Epoch 6/30\n",
      "60000/60000 [==============================] - 9s 150us/step - loss: 0.3017 - accuracy: 0.8902\n",
      "Epoch 7/30\n",
      "60000/60000 [==============================] - 10s 166us/step - loss: 0.2878 - accuracy: 0.8953\n",
      "Epoch 8/30\n",
      "60000/60000 [==============================] - 8s 134us/step - loss: 0.2774 - accuracy: 0.8986\n",
      "Epoch 9/30\n",
      "60000/60000 [==============================] - 8s 135us/step - loss: 0.2668 - accuracy: 0.9014\n",
      "Epoch 10/30\n",
      "60000/60000 [==============================] - 8s 134us/step - loss: 0.2559 - accuracy: 0.9068\n",
      "Epoch 11/30\n",
      "60000/60000 [==============================] - 9s 151us/step - loss: 0.2477 - accuracy: 0.9083\n",
      "Epoch 12/30\n",
      "60000/60000 [==============================] - 9s 150us/step - loss: 0.2399 - accuracy: 0.9118\n",
      "Epoch 13/30\n",
      "60000/60000 [==============================] - 8s 128us/step - loss: 0.2325 - accuracy: 0.9148\n",
      "Epoch 14/30\n",
      "60000/60000 [==============================] - 5s 86us/step - loss: 0.2251 - accuracy: 0.9175\n",
      "Epoch 15/30\n",
      "60000/60000 [==============================] - 3s 55us/step - loss: 0.2193 - accuracy: 0.9192\n",
      "Epoch 16/30\n",
      "60000/60000 [==============================] - 3s 56us/step - loss: 0.2123 - accuracy: 0.9222\n",
      "Epoch 17/30\n",
      "60000/60000 [==============================] - 3s 57us/step - loss: 0.2075 - accuracy: 0.9236\n",
      "Epoch 18/30\n",
      "60000/60000 [==============================] - 3s 57us/step - loss: 0.2004 - accuracy: 0.9262\n",
      "Epoch 19/30\n",
      "60000/60000 [==============================] - 4s 68us/step - loss: 0.1964 - accuracy: 0.9283\n",
      "Epoch 20/30\n",
      "60000/60000 [==============================] - 4s 67us/step - loss: 0.1909 - accuracy: 0.9311\n",
      "Epoch 21/30\n",
      "60000/60000 [==============================] - 4s 68us/step - loss: 0.1854 - accuracy: 0.9323\n",
      "Epoch 22/30\n",
      "60000/60000 [==============================] - 4s 65us/step - loss: 0.1801 - accuracy: 0.9351\n",
      "Epoch 23/30\n",
      "60000/60000 [==============================] - 4s 68us/step - loss: 0.1764 - accuracy: 0.9362\n",
      "Epoch 24/30\n",
      "60000/60000 [==============================] - 4s 68us/step - loss: 0.1714 - accuracy: 0.9365\n",
      "Epoch 25/30\n",
      "60000/60000 [==============================] - 4s 66us/step - loss: 0.1673 - accuracy: 0.9390\n",
      "Epoch 26/30\n",
      "60000/60000 [==============================] - 4s 67us/step - loss: 0.1634 - accuracy: 0.9405\n",
      "Epoch 27/30\n",
      "60000/60000 [==============================] - 4s 68us/step - loss: 0.1575 - accuracy: 0.9428\n",
      "Epoch 28/30\n",
      "60000/60000 [==============================] - 4s 68us/step - loss: 0.1553 - accuracy: 0.9439\n",
      "Epoch 29/30\n",
      "60000/60000 [==============================] - 4s 66us/step - loss: 0.1506 - accuracy: 0.9450\n",
      "Epoch 30/30\n",
      "60000/60000 [==============================] - 4s 69us/step - loss: 0.1459 - accuracy: 0.9469\n"
     ]
    }
   ],
   "source": [
    "history = model.fit(x_train, y_train, epochs=30)"
   ]
  },
  {
   "cell_type": "markdown",
   "metadata": {},
   "source": [
    "## 7. Learning Curves"
   ]
  },
  {
   "cell_type": "code",
   "execution_count": 32,
   "metadata": {},
   "outputs": [
    {
     "data": {
      "text/plain": [
       "<function matplotlib.pyplot.show(*args, **kw)>"
      ]
     },
     "execution_count": 32,
     "metadata": {},
     "output_type": "execute_result"
    },
    {
     "data": {
      "image/png": "[encoded data removed]",
      "text/plain": [
       "<Figure size 576x360 with 1 Axes>"
      ]
     },
     "metadata": {
      "needs_background": "light"
     },
     "output_type": "display_data"
    }
   ],
   "source": [
    "import pandas as pd\n",
    "pd.DataFrame(history.history).plot(figsize=(8, 5))\n",
    "plt.grid(True)\n",
    "plt.gca().set_ylim(0, 1) # set the vertical range to [0-1]\n",
    "plt.show"
   ]
  },
  {
   "cell_type": "markdown",
   "metadata": {},
   "source": [
    "## 8.切出驗證集，來確定是否overfitting"
   ]
  },
  {
   "cell_type": "code",
   "execution_count": 33,
   "metadata": {},
   "outputs": [],
   "source": [
    "(x_train, y_train), (x_test, y_test) = fashion_mnist.load_data()"
   ]
  },
  {
   "cell_type": "code",
   "execution_count": 34,
   "metadata": {},
   "outputs": [],
   "source": [
    "x_train = x_train/255\n",
    "x_test = x_test/255"
   ]
  },
  {
   "cell_type": "code",
   "execution_count": 35,
   "metadata": {},
   "outputs": [],
   "source": [
    "x_valid, x_train = x_train[:5000], x_train[5000:] #因為前面已經除以過255，所以這邊不用除\n",
    "y_valid, y_train = y_train[:5000], y_train[5000:]"
   ]
  },
  {
   "cell_type": "code",
   "execution_count": 36,
   "metadata": {},
   "outputs": [
    {
     "data": {
      "text/plain": [
       "'Ankle boot'"
      ]
     },
     "execution_count": 36,
     "metadata": {},
     "output_type": "execute_result"
    }
   ],
   "source": [
    "class_names = ['T-shirt/top', \"Trouser\", \"Pullover\", \"Dress\", \"Coat\", \"Sandal\", \"Shirt\", \"Sneaker\", \"Bag\", \"Ankle boot\"]\n",
    "class_names[y_train[1996]]"
   ]
  },
  {
   "cell_type": "code",
   "execution_count": 37,
   "metadata": {},
   "outputs": [
    {
     "data": {
      "text/plain": [
       "9"
      ]
     },
     "execution_count": 37,
     "metadata": {},
     "output_type": "execute_result"
    }
   ],
   "source": [
    "# check answers\n",
    "y_train[1996]"
   ]
  },
  {
   "cell_type": "code",
   "execution_count": 38,
   "metadata": {},
   "outputs": [],
   "source": [
    "model_2 = keras.models.Sequential([\n",
    "    keras.layers.Flatten(input_shape=[28, 28]),\n",
    "    keras.layers.Dense(300, activation='relu'),\n",
    "    keras.layers.Dense(100, activation=\"relu\"),\n",
    "    keras.layers.Dense(10, activation='softmax')\n",
    "])"
   ]
  },
  {
   "cell_type": "code",
   "execution_count": 39,
   "metadata": {},
   "outputs": [],
   "source": [
    "# Error\n",
    "#weights, biases = model.get_weights"
   ]
  },
  {
   "cell_type": "code",
   "execution_count": 40,
   "metadata": {},
   "outputs": [],
   "source": [
    "model_2.compile(loss=\"sparse_categorical_crossentropy\",\n",
    "             optimizer=\"sgd\",\n",
    "             metrics=[\"accuracy\"])"
   ]
  },
  {
   "cell_type": "markdown",
   "metadata": {},
   "source": [
    "#### 放入驗證集"
   ]
  },
  {
   "cell_type": "code",
   "execution_count": 41,
   "metadata": {},
   "outputs": [
    {
     "name": "stdout",
     "output_type": "stream",
     "text": [
      "Train on 55000 samples, validate on 5000 samples\n",
      "Epoch 1/30\n",
      "55000/55000 [==============================] - 4s 72us/step - loss: 0.5481 - accuracy: 0.8069 - val_loss: 0.4427 - val_accuracy: 0.8430\n",
      "Epoch 2/30\n",
      "55000/55000 [==============================] - 4s 72us/step - loss: 0.4045 - accuracy: 0.8559 - val_loss: 0.4227 - val_accuracy: 0.8484\n",
      "Epoch 3/30\n",
      "55000/55000 [==============================] - 4s 70us/step - loss: 0.3632 - accuracy: 0.8699 - val_loss: 0.3605 - val_accuracy: 0.8704\n",
      "Epoch 4/30\n",
      "55000/55000 [==============================] - 4s 72us/step - loss: 0.3391 - accuracy: 0.8758 - val_loss: 0.3634 - val_accuracy: 0.8676\n",
      "Epoch 5/30\n",
      "55000/55000 [==============================] - 4s 76us/step - loss: 0.3197 - accuracy: 0.8855 - val_loss: 0.3243 - val_accuracy: 0.8876\n",
      "Epoch 6/30\n",
      "55000/55000 [==============================] - 5s 87us/step - loss: 0.3043 - accuracy: 0.8896 - val_loss: 0.3252 - val_accuracy: 0.8860\n",
      "Epoch 7/30\n",
      "55000/55000 [==============================] - 4s 78us/step - loss: 0.2905 - accuracy: 0.8943 - val_loss: 0.3245 - val_accuracy: 0.8828\n",
      "Epoch 8/30\n",
      "55000/55000 [==============================] - 4s 75us/step - loss: 0.2788 - accuracy: 0.8982 - val_loss: 0.3103 - val_accuracy: 0.8886\n",
      "Epoch 9/30\n",
      "55000/55000 [==============================] - 4s 79us/step - loss: 0.2691 - accuracy: 0.9017 - val_loss: 0.3164 - val_accuracy: 0.8850\n",
      "Epoch 10/30\n",
      "55000/55000 [==============================] - 4s 73us/step - loss: 0.2593 - accuracy: 0.9059 - val_loss: 0.3295 - val_accuracy: 0.8820\n",
      "Epoch 11/30\n",
      "55000/55000 [==============================] - 4s 73us/step - loss: 0.2503 - accuracy: 0.9065 - val_loss: 0.2974 - val_accuracy: 0.8912\n",
      "Epoch 12/30\n",
      "55000/55000 [==============================] - 4s 72us/step - loss: 0.2418 - accuracy: 0.9101 - val_loss: 0.3112 - val_accuracy: 0.8880\n",
      "Epoch 13/30\n",
      "55000/55000 [==============================] - 4s 77us/step - loss: 0.2348 - accuracy: 0.9141 - val_loss: 0.3071 - val_accuracy: 0.8930\n",
      "Epoch 14/30\n",
      "55000/55000 [==============================] - 4s 76us/step - loss: 0.2261 - accuracy: 0.9178 - val_loss: 0.3535 - val_accuracy: 0.8790\n",
      "Epoch 15/30\n",
      "55000/55000 [==============================] - 4s 76us/step - loss: 0.2207 - accuracy: 0.9191 - val_loss: 0.3004 - val_accuracy: 0.8930\n",
      "Epoch 16/30\n",
      "55000/55000 [==============================] - 4s 74us/step - loss: 0.2128 - accuracy: 0.9219 - val_loss: 0.2997 - val_accuracy: 0.8918\n",
      "Epoch 17/30\n",
      "55000/55000 [==============================] - 4s 76us/step - loss: 0.2080 - accuracy: 0.9240 - val_loss: 0.3017 - val_accuracy: 0.8916\n",
      "Epoch 18/30\n",
      "55000/55000 [==============================] - 4s 72us/step - loss: 0.2014 - accuracy: 0.9255 - val_loss: 0.3283 - val_accuracy: 0.8858\n",
      "Epoch 19/30\n",
      "55000/55000 [==============================] - 4s 76us/step - loss: 0.1969 - accuracy: 0.9274 - val_loss: 0.3089 - val_accuracy: 0.8898\n",
      "Epoch 20/30\n",
      "55000/55000 [==============================] - 4s 69us/step - loss: 0.1915 - accuracy: 0.9297 - val_loss: 0.2941 - val_accuracy: 0.8988\n",
      "Epoch 21/30\n",
      "55000/55000 [==============================] - 4s 71us/step - loss: 0.1857 - accuracy: 0.9322 - val_loss: 0.3113 - val_accuracy: 0.8860\n",
      "Epoch 22/30\n",
      "55000/55000 [==============================] - 4s 74us/step - loss: 0.1812 - accuracy: 0.9336 - val_loss: 0.3089 - val_accuracy: 0.8888\n",
      "Epoch 23/30\n",
      "55000/55000 [==============================] - 4s 71us/step - loss: 0.1759 - accuracy: 0.9358 - val_loss: 0.3201 - val_accuracy: 0.8930\n",
      "Epoch 24/30\n",
      "55000/55000 [==============================] - 4s 71us/step - loss: 0.1700 - accuracy: 0.9376 - val_loss: 0.2977 - val_accuracy: 0.8968\n",
      "Epoch 25/30\n",
      "55000/55000 [==============================] - 4s 74us/step - loss: 0.1657 - accuracy: 0.9389 - val_loss: 0.3188 - val_accuracy: 0.8958\n",
      "Epoch 26/30\n",
      "55000/55000 [==============================] - 4s 75us/step - loss: 0.1618 - accuracy: 0.9407 - val_loss: 0.3204 - val_accuracy: 0.8914\n",
      "Epoch 27/30\n",
      "55000/55000 [==============================] - 4s 71us/step - loss: 0.1585 - accuracy: 0.9417 - val_loss: 0.3014 - val_accuracy: 0.8968\n",
      "Epoch 28/30\n",
      "55000/55000 [==============================] - 4s 74us/step - loss: 0.1531 - accuracy: 0.9439 - val_loss: 0.3071 - val_accuracy: 0.8982\n",
      "Epoch 29/30\n",
      "55000/55000 [==============================] - 4s 76us/step - loss: 0.1482 - accuracy: 0.9463 - val_loss: 0.3116 - val_accuracy: 0.8964\n",
      "Epoch 30/30\n",
      "55000/55000 [==============================] - 4s 78us/step - loss: 0.1450 - accuracy: 0.9477 - val_loss: 0.3228 - val_accuracy: 0.8940\n"
     ]
    }
   ],
   "source": [
    "history_2 = model_2.fit(x_train, y_train, epochs=30, validation_data=(x_valid, y_valid))"
   ]
  },
  {
   "cell_type": "code",
   "execution_count": 42,
   "metadata": {},
   "outputs": [
    {
     "data": {
      "text/plain": [
       "<function matplotlib.pyplot.show(*args, **kw)>"
      ]
     },
     "execution_count": 42,
     "metadata": {},
     "output_type": "execute_result"
    },
    {
     "data": {
      "image/png": "[encoded data removed]",
      "text/plain": [
       "<Figure size 576x360 with 1 Axes>"
      ]
     },
     "metadata": {
      "needs_background": "light"
     },
     "output_type": "display_data"
    }
   ],
   "source": [
    "# Learning Curve\n",
    "import pandas as pd\n",
    "\n",
    "pd.DataFrame(history_2.history).plot(figsize=(8, 5))\n",
    "plt.grid(True) # plt.grid(True): 用來顯示網格\n",
    "plt.gca().set_ylim(0, 1) #plt.gca(): 得到當前的 axes\n",
    "plt.show"
   ]
  },
  {
   "cell_type": "markdown",
   "metadata": {},
   "source": [
    "### 結論: 測試集和驗證集的accuracy 有些差異，有些微overfitting"
   ]
  },
  {
   "cell_type": "code",
   "execution_count": 43,
   "metadata": {},
   "outputs": [
    {
     "name": "stdout",
     "output_type": "stream",
     "text": [
      "10000/10000 [==============================] - 0s 31us/step\n"
     ]
    },
    {
     "data": {
      "text/plain": [
       "[0.6039241646766662, 0.8632000088691711]"
      ]
     },
     "execution_count": 43,
     "metadata": {},
     "output_type": "execute_result"
    }
   ],
   "source": [
    "model_2.evaluate(x_test, y_test)"
   ]
  },
  {
   "cell_type": "markdown",
   "metadata": {},
   "source": [
    "## 9.Make Predictions"
   ]
  },
  {
   "cell_type": "markdown",
   "metadata": {},
   "source": [
    "#### 使用模型的predict()方法对新的实例进行预测"
   ]
  },
  {
   "cell_type": "code",
   "execution_count": 44,
   "metadata": {},
   "outputs": [
    {
     "data": {
      "text/plain": [
       "array([[0.02, 0.01, 0.03, 0.02, 0.03, 0.05, 0.02, 0.32, 0.02, 0.48],\n",
       "       [0.04, 0.  , 0.86, 0.  , 0.05, 0.  , 0.03, 0.  , 0.  , 0.  ],\n",
       "       [0.01, 0.96, 0.  , 0.01, 0.  , 0.  , 0.  , 0.  , 0.  , 0.  ]],\n",
       "      dtype=float32)"
      ]
     },
     "execution_count": 44,
     "metadata": {},
     "output_type": "execute_result"
    }
   ],
   "source": [
    "x_new = x_test[:3]\n",
    "y_proba = model.predict(x_new)\n",
    "y_proba.round(2)"
   ]
  },
  {
   "cell_type": "code",
   "execution_count": 45,
   "metadata": {},
   "outputs": [
    {
     "data": {
      "text/plain": [
       "array([9, 2, 1], dtype=int64)"
      ]
     },
     "execution_count": 45,
     "metadata": {},
     "output_type": "execute_result"
    }
   ],
   "source": [
    "y_pred = model.predict_classes(x_new)\n",
    "y_pred #尷尬，與y_new不同"
   ]
  },
  {
   "cell_type": "code",
   "execution_count": 46,
   "metadata": {},
   "outputs": [
    {
     "data": {
      "text/plain": [
       "array(['Ankle boot', 'Pullover', 'Trouser'], dtype='<U11')"
      ]
     },
     "execution_count": 46,
     "metadata": {},
     "output_type": "execute_result"
    }
   ],
   "source": [
    "import numpy as np\n",
    "np.array(class_names)[y_pred] #classify all three images correctly"
   ]
  },
  {
   "cell_type": "code",
   "execution_count": 47,
   "metadata": {},
   "outputs": [
    {
     "data": {
      "text/plain": [
       "array([9, 2, 1], dtype=uint8)"
      ]
     },
     "execution_count": 47,
     "metadata": {},
     "output_type": "execute_result"
    }
   ],
   "source": [
    "# check \n",
    "y_new = y_test[:3]\n",
    "y_new"
   ]
  },
  {
   "cell_type": "markdown",
   "metadata": {},
   "source": [
    "## 10.Saving and Restorning a Model"
   ]
  },
  {
   "cell_type": "code",
   "execution_count": 68,
   "metadata": {},
   "outputs": [],
   "source": [
    "model_2.save(\"my_keras_model_2.h5\") #腳本存在資料夾"
   ]
  },
  {
   "cell_type": "markdown",
   "metadata": {},
   "source": [
    "#### Loading the model"
   ]
  },
  {
   "cell_type": "code",
   "execution_count": 69,
   "metadata": {},
   "outputs": [],
   "source": [
    "model_2 = keras.models.load_model(\"my_keras_model_2.h5\")"
   ]
  },
  {
   "cell_type": "markdown",
   "metadata": {},
   "source": [
    "## 11.Using Callbacks (修正Overfitting問題)"
   ]
  },
  {
   "cell_type": "code",
   "execution_count": 64,
   "metadata": {},
   "outputs": [],
   "source": [
    "(x_train, y_train), (x_test, y_test) = fashion_mnist.load_data()\n",
    "\n",
    "x_train = x_train/255\n",
    "x_test = x_test/255\n",
    "\n",
    "x_valid, x_train = x_train[:5000], x_train[5000:] #因為前面已經除以過255，所以這邊不用除\n",
    "y_valid, y_train = y_train[:5000], y_train[5000:]"
   ]
  },
  {
   "cell_type": "code",
   "execution_count": 65,
   "metadata": {},
   "outputs": [],
   "source": [
    "model_3 = keras.models.Sequential([\n",
    "    keras.layers.Flatten(input_shape=[28, 28]),\n",
    "    keras.layers.Dense(300, activation='relu'),\n",
    "    keras.layers.Dense(100, activation=\"relu\"),\n",
    "    keras.layers.Dense(10, activation='softmax')\n",
    "])\n",
    "\n",
    "model_3.compile(loss=\"sparse_categorical_crossentropy\",\n",
    "             optimizer=\"sgd\",\n",
    "             metrics=[\"accuracy\"])\n",
    "\n",
    "model_3.save(\"my_keras_model_3.h5\")"
   ]
  },
  {
   "cell_type": "code",
   "execution_count": 66,
   "metadata": {},
   "outputs": [
    {
     "name": "stdout",
     "output_type": "stream",
     "text": [
      "Train on 55000 samples, validate on 5000 samples\n",
      "Epoch 1/20\n",
      "55000/55000 [==============================] - 4s 65us/step - loss: 0.5449 - accuracy: 0.8077 - val_loss: 0.4046 - val_accuracy: 0.8550\n",
      "Epoch 2/20\n",
      "55000/55000 [==============================] - 4s 71us/step - loss: 0.4024 - accuracy: 0.8563 - val_loss: 0.3836 - val_accuracy: 0.8652\n",
      "Epoch 3/20\n",
      "55000/55000 [==============================] - 4s 69us/step - loss: 0.3636 - accuracy: 0.8677 - val_loss: 0.3537 - val_accuracy: 0.8716\n",
      "Epoch 4/20\n",
      "55000/55000 [==============================] - 3s 63us/step - loss: 0.3378 - accuracy: 0.8770 - val_loss: 0.3375 - val_accuracy: 0.8810\n",
      "Epoch 5/20\n",
      "55000/55000 [==============================] - 4s 74us/step - loss: 0.3195 - accuracy: 0.8840 - val_loss: 0.3367 - val_accuracy: 0.8784\n",
      "Epoch 6/20\n",
      "55000/55000 [==============================] - 5s 82us/step - loss: 0.3038 - accuracy: 0.8899 - val_loss: 0.3182 - val_accuracy: 0.8828\n",
      "Epoch 7/20\n",
      "55000/55000 [==============================] - 4s 81us/step - loss: 0.2910 - accuracy: 0.8936 - val_loss: 0.3180 - val_accuracy: 0.8868\n",
      "Epoch 8/20\n",
      "55000/55000 [==============================] - 4s 79us/step - loss: 0.2795 - accuracy: 0.8978 - val_loss: 0.3269 - val_accuracy: 0.8794\n",
      "Epoch 9/20\n",
      "55000/55000 [==============================] - 4s 81us/step - loss: 0.2686 - accuracy: 0.9016 - val_loss: 0.3116 - val_accuracy: 0.8886\n",
      "Epoch 10/20\n",
      "55000/55000 [==============================] - 4s 80us/step - loss: 0.2597 - accuracy: 0.9060 - val_loss: 0.3000 - val_accuracy: 0.8902\n",
      "Epoch 11/20\n",
      "55000/55000 [==============================] - 4s 80us/step - loss: 0.2513 - accuracy: 0.9085 - val_loss: 0.2981 - val_accuracy: 0.8924\n",
      "Epoch 12/20\n",
      "55000/55000 [==============================] - 5s 84us/step - loss: 0.2429 - accuracy: 0.9115 - val_loss: 0.3143 - val_accuracy: 0.8854\n",
      "Epoch 13/20\n",
      "55000/55000 [==============================] - 4s 76us/step - loss: 0.2365 - accuracy: 0.9133 - val_loss: 0.3032 - val_accuracy: 0.8892\n",
      "Epoch 14/20\n",
      "55000/55000 [==============================] - 5s 87us/step - loss: 0.2283 - accuracy: 0.9160 - val_loss: 0.3107 - val_accuracy: 0.8882\n",
      "Epoch 15/20\n",
      "55000/55000 [==============================] - 5s 85us/step - loss: 0.2216 - accuracy: 0.9192 - val_loss: 0.3241 - val_accuracy: 0.8838\n",
      "Epoch 16/20\n",
      "55000/55000 [==============================] - 5s 83us/step - loss: 0.2158 - accuracy: 0.9217 - val_loss: 0.2889 - val_accuracy: 0.8938\n",
      "Epoch 17/20\n",
      "55000/55000 [==============================] - 4s 79us/step - loss: 0.2103 - accuracy: 0.9237 - val_loss: 0.2973 - val_accuracy: 0.8914\n",
      "Epoch 18/20\n",
      "55000/55000 [==============================] - 4s 80us/step - loss: 0.2039 - accuracy: 0.9255 - val_loss: 0.2966 - val_accuracy: 0.8924\n",
      "Epoch 19/20\n",
      "55000/55000 [==============================] - 5s 83us/step - loss: 0.1984 - accuracy: 0.9277 - val_loss: 0.2925 - val_accuracy: 0.8972\n",
      "Epoch 20/20\n",
      "55000/55000 [==============================] - 4s 81us/step - loss: 0.1923 - accuracy: 0.9306 - val_loss: 0.3042 - val_accuracy: 0.8896\n"
     ]
    }
   ],
   "source": [
    "#build and compile the model\n",
    "# ModelCheckpoint: saves checkpoints of your model at regular intervals\n",
    "# not to worry overfitting\n",
    "# a simple way to use \"early stopping\"\n",
    "checkpoint_cb = keras.callbacks.ModelCheckpoint(\"my_keras_model_3.h5\", save_best_only=True)\n",
    "history_3 = model_3.fit(x_train, y_train, epochs=20, validation_data=(x_valid, y_valid), callbacks=[checkpoint_cb])"
   ]
  },
  {
   "cell_type": "code",
   "execution_count": 67,
   "metadata": {},
   "outputs": [
    {
     "data": {
      "text/plain": [
       "<function matplotlib.pyplot.show(*args, **kw)>"
      ]
     },
     "execution_count": 67,
     "metadata": {},
     "output_type": "execute_result"
    },
    {
     "data": {
      "image/png": "[encoded data removed]",
      "text/plain": [
       "<Figure size 576x360 with 1 Axes>"
      ]
     },
     "metadata": {
      "needs_background": "light"
     },
     "output_type": "display_data"
    }
   ],
   "source": [
    "# Learning Curve\n",
    "import pandas as pd\n",
    "\n",
    "pd.DataFrame(history_3.history).plot(figsize=(8, 5))\n",
    "plt.grid(True) # plt.grid(True): 用來顯示網格\n",
    "plt.gca().set_ylim(0, 1) #plt.gca(): 得到當前的 axes\n",
    "plt.show"
   ]
  },
  {
   "cell_type": "markdown",
   "metadata": {},
   "source": [
    "### EarlyStopping (另一個方法解決overfitting)\n",
    "can set a large value since training will stop autimatically when there is no progress"
   ]
  },
  {
   "cell_type": "code",
   "execution_count": 72,
   "metadata": {},
   "outputs": [],
   "source": [
    "(x_train, y_train), (x_test, y_test) = fashion_mnist.load_data()\n",
    "\n",
    "x_train = x_train/255\n",
    "x_test = x_test/255\n",
    "\n",
    "x_valid, x_train = x_train[:5000], x_train[5000:] #因為前面已經除以過255，所以這邊不用除\n",
    "y_valid, y_train = y_train[:5000], y_train[5000:]\n",
    "\n",
    "model_4 = keras.models.Sequential([\n",
    "    keras.layers.Flatten(input_shape=[28, 28]),\n",
    "    keras.layers.Dense(300, activation='relu'),\n",
    "    keras.layers.Dense(100, activation=\"relu\"),\n",
    "    keras.layers.Dense(10, activation='softmax')\n",
    "])\n",
    "\n",
    "model_4.compile(loss=\"sparse_categorical_crossentropy\",\n",
    "             optimizer=\"sgd\",\n",
    "             metrics=[\"accuracy\"])\n",
    "\n",
    "model_4.save(\"my_keras_model_4.h5\")"
   ]
  },
  {
   "cell_type": "code",
   "execution_count": 75,
   "metadata": {},
   "outputs": [
    {
     "name": "stdout",
     "output_type": "stream",
     "text": [
      "Model: \"sequential_6\"\n",
      "_________________________________________________________________\n",
      "Layer (type)                 Output Shape              Param #   \n",
      "=================================================================\n",
      "flatten_6 (Flatten)          (None, 784)               0         \n",
      "_________________________________________________________________\n",
      "dense_16 (Dense)             (None, 300)               235500    \n",
      "_________________________________________________________________\n",
      "dense_17 (Dense)             (None, 100)               30100     \n",
      "_________________________________________________________________\n",
      "dense_18 (Dense)             (None, 10)                1010      \n",
      "=================================================================\n",
      "Total params: 266,610\n",
      "Trainable params: 266,610\n",
      "Non-trainable params: 0\n",
      "_________________________________________________________________\n"
     ]
    }
   ],
   "source": [
    "model_4.summary()"
   ]
  },
  {
   "cell_type": "code",
   "execution_count": 73,
   "metadata": {},
   "outputs": [
    {
     "name": "stdout",
     "output_type": "stream",
     "text": [
      "Train on 55000 samples, validate on 5000 samples\n",
      "Epoch 1/100\n",
      "55000/55000 [==============================] - 4s 73us/step - loss: 0.5506 - accuracy: 0.8075 - val_loss: 0.4508 - val_accuracy: 0.8416\n",
      "Epoch 2/100\n",
      "55000/55000 [==============================] - 4s 66us/step - loss: 0.4064 - accuracy: 0.8548 - val_loss: 0.3731 - val_accuracy: 0.8642\n",
      "Epoch 3/100\n",
      "55000/55000 [==============================] - 4s 68us/step - loss: 0.3655 - accuracy: 0.8681 - val_loss: 0.3580 - val_accuracy: 0.8700\n",
      "Epoch 4/100\n",
      "55000/55000 [==============================] - 4s 76us/step - loss: 0.3388 - accuracy: 0.8761 - val_loss: 0.3355 - val_accuracy: 0.8774\n",
      "Epoch 5/100\n",
      "55000/55000 [==============================] - 4s 77us/step - loss: 0.3203 - accuracy: 0.8848 - val_loss: 0.3512 - val_accuracy: 0.8748\n",
      "Epoch 6/100\n",
      "55000/55000 [==============================] - 4s 78us/step - loss: 0.3041 - accuracy: 0.8888 - val_loss: 0.3188 - val_accuracy: 0.8878\n",
      "Epoch 7/100\n",
      "55000/55000 [==============================] - 4s 75us/step - loss: 0.2894 - accuracy: 0.8947 - val_loss: 0.3159 - val_accuracy: 0.8830\n",
      "Epoch 8/100\n",
      "55000/55000 [==============================] - 4s 77us/step - loss: 0.2781 - accuracy: 0.8987 - val_loss: 0.3099 - val_accuracy: 0.8894\n",
      "Epoch 9/100\n",
      "55000/55000 [==============================] - 4s 77us/step - loss: 0.2678 - accuracy: 0.9015 - val_loss: 0.3477 - val_accuracy: 0.8764\n",
      "Epoch 10/100\n",
      "55000/55000 [==============================] - 5s 85us/step - loss: 0.2578 - accuracy: 0.9059 - val_loss: 0.3394 - val_accuracy: 0.8764\n",
      "Epoch 11/100\n",
      "55000/55000 [==============================] - 4s 76us/step - loss: 0.2494 - accuracy: 0.9083 - val_loss: 0.3100 - val_accuracy: 0.8930\n",
      "Epoch 12/100\n",
      "55000/55000 [==============================] - 4s 78us/step - loss: 0.2429 - accuracy: 0.9109 - val_loss: 0.3003 - val_accuracy: 0.8920\n",
      "Epoch 13/100\n",
      "55000/55000 [==============================] - 4s 80us/step - loss: 0.2327 - accuracy: 0.9155 - val_loss: 0.2975 - val_accuracy: 0.8918\n",
      "Epoch 14/100\n",
      "55000/55000 [==============================] - 4s 80us/step - loss: 0.2279 - accuracy: 0.9169 - val_loss: 0.3484 - val_accuracy: 0.8796\n",
      "Epoch 15/100\n",
      "55000/55000 [==============================] - 4s 78us/step - loss: 0.2196 - accuracy: 0.9194 - val_loss: 0.3009 - val_accuracy: 0.8920\n",
      "Epoch 16/100\n",
      "55000/55000 [==============================] - 4s 75us/step - loss: 0.2141 - accuracy: 0.9231 - val_loss: 0.2901 - val_accuracy: 0.8950\n",
      "Epoch 17/100\n",
      "55000/55000 [==============================] - 4s 78us/step - loss: 0.2073 - accuracy: 0.9244 - val_loss: 0.3043 - val_accuracy: 0.8916\n",
      "Epoch 18/100\n",
      "55000/55000 [==============================] - 4s 78us/step - loss: 0.2017 - accuracy: 0.9258 - val_loss: 0.3312 - val_accuracy: 0.8840\n",
      "Epoch 19/100\n",
      "55000/55000 [==============================] - 4s 79us/step - loss: 0.1959 - accuracy: 0.9281 - val_loss: 0.2966 - val_accuracy: 0.8942\n",
      "Epoch 20/100\n",
      "55000/55000 [==============================] - 4s 76us/step - loss: 0.1900 - accuracy: 0.9311 - val_loss: 0.2995 - val_accuracy: 0.8930\n",
      "Epoch 21/100\n",
      "55000/55000 [==============================] - 4s 77us/step - loss: 0.1846 - accuracy: 0.9325 - val_loss: 0.3104 - val_accuracy: 0.8904\n",
      "Epoch 22/100\n",
      "55000/55000 [==============================] - 4s 80us/step - loss: 0.1816 - accuracy: 0.9342 - val_loss: 0.3041 - val_accuracy: 0.8922\n",
      "Epoch 23/100\n",
      "55000/55000 [==============================] - 4s 78us/step - loss: 0.1750 - accuracy: 0.9356 - val_loss: 0.3065 - val_accuracy: 0.8914\n",
      "Epoch 24/100\n",
      "55000/55000 [==============================] - 4s 79us/step - loss: 0.1718 - accuracy: 0.9375 - val_loss: 0.3237 - val_accuracy: 0.8872\n",
      "Epoch 25/100\n",
      "55000/55000 [==============================] - 4s 75us/step - loss: 0.1651 - accuracy: 0.9407 - val_loss: 0.3020 - val_accuracy: 0.8958\n",
      "Epoch 26/100\n",
      "55000/55000 [==============================] - 4s 82us/step - loss: 0.1619 - accuracy: 0.9407 - val_loss: 0.3041 - val_accuracy: 0.8940\n"
     ]
    }
   ],
   "source": [
    "earlystopping_cb = keras.callbacks.EarlyStopping(patience=10, restore_best_weights=True)\n",
    "history_4 = model_4.fit(x_train, y_train, epochs=100, validation_data=(x_valid, y_valid), callbacks=[checkpoint_cb, earlystopping_cb])"
   ]
  },
  {
   "cell_type": "code",
   "execution_count": 74,
   "metadata": {},
   "outputs": [
    {
     "data": {
      "text/plain": [
       "<function matplotlib.pyplot.show(*args, **kw)>"
      ]
     },
     "execution_count": 74,
     "metadata": {},
     "output_type": "execute_result"
    },
    {
     "data": {
      "image/png": "[encoded data removed]",
      "text/plain": [
       "<Figure size 576x360 with 1 Axes>"
      ]
     },
     "metadata": {
      "needs_background": "light"
     },
     "output_type": "display_data"
    }
   ],
   "source": [
    "# Learning Curve\n",
    "import pandas as pd\n",
    "\n",
    "pd.DataFrame(history_4.history).plot(figsize=(8, 5))\n",
    "plt.grid(True) # plt.grid(True): 用來顯示網格\n",
    "plt.gca().set_ylim(0, 1) #plt.gca(): 得到當前的 axes\n",
    "plt.show"
   ]
  },
  {
   "cell_type": "markdown",
   "metadata": {},
   "source": [
    "#### 以上兩種修正結果都不甚理想"
   ]
  },
  {
   "cell_type": "markdown",
   "metadata": {},
   "source": [
    "### Auxiliary Output for Regularization (p308) 略"
   ]
  },
  {
   "cell_type": "markdown",
   "metadata": {},
   "source": [
    "### Avoid Overfitting Through Regularization\n",
    "functools.partial() function (p357)"
   ]
  },
  {
   "cell_type": "code",
   "execution_count": 87,
   "metadata": {},
   "outputs": [],
   "source": [
    "(x_train, y_train), (x_test, y_test) = fashion_mnist.load_data()\n",
    "\n",
    "x_train = x_train/255\n",
    "x_test = x_test/255\n",
    "\n",
    "x_valid, x_train = x_train[:5000], x_train[5000:] #因為前面已經除以過255，所以這邊不用除\n",
    "y_valid, y_train = y_train[:5000], y_train[5000:]"
   ]
  },
  {
   "cell_type": "code",
   "execution_count": 88,
   "metadata": {},
   "outputs": [],
   "source": [
    "# l2 Regularization\n",
    "# l1 Regularization: keras.regularizers.l2(0.01) #0.01為 regularization factor\n",
    "# both l1 and l2 Regularization: keras.regularizers.l1_l2()\n",
    "from functools import partial\n",
    "\n",
    "RegularizedDense = partial(keras.layers.Dense,\n",
    "                           activation = \"elu\",\n",
    "                           kernel_initializer = \"he_normal\",\n",
    "                           kernel_regularizer = keras.regularizers.l2(0.01))\n",
    "\n",
    "model_5 = keras.models.Sequential([\n",
    "    keras.layers.Flatten(input_shape=[28, 28]),\n",
    "    RegularizedDense(300),\n",
    "    RegularizedDense(100),\n",
    "    RegularizedDense(10, activation='softmax',\n",
    "                    kernel_initializer = \"glorot_uniform\")\n",
    "])\n",
    "\n",
    "model_5.compile(loss=\"sparse_categorical_crossentropy\",\n",
    "             optimizer=\"sgd\",\n",
    "             metrics=[\"accuracy\"])\n",
    "\n",
    "#model_5.save(\"my_keras_model_5.h5\")"
   ]
  },
  {
   "cell_type": "code",
   "execution_count": 89,
   "metadata": {},
   "outputs": [
    {
     "name": "stdout",
     "output_type": "stream",
     "text": [
      "Train on 55000 samples, validate on 5000 samples\n",
      "Epoch 1/20\n",
      "55000/55000 [==============================] - 5s 87us/step - loss: 6.6762 - accuracy: 0.7783 - val_loss: 4.8204 - val_accuracy: 0.8178\n",
      "Epoch 2/20\n",
      "55000/55000 [==============================] - 5s 83us/step - loss: 3.7281 - accuracy: 0.8208 - val_loss: 2.8450 - val_accuracy: 0.8306\n",
      "Epoch 3/20\n",
      "55000/55000 [==============================] - 5s 83us/step - loss: 2.3052 - accuracy: 0.8230 - val_loss: 1.8584 - val_accuracy: 0.8316\n",
      "Epoch 4/20\n",
      "55000/55000 [==============================] - 5s 91us/step - loss: 1.5940 - accuracy: 0.8236 - val_loss: 1.3626 - val_accuracy: 0.8308\n",
      "Epoch 5/20\n",
      "55000/55000 [==============================] - 5s 97us/step - loss: 1.2359 - accuracy: 0.8238 - val_loss: 1.1086 - val_accuracy: 0.8338\n",
      "Epoch 6/20\n",
      "55000/55000 [==============================] - 5s 97us/step - loss: 1.0546 - accuracy: 0.8236 - val_loss: 0.9965 - val_accuracy: 0.8282\n",
      "Epoch 7/20\n",
      "55000/55000 [==============================] - 5s 95us/step - loss: 0.9617 - accuracy: 0.8230 - val_loss: 0.9200 - val_accuracy: 0.8314\n",
      "Epoch 8/20\n",
      "55000/55000 [==============================] - 5s 94us/step - loss: 0.9139 - accuracy: 0.8228 - val_loss: 0.8869 - val_accuracy: 0.8300\n",
      "Epoch 9/20\n",
      "55000/55000 [==============================] - 5s 97us/step - loss: 0.8887 - accuracy: 0.8227 - val_loss: 0.8704 - val_accuracy: 0.8342\n",
      "Epoch 10/20\n",
      "55000/55000 [==============================] - 6s 117us/step - loss: 0.8756 - accuracy: 0.8235 - val_loss: 0.8577 - val_accuracy: 0.8336\n",
      "Epoch 11/20\n",
      "55000/55000 [==============================] - 5s 98us/step - loss: 0.8682 - accuracy: 0.8222 - val_loss: 0.8617 - val_accuracy: 0.8222\n",
      "Epoch 12/20\n",
      "55000/55000 [==============================] - 5s 96us/step - loss: 0.8638 - accuracy: 0.8223 - val_loss: 0.8444 - val_accuracy: 0.8350\n",
      "Epoch 13/20\n",
      "55000/55000 [==============================] - 5s 92us/step - loss: 0.8599 - accuracy: 0.8214 - val_loss: 0.8477 - val_accuracy: 0.8300\n",
      "Epoch 14/20\n",
      "55000/55000 [==============================] - 5s 95us/step - loss: 0.8581 - accuracy: 0.8214 - val_loss: 0.8504 - val_accuracy: 0.8272\n",
      "Epoch 15/20\n",
      "55000/55000 [==============================] - 5s 93us/step - loss: 0.8559 - accuracy: 0.8218 - val_loss: 0.8566 - val_accuracy: 0.8188\n",
      "Epoch 16/20\n",
      "55000/55000 [==============================] - 5s 95us/step - loss: 0.8547 - accuracy: 0.8223 - val_loss: 0.8444 - val_accuracy: 0.8290\n",
      "Epoch 17/20\n",
      "55000/55000 [==============================] - 5s 97us/step - loss: 0.8531 - accuracy: 0.8228 - val_loss: 0.8437 - val_accuracy: 0.8296\n",
      "Epoch 18/20\n",
      "55000/55000 [==============================] - 5s 94us/step - loss: 0.8523 - accuracy: 0.8213 - val_loss: 0.8521 - val_accuracy: 0.8202\n",
      "Epoch 19/20\n",
      "55000/55000 [==============================] - 5s 100us/step - loss: 0.8507 - accuracy: 0.8218 - val_loss: 0.8384 - val_accuracy: 0.8306\n",
      "Epoch 20/20\n",
      "55000/55000 [==============================] - 5s 94us/step - loss: 0.8498 - accuracy: 0.8222 - val_loss: 0.8474 - val_accuracy: 0.8190\n"
     ]
    }
   ],
   "source": [
    "history_5 = model_5.fit(x_train, y_train, epochs=20, validation_data=(x_valid, y_valid))"
   ]
  },
  {
   "cell_type": "code",
   "execution_count": 90,
   "metadata": {},
   "outputs": [
    {
     "data": {
      "text/plain": [
       "<function matplotlib.pyplot.show(*args, **kw)>"
      ]
     },
     "execution_count": 90,
     "metadata": {},
     "output_type": "execute_result"
    },
    {
     "data": {
      "image/png": "[encoded data removed]",
      "text/plain": [
       "<Figure size 576x360 with 1 Axes>"
      ]
     },
     "metadata": {
      "needs_background": "light"
     },
     "output_type": "display_data"
    }
   ],
   "source": [
    "# Learning Curve\n",
    "import pandas as pd\n",
    "\n",
    "pd.DataFrame(history_5.history).plot(figsize=(8, 5))\n",
    "plt.grid(True) # plt.grid(True): 用來顯示網格\n",
    "plt.gca().set_ylim(0, 1) #plt.gca(): 得到當前的 axes\n",
    "plt.show"
   ]
  },
  {
   "cell_type": "markdown",
   "metadata": {},
   "source": [
    "#### 看accuracy 的比較，可發現沒發生 overfitting"
   ]
  },
  {
   "cell_type": "markdown",
   "metadata": {},
   "source": [
    "### Avoid Overfitting Through Dropout"
   ]
  },
  {
   "cell_type": "code",
   "execution_count": 95,
   "metadata": {},
   "outputs": [],
   "source": [
    "(x_train, y_train), (x_test, y_test) = fashion_mnist.load_data()\n",
    "\n",
    "x_train = x_train/255\n",
    "x_test = x_test/255\n",
    "\n",
    "x_valid, x_train = x_train[:5000], x_train[5000:] #因為前面已經除以過255，所以這邊不用除\n",
    "y_valid, y_train = y_train[:5000], y_train[5000:]\n",
    "\n",
    "model_6 = keras.models.Sequential([\n",
    "    keras.layers.Flatten(input_shape=[28, 28]),\n",
    "    keras.layers.Dropout(rate=0.2),\n",
    "    keras.layers.Dense(300, activation='elu', kernel_initializer = \"he_normal\"),\n",
    "    keras.layers.Dropout(rate=0.2),\n",
    "    keras.layers.Dense(100, activation='elu', kernel_initializer = \"he_normal\"),\n",
    "    keras.layers.Dropout(rate=0.2),\n",
    "    keras.layers.Dense(10, activation='softmax')\n",
    "])\n",
    "\n",
    "model_6.compile(loss=\"sparse_categorical_crossentropy\",\n",
    "             optimizer=\"sgd\",\n",
    "             metrics=[\"accuracy\"])"
   ]
  },
  {
   "cell_type": "raw",
   "metadata": {},
   "source": [
    "K = keras.backend\n",
    "with K.learning_phase():\n",
    "    history_6 = model_6.fit(x_train, y_train, epochs=20, validation_data=(x_valid, y_valid))\n",
    "\n",
    "# with K.learning_phase_scope(1):\n",
    "#     history_6 = model_6.fit(x_train, y_train, epochs=20, validation_data=(x_valid, y_valid))"
   ]
  },
  {
   "cell_type": "code",
   "execution_count": 106,
   "metadata": {},
   "outputs": [
    {
     "name": "stdout",
     "output_type": "stream",
     "text": [
      "Train on 55000 samples, validate on 5000 samples\n",
      "Epoch 1/20\n",
      "55000/55000 [==============================] - 6s 108us/step - loss: 0.7771 - accuracy: 0.7229 - val_loss: 0.5359 - val_accuracy: 0.8066\n",
      "Epoch 2/20\n",
      "55000/55000 [==============================] - 5s 95us/step - loss: 0.5791 - accuracy: 0.7906 - val_loss: 0.4640 - val_accuracy: 0.8378\n",
      "Epoch 3/20\n",
      "55000/55000 [==============================] - 5s 92us/step - loss: 0.5374 - accuracy: 0.8061 - val_loss: 0.4368 - val_accuracy: 0.8474\n",
      "Epoch 4/20\n",
      "55000/55000 [==============================] - 5s 99us/step - loss: 0.5150 - accuracy: 0.8142 - val_loss: 0.4251 - val_accuracy: 0.8470\n",
      "Epoch 5/20\n",
      "55000/55000 [==============================] - 6s 109us/step - loss: 0.5004 - accuracy: 0.8188 - val_loss: 0.4106 - val_accuracy: 0.8562\n",
      "Epoch 6/20\n",
      "55000/55000 [==============================] - 8s 141us/step - loss: 0.4851 - accuracy: 0.8243 - val_loss: 0.4051 - val_accuracy: 0.8564\n",
      "Epoch 7/20\n",
      "55000/55000 [==============================] - 6s 107us/step - loss: 0.4744 - accuracy: 0.8286 - val_loss: 0.3959 - val_accuracy: 0.8586\n",
      "Epoch 8/20\n",
      "55000/55000 [==============================] - 6s 117us/step - loss: 0.4696 - accuracy: 0.8290 - val_loss: 0.3911 - val_accuracy: 0.8602\n",
      "Epoch 9/20\n",
      "55000/55000 [==============================] - 6s 115us/step - loss: 0.4621 - accuracy: 0.8306 - val_loss: 0.3834 - val_accuracy: 0.8634\n",
      "Epoch 10/20\n",
      "55000/55000 [==============================] - 6s 109us/step - loss: 0.4538 - accuracy: 0.8334 - val_loss: 0.3782 - val_accuracy: 0.8656\n",
      "Epoch 11/20\n",
      "55000/55000 [==============================] - 7s 127us/step - loss: 0.4491 - accuracy: 0.8349 - val_loss: 0.3771 - val_accuracy: 0.8670\n",
      "Epoch 12/20\n",
      "55000/55000 [==============================] - 6s 114us/step - loss: 0.4411 - accuracy: 0.8393 - val_loss: 0.3711 - val_accuracy: 0.8662\n",
      "Epoch 13/20\n",
      "55000/55000 [==============================] - 6s 117us/step - loss: 0.4408 - accuracy: 0.8387 - val_loss: 0.3709 - val_accuracy: 0.8664\n",
      "Epoch 14/20\n",
      "55000/55000 [==============================] - 7s 119us/step - loss: 0.4366 - accuracy: 0.8392 - val_loss: 0.3696 - val_accuracy: 0.8668\n",
      "Epoch 15/20\n",
      "55000/55000 [==============================] - 6s 118us/step - loss: 0.4302 - accuracy: 0.8421 - val_loss: 0.3685 - val_accuracy: 0.8688\n",
      "Epoch 16/20\n",
      "55000/55000 [==============================] - 7s 121us/step - loss: 0.4297 - accuracy: 0.8424 - val_loss: 0.3610 - val_accuracy: 0.8716\n",
      "Epoch 17/20\n",
      "55000/55000 [==============================] - 6s 115us/step - loss: 0.4252 - accuracy: 0.8440 - val_loss: 0.3565 - val_accuracy: 0.8706\n",
      "Epoch 18/20\n",
      "55000/55000 [==============================] - 6s 108us/step - loss: 0.4233 - accuracy: 0.8443 - val_loss: 0.3573 - val_accuracy: 0.8706\n",
      "Epoch 19/20\n",
      "55000/55000 [==============================] - 6s 109us/step - loss: 0.4201 - accuracy: 0.8452 - val_loss: 0.3529 - val_accuracy: 0.8728\n",
      "Epoch 20/20\n",
      "55000/55000 [==============================] - 6s 117us/step - loss: 0.4166 - accuracy: 0.8472 - val_loss: 0.3541 - val_accuracy: 0.8732\n"
     ]
    }
   ],
   "source": [
    "history_6 = model_6.fit(x_train, y_train, epochs=20, validation_data=(x_valid, y_valid))"
   ]
  },
  {
   "cell_type": "code",
   "execution_count": 107,
   "metadata": {},
   "outputs": [
    {
     "data": {
      "text/plain": [
       "<function matplotlib.pyplot.show(*args, **kw)>"
      ]
     },
     "execution_count": 107,
     "metadata": {},
     "output_type": "execute_result"
    },
    {
     "data": {
      "image/png": "[encoded data removed]",
      "text/plain": [
       "<Figure size 576x360 with 1 Axes>"
      ]
     },
     "metadata": {
      "needs_background": "light"
     },
     "output_type": "display_data"
    }
   ],
   "source": [
    "# Learning Curve\n",
    "import pandas as pd\n",
    "\n",
    "pd.DataFrame(history_6.history).plot(figsize=(8, 5))\n",
    "plt.grid(True) # plt.grid(True): 用來顯示網格\n",
    "plt.gca().set_ylim(0, 1) #plt.gca(): 得到當前的 axes\n",
    "plt.show"
   ]
  },
  {
   "cell_type": "markdown",
   "metadata": {},
   "source": [
    "### 效果較差，應該可在繼續訓練"
   ]
  },
  {
   "cell_type": "code",
   "execution_count": null,
   "metadata": {},
   "outputs": [],
   "source": []
  }
 ],
 "metadata": {
  "kernelspec": {
   "display_name": "Python 3",
   "language": "python",
   "name": "python3"
  },
  "language_info": {
   "codemirror_mode": {
    "name": "ipython",
    "version": 3
   },
   "file_extension": ".py",
   "mimetype": "text/x-python",
   "name": "python",
   "nbconvert_exporter": "python",
   "pygments_lexer": "ipython3",
   "version": "3.7.3"
  }
 },
 "nbformat": 4,
 "nbformat_minor": 2
}
