{
 "cells": [
  {
   "cell_type": "code",
   "execution_count": 1,
   "metadata": {},
   "outputs": [],
   "source": [
    "%matplotlib inline\n",
    "\n",
    "import numpy as np\n",
    "import matplotlib.pyplot as plt"
   ]
  },
  {
   "cell_type": "code",
   "execution_count": 2,
   "metadata": {},
   "outputs": [
    {
     "name": "stdout",
     "output_type": "stream",
     "text": [
      "Requirement already satisfied: keras in c:\\programdata\\anaconda3\\lib\\site-packages (2.3.1)\n",
      "Requirement already satisfied: pyyaml in c:\\programdata\\anaconda3\\lib\\site-packages (from keras) (5.1.1)\n",
      "Requirement already satisfied: six>=1.9.0 in c:\\users\\user.laptop-osidbp5e\\appdata\\roaming\\python\\python37\\site-packages (from keras) (1.12.0)\n",
      "Requirement already satisfied: keras-applications>=1.0.6 in c:\\programdata\\anaconda3\\lib\\site-packages (from keras) (1.0.8)\n",
      "Requirement already satisfied: keras-preprocessing>=1.0.5 in c:\\programdata\\anaconda3\\lib\\site-packages (from keras) (1.1.0)\n",
      "Requirement already satisfied: numpy>=1.9.1 in c:\\programdata\\anaconda3\\lib\\site-packages (from keras) (1.16.4)\n",
      "Requirement already satisfied: scipy>=0.14 in c:\\users\\user.laptop-osidbp5e\\appdata\\roaming\\python\\python37\\site-packages (from keras) (1.4.1)\n",
      "Requirement already satisfied: h5py in c:\\programdata\\anaconda3\\lib\\site-packages (from keras) (2.9.0)\n",
      "Note: you may need to restart the kernel to use updated packages.\n"
     ]
    }
   ],
   "source": [
    "pip install keras"
   ]
  },
  {
   "cell_type": "code",
   "execution_count": 3,
   "metadata": {},
   "outputs": [
    {
     "name": "stdout",
     "output_type": "stream",
     "text": [
      "Requirement already satisfied: tensorflow in c:\\users\\user.laptop-osidbp5e\\appdata\\roaming\\python\\python37\\site-packages (2.1.0)\n",
      "Requirement already satisfied: astor>=0.6.0 in c:\\programdata\\anaconda3\\lib\\site-packages (from tensorflow) (0.8.1)\n",
      "Requirement already satisfied: keras-preprocessing>=1.1.0 in c:\\programdata\\anaconda3\\lib\\site-packages (from tensorflow) (1.1.0)\n",
      "Requirement already satisfied: gast==0.2.2 in c:\\programdata\\anaconda3\\lib\\site-packages (from tensorflow) (0.2.2)\n",
      "Requirement already satisfied: absl-py>=0.7.0 in c:\\programdata\\anaconda3\\lib\\site-packages (from tensorflow) (0.9.0)\n",
      "Requirement already satisfied: termcolor>=1.1.0 in c:\\programdata\\anaconda3\\lib\\site-packages (from tensorflow) (1.1.0)\n",
      "Requirement already satisfied: grpcio>=1.8.6 in c:\\programdata\\anaconda3\\lib\\site-packages (from tensorflow) (1.27.2)\n",
      "Requirement already satisfied: google-pasta>=0.1.6 in c:\\programdata\\anaconda3\\lib\\site-packages (from tensorflow) (0.1.8)\n",
      "Requirement already satisfied: keras-applications>=1.0.8 in c:\\programdata\\anaconda3\\lib\\site-packages (from tensorflow) (1.0.8)\n",
      "Requirement already satisfied: opt-einsum>=2.3.2 in c:\\programdata\\anaconda3\\lib\\site-packages (from tensorflow) (3.1.0)\n",
      "Requirement already satisfied: protobuf>=3.8.0 in c:\\programdata\\anaconda3\\lib\\site-packages (from tensorflow) (3.11.3)\n",
      "Requirement already satisfied: tensorflow-estimator<2.2.0,>=2.1.0rc0 in c:\\programdata\\anaconda3\\lib\\site-packages (from tensorflow) (2.1.0)\n",
      "Requirement already satisfied: scipy==1.4.1; python_version >= \"3\" in c:\\users\\user.laptop-osidbp5e\\appdata\\roaming\\python\\python37\\site-packages (from tensorflow) (1.4.1)\n",
      "Requirement already satisfied: six>=1.12.0 in c:\\users\\user.laptop-osidbp5e\\appdata\\roaming\\python\\python37\\site-packages (from tensorflow) (1.12.0)\n",
      "Requirement already satisfied: numpy<2.0,>=1.16.0 in c:\\programdata\\anaconda3\\lib\\site-packages (from tensorflow) (1.16.4)\n",
      "Requirement already satisfied: wheel>=0.26; python_version >= \"3\" in c:\\programdata\\anaconda3\\lib\\site-packages (from tensorflow) (0.33.4)\n",
      "Requirement already satisfied: wrapt>=1.11.1 in c:\\users\\user.laptop-osidbp5e\\appdata\\roaming\\python\\python37\\site-packages (from tensorflow) (1.11.2)\n",
      "Requirement already satisfied: tensorboard<2.2.0,>=2.1.0 in c:\\programdata\\anaconda3\\lib\\site-packages (from tensorflow) (2.1.0)\n",
      "Requirement already satisfied: h5py in c:\\programdata\\anaconda3\\lib\\site-packages (from keras-applications>=1.0.8->tensorflow) (2.9.0)\n",
      "Requirement already satisfied: setuptools in c:\\programdata\\anaconda3\\lib\\site-packages (from protobuf>=3.8.0->tensorflow) (41.0.1)\n",
      "Requirement already satisfied: google-auth-oauthlib<0.5,>=0.4.1 in c:\\programdata\\anaconda3\\lib\\site-packages (from tensorboard<2.2.0,>=2.1.0->tensorflow) (0.4.1)\n",
      "Requirement already satisfied: requests<3,>=2.21.0 in c:\\programdata\\anaconda3\\lib\\site-packages (from tensorboard<2.2.0,>=2.1.0->tensorflow) (2.22.0)\n",
      "Requirement already satisfied: markdown>=2.6.8 in c:\\programdata\\anaconda3\\lib\\site-packages (from tensorboard<2.2.0,>=2.1.0->tensorflow) (3.2.1)\n",
      "Requirement already satisfied: google-auth<2,>=1.6.3 in c:\\programdata\\anaconda3\\lib\\site-packages (from tensorboard<2.2.0,>=2.1.0->tensorflow) (1.11.2)\n",
      "Requirement already satisfied: werkzeug>=0.11.15 in c:\\programdata\\anaconda3\\lib\\site-packages (from tensorboard<2.2.0,>=2.1.0->tensorflow) (0.15.4)\n",
      "Requirement already satisfied: requests-oauthlib>=0.7.0 in c:\\programdata\\anaconda3\\lib\\site-packages (from google-auth-oauthlib<0.5,>=0.4.1->tensorboard<2.2.0,>=2.1.0->tensorflow) (1.3.0)\n",
      "Requirement already satisfied: urllib3!=1.25.0,!=1.25.1,<1.26,>=1.21.1 in c:\\programdata\\anaconda3\\lib\\site-packages (from requests<3,>=2.21.0->tensorboard<2.2.0,>=2.1.0->tensorflow) (1.24.2)\n",
      "Requirement already satisfied: idna<2.9,>=2.5 in c:\\programdata\\anaconda3\\lib\\site-packages (from requests<3,>=2.21.0->tensorboard<2.2.0,>=2.1.0->tensorflow) (2.8)\n",
      "Requirement already satisfied: certifi>=2017.4.17 in c:\\programdata\\anaconda3\\lib\\site-packages (from requests<3,>=2.21.0->tensorboard<2.2.0,>=2.1.0->tensorflow) (2019.6.16)\n",
      "Requirement already satisfied: chardet<3.1.0,>=3.0.2 in c:\\programdata\\anaconda3\\lib\\site-packages (from requests<3,>=2.21.0->tensorboard<2.2.0,>=2.1.0->tensorflow) (3.0.4)\n",
      "Requirement already satisfied: rsa<4.1,>=3.1.4 in c:\\programdata\\anaconda3\\lib\\site-packages (from google-auth<2,>=1.6.3->tensorboard<2.2.0,>=2.1.0->tensorflow) (4.0)\n",
      "Requirement already satisfied: cachetools<5.0,>=2.0.0 in c:\\programdata\\anaconda3\\lib\\site-packages (from google-auth<2,>=1.6.3->tensorboard<2.2.0,>=2.1.0->tensorflow) (4.0.0)\n",
      "Requirement already satisfied: pyasn1-modules>=0.2.1 in c:\\programdata\\anaconda3\\lib\\site-packages (from google-auth<2,>=1.6.3->tensorboard<2.2.0,>=2.1.0->tensorflow) (0.2.8)\n",
      "Requirement already satisfied: oauthlib>=3.0.0 in c:\\programdata\\anaconda3\\lib\\site-packages (from requests-oauthlib>=0.7.0->google-auth-oauthlib<0.5,>=0.4.1->tensorboard<2.2.0,>=2.1.0->tensorflow) (3.1.0)\n",
      "Requirement already satisfied: pyasn1>=0.1.3 in c:\\programdata\\anaconda3\\lib\\site-packages (from rsa<4.1,>=3.1.4->google-auth<2,>=1.6.3->tensorboard<2.2.0,>=2.1.0->tensorflow) (0.4.8)\n",
      "Note: you may need to restart the kernel to use updated packages.\n"
     ]
    }
   ],
   "source": [
    "pip install tensorflow"
   ]
  },
  {
   "cell_type": "markdown",
   "metadata": {},
   "source": [
    "## 1.讀入 Fashion MNIST 數據集"
   ]
  },
  {
   "cell_type": "code",
   "execution_count": 4,
   "metadata": {},
   "outputs": [],
   "source": [
    "#import tensorflow as tf"
   ]
  },
  {
   "cell_type": "markdown",
   "metadata": {},
   "source": [
    "#### 終端機更新，就解除Error\n",
    "https://stackoverflow.com/questions/51724309/attributeerror-module-tensorflow-has-no-attribute-name-scope-with-keras\n",
    "* pip install --upgrade pip setuptools wheel\n",
    "* pip install -I tensorflow\n",
    "* pip install -I keras"
   ]
  },
  {
   "cell_type": "code",
   "execution_count": 5,
   "metadata": {},
   "outputs": [
    {
     "name": "stderr",
     "output_type": "stream",
     "text": [
      "Using TensorFlow backend.\n"
     ]
    }
   ],
   "source": [
    "# Error\n",
    "import tensorflow as tf\n",
    "import keras\n",
    "from tensorflow.keras.datasets import fashion_mnist"
   ]
  },
  {
   "cell_type": "code",
   "execution_count": 6,
   "metadata": {},
   "outputs": [],
   "source": [
    "# 法二(課本)\n",
    "#fashion_mnist = keras.datasets.fashion_mnist"
   ]
  },
  {
   "cell_type": "code",
   "execution_count": 7,
   "metadata": {},
   "outputs": [],
   "source": [
    "(x_train, y_train), (x_test, y_test) = fashion_mnist.load_data()"
   ]
  },
  {
   "cell_type": "code",
   "execution_count": 8,
   "metadata": {},
   "outputs": [
    {
     "data": {
      "text/plain": [
       "(60000, 28, 28)"
      ]
     },
     "execution_count": 8,
     "metadata": {},
     "output_type": "execute_result"
    }
   ],
   "source": [
    "x_train.shape #60000張圖片，每張是28x28"
   ]
  },
  {
   "cell_type": "code",
   "execution_count": 9,
   "metadata": {},
   "outputs": [
    {
     "data": {
      "text/plain": [
       "dtype('uint8')"
      ]
     },
     "execution_count": 9,
     "metadata": {},
     "output_type": "execute_result"
    }
   ],
   "source": [
    "x_train.dtype"
   ]
  },
  {
   "cell_type": "markdown",
   "metadata": {},
   "source": [
    "## 2.查看數據集內容"
   ]
  },
  {
   "cell_type": "code",
   "execution_count": 10,
   "metadata": {},
   "outputs": [
    {
     "name": "stdout",
     "output_type": "stream",
     "text": [
      "It's  1\n"
     ]
    }
   ],
   "source": [
    "n = 1996\n",
    "print(\"It's \", y_train[n])"
   ]
  },
  {
   "cell_type": "code",
   "execution_count": 11,
   "metadata": {},
   "outputs": [],
   "source": [
    "# 把數字轉換成對應的類別\n",
    "class_names = ['T-shirt/top', \"Trouser\", \"Pullover\", \"Dress\", \"Coat\", \"Sandal\", \"Shirt\", \"Sneaker\", \"Bag\", \"Ankle boot\"]"
   ]
  },
  {
   "cell_type": "code",
   "execution_count": 12,
   "metadata": {},
   "outputs": [
    {
     "name": "stdout",
     "output_type": "stream",
     "text": [
      "It's  Trouser\n"
     ]
    },
    {
     "data": {
      "text/plain": [
       "<matplotlib.image.AxesImage at 0x29fcc4f3cc0>"
      ]
     },
     "execution_count": 12,
     "metadata": {},
     "output_type": "execute_result"
    },
    {
     "data": {
      "image/png": "[encoded data removed]",
      "text/plain": [
       "<Figure size 432x288 with 1 Axes>"
      ]
     },
     "metadata": {
      "needs_background": "light"
     },
     "output_type": "display_data"
    }
   ],
   "source": [
    "n = 1996\n",
    "print(\"It's \", class_names[y_train[n]])\n",
    "plt.imshow(x_train[n], cmap='Purples')"
   ]
  },
  {
   "cell_type": "markdown",
   "metadata": {},
   "source": [
    "### replace\n",
    "* replace=True: 可以从a 中反复选取同一个元素。\n",
    "* replace=False: a 中同一个元素只能被选取一次。"
   ]
  },
  {
   "cell_type": "markdown",
   "metadata": {},
   "source": [
    "### subplot\n",
    "subplot(2, 3, 3)=subplot(233)"
   ]
  },
  {
   "cell_type": "code",
   "execution_count": 21,
   "metadata": {},
   "outputs": [
    {
     "data": {
      "image/png": "[encoded data removed]",
      "text/plain": [
       "<Figure size 432x288 with 5 Axes>"
      ]
     },
     "metadata": {},
     "output_type": "display_data"
    }
   ],
   "source": [
    "import random\n",
    "pick = np.random.choice(60000, 5, replace=False) # 60000個裡面隨機選 5個出來\n",
    "\n",
    "for i in range(5):\n",
    "    n = pick[i]\n",
    "    #plt.figure(figsize = (20,20))\n",
    "    ax = plt.subplot(151+i) #151代表一列五行，i代表從左邊數來第幾個\n",
    "    ax.set_xticks([]) #橫坐標為空值\n",
    "    ax.set_yticks([]) #縱坐標為空值\n",
    "    ax.set_title(class_names[y_train[n]], fontsize=10, color='r')\n",
    "    plt.imshow(x_train[n], cmap='Greys')"
   ]
  },
  {
   "cell_type": "markdown",
   "metadata": {},
   "source": [
    "## 3.整理資料"
   ]
  },
  {
   "cell_type": "code",
   "execution_count": 25,
   "metadata": {},
   "outputs": [
    {
     "data": {
      "text/plain": [
       "array([[  0,   0,   0,   0,   0,   0,   0,   0,   0,   0,   0,  15,  22,\n",
       "          0,   0,   0,   0,  34,   0,   0,   0,   0,   0,   0,   0,   0,\n",
       "          0,   0],\n",
       "       [  0,   0,   0,   0,   0,   0,   0,   0,   0,   0, 161, 205, 196,\n",
       "        164, 209, 149, 164, 189, 130,  24,   0,   0,   0,   0,   0,   0,\n",
       "          0,   0],\n",
       "       [  0,   0,   0,   0,   0,   0,   0,   0,   0,   0, 144, 195, 188,\n",
       "        189, 211, 199, 186, 181, 170,  37,   0,   0,   0,   0,   0,   0,\n",
       "          0,   0],\n",
       "       [  0,   0,   0,   0,   0,   0,   0,   0,   0,   0, 124, 185, 209,\n",
       "        191, 167, 167, 171, 208, 191,   0,   0,   0,   0,   0,   0,   0,\n",
       "          0,   0],\n",
       "       [  0,   0,   0,   0,   0,   0,   0,   0,   0,   0, 164, 229, 219,\n",
       "        231, 214, 220, 211, 221, 191,   0,   0,   0,   0,   0,   0,   0,\n",
       "          0,   0],\n",
       "       [  0,   0,   0,   0,   0,   0,   0,   0,   0,   0, 196, 229, 211,\n",
       "        219, 209, 217, 213, 207, 205,   0,   0,   0,   0,   0,   0,   0,\n",
       "          0,   0],\n",
       "       [  0,   0,   0,   0,   0,   0,   0,   0,   0,   0, 208, 225, 205,\n",
       "        208, 215, 228, 209, 203, 209,   0,   0,   0,   0,   0,   0,   0,\n",
       "          0,   0],\n",
       "       [  0,   0,   0,   0,   0,   0,   0,   0,   0,   0, 114, 244, 208,\n",
       "        228, 208, 217, 217, 220, 209,   0,   0,   0,   0,   0,   0,   0,\n",
       "          0,   0],\n",
       "       [  0,   0,   0,   0,   0,   0,   0,   0,   0,   0,  31, 233, 214,\n",
       "        221, 213, 220, 202, 232, 156,   0,   0,   0,   0,   0,   0,   0,\n",
       "          0,   0],\n",
       "       [  0,   0,   0,   0,   0,   0,   0,   0,   0,   0,   0, 228, 213,\n",
       "        206, 215, 222, 207, 233, 105,   0,   0,   0,   0,   0,   0,   0,\n",
       "          0,   0],\n",
       "       [  0,   0,   0,   0,   0,   0,   0,   0,   0,   0,  13, 228, 214,\n",
       "        213, 208, 223, 204, 232, 112,   0,   0,   0,   0,   0,   0,   0,\n",
       "          0,   0],\n",
       "       [  0,   0,   0,   0,   0,   0,   0,   0,   0,   0,  62, 235, 213,\n",
       "        225, 220, 210, 201, 224, 167,   0,   0,   0,   0,   0,   0,   0,\n",
       "          0,   0],\n",
       "       [  0,   0,   0,   0,   0,   0,   0,   0,   0,   0, 137, 233, 208,\n",
       "        208, 218, 207, 203, 216, 215,   0,   0,   0,   0,   0,   0,   0,\n",
       "          0,   0],\n",
       "       [  0,   0,   0,   0,   0,   0,   0,   0,   0,   0, 206, 224, 206,\n",
       "        220, 217, 221, 219, 201, 247,   0,   0,   0,   0,   0,   0,   0,\n",
       "          0,   0],\n",
       "       [  0,   0,   0,   0,   0,   0,   0,   0,   0,   0, 245, 211, 213,\n",
       "        228, 207, 204, 209, 204, 248,  54,   0,   0,   0,   0,   0,   0,\n",
       "          0,   0],\n",
       "       [  0,   0,   0,   0,   0,   0,   0,   0,   0,  15, 251, 204, 219,\n",
       "        218, 204, 213, 203, 201, 243, 116,   0,   0,   0,   0,   0,   0,\n",
       "          0,   0],\n",
       "       [  0,   0,   0,   0,   0,   0,   0,   0,   0,  44, 255, 203, 203,\n",
       "        221, 213, 216, 215, 189, 228, 153,   0,   0,   0,   0,   0,   0,\n",
       "          0,   0],\n",
       "       [  0,   0,   0,   0,   0,   0,   0,   0,   0,  80, 253, 205, 199,\n",
       "        205, 217, 224, 211, 186, 210, 191,   0,   0,   0,   0,   0,   0,\n",
       "          0,   0],\n",
       "       [  0,   0,   0,   0,   0,   0,   0,   0,   0, 102, 250, 208, 206,\n",
       "        228, 207, 213, 225, 205, 221, 191,   0,   0,   0,   0,   0,   0,\n",
       "          0,   0],\n",
       "       [  0,   0,   0,   0,   0,   0,   0,   0,   0, 111, 248, 190, 213,\n",
       "        218, 214, 217, 206, 204, 205, 200,   0,   0,   0,   0,   0,   0,\n",
       "          0,   0],\n",
       "       [  0,   0,   0,   0,   0,   0,   0,   0,   0, 121, 248, 203, 215,\n",
       "        210, 215, 223, 222, 208, 199, 209,   0,   0,   0,   0,   0,   0,\n",
       "          0,   0],\n",
       "       [  0,   0,   0,   0,   0,   0,   0,   0,   0, 128, 244, 191, 221,\n",
       "        214, 211, 225, 211, 209, 209, 202,   0,   0,   0,   0,   0,   0,\n",
       "          0,   0],\n",
       "       [  0,   0,   0,   0,   0,   0,   0,   0,   0, 136, 238, 195, 228,\n",
       "        229, 223, 215, 216, 210, 220, 205,   0,   0,   0,   0,   0,   0,\n",
       "          0,   0],\n",
       "       [  0,   0,   0,   0,   0,   0,   0,   0,   0, 146, 250, 203, 220,\n",
       "        211, 220, 216, 225, 210, 208, 210,   0,   0,   0,   0,   0,   0,\n",
       "          0,   0],\n",
       "       [  0,   0,   0,   0,   0,   0,   0,   0,   0, 135, 244, 216, 222,\n",
       "        228, 219, 218, 224, 214, 224, 190,   0,   0,   0,   0,   0,   0,\n",
       "          0,   0],\n",
       "       [  0,   0,   0,   0,   0,   0,   0,   0,   0, 163, 242, 232, 233,\n",
       "        242, 225, 218, 238, 231, 233, 187,   0,   0,   0,   0,   0,   0,\n",
       "          0,   0],\n",
       "       [  0,   0,   0,   0,   0,   0,   0,   0,   0, 109, 201, 145, 229,\n",
       "        160, 217, 233, 148, 209, 192, 150,   0,   0,   0,   0,   0,   0,\n",
       "          0,   0],\n",
       "       [  0,   0,   0,   0,   0,   0,   0,   0,   0,   0,   5,   0,  36,\n",
       "          0,   0,  25,   0,  33,  16,   0,   0,   0,   0,   0,   0,   0,\n",
       "          0,   0]], dtype=uint8)"
      ]
     },
     "execution_count": 25,
     "metadata": {},
     "output_type": "execute_result"
    }
   ],
   "source": [
    "x_train\n",
    "x_test[1996]\n",
    "# 所以不用壓縮? Nope"
   ]
  },
  {
   "cell_type": "code",
   "execution_count": 26,
   "metadata": {},
   "outputs": [],
   "source": [
    "x_train = x_train/55\n",
    "x_test = x_test/255"
   ]
  },
  {
   "cell_type": "code",
   "execution_count": 28,
   "metadata": {},
   "outputs": [
    {
     "data": {
      "text/plain": [
       "array([[0.        , 0.        , 0.        , 0.        , 0.        ,\n",
       "        0.        , 0.        , 0.        , 0.        , 0.        ,\n",
       "        1.54545455, 4.2       , 3.49090909, 3.58181818, 3.4       ,\n",
       "        3.23636364, 2.90909091, 3.50909091, 1.54545455, 0.        ,\n",
       "        0.        , 0.        , 0.        , 0.        , 0.        ,\n",
       "        0.        , 0.        , 0.        ],\n",
       "       [0.        , 0.        , 0.        , 0.        , 0.        ,\n",
       "        0.        , 0.        , 0.        , 0.        , 0.        ,\n",
       "        3.01818182, 3.98181818, 3.38181818, 3.47272727, 3.2       ,\n",
       "        3.16363636, 3.        , 3.54545455, 2.70909091, 0.        ,\n",
       "        0.        , 0.        , 0.        , 0.        , 0.        ,\n",
       "        0.        , 0.        , 0.        ],\n",
       "       [0.        , 0.        , 0.        , 0.        , 0.        ,\n",
       "        0.        , 0.        , 0.        , 0.        , 0.        ,\n",
       "        4.43636364, 3.67272727, 3.6       , 3.52727273, 3.29090909,\n",
       "        3.29090909, 3.14545455, 3.29090909, 3.45454545, 0.        ,\n",
       "        0.        , 0.        , 0.        , 0.        , 0.        ,\n",
       "        0.        , 0.        , 0.        ],\n",
       "       [0.        , 0.        , 0.        , 0.        , 0.        ,\n",
       "        0.        , 0.        , 0.        , 0.        , 0.69090909,\n",
       "        4.38181818, 3.10909091, 3.16363636, 3.07272727, 3.01818182,\n",
       "        2.78181818, 2.67272727, 2.43636364, 2.8       , 0.38181818,\n",
       "        0.        , 0.        , 0.        , 0.        , 0.        ,\n",
       "        0.        , 0.        , 0.        ],\n",
       "       [0.        , 0.        , 0.        , 0.        , 0.        ,\n",
       "        0.        , 0.        , 0.        , 0.        , 1.6       ,\n",
       "        4.09090909, 2.8       , 3.01818182, 3.        , 3.09090909,\n",
       "        2.74545455, 2.72727273, 2.52727273, 2.74545455, 1.01818182,\n",
       "        0.        , 0.        , 0.        , 0.        , 0.        ,\n",
       "        0.        , 0.        , 0.        ],\n",
       "       [0.        , 0.        , 0.        , 0.        , 0.        ,\n",
       "        0.        , 0.        , 0.        , 0.        , 2.6       ,\n",
       "        3.81818182, 2.72727273, 2.94545455, 2.98181818, 3.09090909,\n",
       "        2.89090909, 2.85454545, 2.6       , 2.72727273, 1.38181818,\n",
       "        0.        , 0.        , 0.        , 0.        , 0.        ,\n",
       "        0.        , 0.        , 0.        ],\n",
       "       [0.        , 0.        , 0.        , 0.        , 0.        ,\n",
       "        0.        , 0.        , 0.        , 0.        , 3.47272727,\n",
       "        3.52727273, 2.69090909, 2.87272727, 3.01818182, 3.12727273,\n",
       "        2.90909091, 2.85454545, 2.69090909, 2.58181818, 2.07272727,\n",
       "        0.        , 0.        , 0.        , 0.        , 0.        ,\n",
       "        0.        , 0.        , 0.        ],\n",
       "       [0.        , 0.        , 0.        , 0.        , 0.        ,\n",
       "        0.        , 0.        , 0.        , 0.        , 3.78181818,\n",
       "        3.50909091, 2.74545455, 2.83636364, 2.87272727, 3.6       ,\n",
       "        3.23636364, 2.89090909, 2.8       , 2.61818182, 2.21818182,\n",
       "        0.        , 0.        , 0.        , 0.        , 0.        ,\n",
       "        0.        , 0.        , 0.        ],\n",
       "       [0.        , 0.        , 0.        , 0.        , 0.        ,\n",
       "        0.        , 0.        , 0.        , 0.        , 3.8       ,\n",
       "        3.61818182, 2.81818182, 2.8       , 2.78181818, 3.8       ,\n",
       "        3.70909091, 2.89090909, 2.83636364, 2.8       , 2.07272727,\n",
       "        0.        , 0.        , 0.        , 0.        , 0.        ,\n",
       "        0.        , 0.        , 0.        ],\n",
       "       [0.        , 0.        , 0.        , 0.        , 0.        ,\n",
       "        0.        , 0.        , 0.        , 0.        , 3.58181818,\n",
       "        3.72727273, 2.85454545, 2.81818182, 2.72727273, 1.50909091,\n",
       "        4.34545455, 3.01818182, 2.74545455, 2.81818182, 2.16363636,\n",
       "        0.        , 0.        , 0.        , 0.        , 0.        ,\n",
       "        0.        , 0.        , 0.        ],\n",
       "       [0.        , 0.        , 0.        , 0.        , 0.        ,\n",
       "        0.        , 0.        , 0.        , 0.        , 3.09090909,\n",
       "        3.98181818, 2.83636364, 2.92727273, 2.83636364, 0.30909091,\n",
       "        4.63636364, 3.36363636, 2.76363636, 2.87272727, 2.05454545,\n",
       "        0.        , 0.        , 0.        , 0.        , 0.        ,\n",
       "        0.        , 0.        , 0.        ],\n",
       "       [0.        , 0.        , 0.        , 0.        , 0.        ,\n",
       "        0.        , 0.        , 0.        , 0.        , 2.67272727,\n",
       "        4.18181818, 2.81818182, 3.05454545, 2.50909091, 0.        ,\n",
       "        4.32727273, 3.8       , 2.78181818, 2.89090909, 1.85454545,\n",
       "        0.        , 0.        , 0.        , 0.        , 0.        ,\n",
       "        0.        , 0.        , 0.        ],\n",
       "       [0.        , 0.        , 0.        , 0.        , 0.        ,\n",
       "        0.        , 0.        , 0.        , 0.        , 2.45454545,\n",
       "        4.30909091, 2.90909091, 3.10909091, 2.29090909, 0.        ,\n",
       "        3.92727273, 3.72727273, 2.74545455, 2.94545455, 1.69090909,\n",
       "        0.        , 0.        , 0.        , 0.        , 0.        ,\n",
       "        0.        , 0.        , 0.        ],\n",
       "       [0.        , 0.        , 0.        , 0.        , 0.        ,\n",
       "        0.        , 0.        , 0.        , 0.        , 2.        ,\n",
       "        4.4       , 3.07272727, 3.16363636, 2.27272727, 0.        ,\n",
       "        3.4       , 3.78181818, 2.78181818, 3.01818182, 1.56363636,\n",
       "        0.        , 0.        , 0.        , 0.        , 0.        ,\n",
       "        0.        , 0.        , 0.        ],\n",
       "       [0.        , 0.        , 0.        , 0.        , 0.        ,\n",
       "        0.        , 0.        , 0.        , 0.        , 1.81818182,\n",
       "        4.45454545, 3.14545455, 3.29090909, 2.07272727, 0.        ,\n",
       "        2.81818182, 3.85454545, 2.98181818, 3.07272727, 1.43636364,\n",
       "        0.        , 0.        , 0.        , 0.        , 0.        ,\n",
       "        0.        , 0.        , 0.        ],\n",
       "       [0.        , 0.        , 0.        , 0.        , 0.        ,\n",
       "        0.        , 0.        , 0.        , 0.        , 1.74545455,\n",
       "        4.50909091, 3.10909091, 3.43636364, 1.4       , 0.        ,\n",
       "        2.21818182, 3.92727273, 3.01818182, 3.18181818, 1.21818182,\n",
       "        0.        , 0.        , 0.        , 0.        , 0.        ,\n",
       "        0.        , 0.        , 0.        ],\n",
       "       [0.        , 0.        , 0.        , 0.        , 0.        ,\n",
       "        0.        , 0.        , 0.        , 0.        , 1.54545455,\n",
       "        4.47272727, 3.14545455, 3.49090909, 0.8       , 0.        ,\n",
       "        1.54545455, 3.94545455, 3.01818182, 3.2       , 0.87272727,\n",
       "        0.        , 0.        , 0.        , 0.        , 0.        ,\n",
       "        0.        , 0.        , 0.        ],\n",
       "       [0.        , 0.        , 0.        , 0.        , 0.        ,\n",
       "        0.        , 0.        , 0.        , 0.        , 1.4       ,\n",
       "        4.38181818, 3.10909091, 3.45454545, 0.14545455, 0.        ,\n",
       "        0.2       , 3.74545455, 3.2       , 3.27272727, 0.58181818,\n",
       "        0.        , 0.        , 0.        , 0.        , 0.        ,\n",
       "        0.        , 0.        , 0.        ],\n",
       "       [0.        , 0.        , 0.        , 0.        , 0.        ,\n",
       "        0.        , 0.        , 0.        , 0.        , 1.4       ,\n",
       "        4.34545455, 3.12727273, 3.32727273, 0.        , 0.        ,\n",
       "        0.        , 3.56363636, 3.4       , 3.32727273, 0.41818182,\n",
       "        0.        , 0.        , 0.        , 0.        , 0.        ,\n",
       "        0.        , 0.        , 0.        ],\n",
       "       [0.        , 0.        , 0.        , 0.        , 0.        ,\n",
       "        0.        , 0.        , 0.        , 0.        , 1.43636364,\n",
       "        3.76363636, 3.14545455, 3.18181818, 0.        , 0.        ,\n",
       "        0.        , 3.4       , 3.56363636, 3.36363636, 0.50909091,\n",
       "        0.        , 0.        , 0.        , 0.        , 0.        ,\n",
       "        0.        , 0.        , 0.        ],\n",
       "       [0.        , 0.        , 0.        , 0.        , 0.        ,\n",
       "        0.        , 0.        , 0.        , 0.        , 1.29090909,\n",
       "        3.74545455, 3.2       , 3.09090909, 0.        , 0.        ,\n",
       "        0.        , 3.34545455, 3.54545455, 3.27272727, 0.61818182,\n",
       "        0.        , 0.        , 0.        , 0.        , 0.        ,\n",
       "        0.        , 0.        , 0.        ],\n",
       "       [0.        , 0.        , 0.        , 0.        , 0.        ,\n",
       "        0.        , 0.        , 0.        , 0.        , 0.92727273,\n",
       "        3.69090909, 3.2       , 3.03636364, 0.        , 0.        ,\n",
       "        0.        , 3.36363636, 3.43636364, 3.14545455, 0.38181818,\n",
       "        0.        , 0.        , 0.        , 0.        , 0.        ,\n",
       "        0.        , 0.        , 0.        ],\n",
       "       [0.        , 0.        , 0.        , 0.        , 0.        ,\n",
       "        0.        , 0.        , 0.        , 0.        , 0.52727273,\n",
       "        3.6       , 3.21818182, 3.03636364, 0.        , 0.        ,\n",
       "        0.        , 3.18181818, 3.4       , 3.16363636, 0.        ,\n",
       "        0.        , 0.        , 0.        , 0.        , 0.        ,\n",
       "        0.        , 0.        , 0.        ],\n",
       "       [0.        , 0.        , 0.        , 0.        , 0.        ,\n",
       "        0.        , 0.        , 0.        , 0.        , 0.23636364,\n",
       "        3.47272727, 3.21818182, 2.94545455, 0.        , 0.        ,\n",
       "        0.        , 3.21818182, 3.43636364, 3.05454545, 0.        ,\n",
       "        0.        , 0.        , 0.        , 0.        , 0.        ,\n",
       "        0.        , 0.        , 0.        ],\n",
       "       [0.        , 0.        , 0.        , 0.        , 0.        ,\n",
       "        0.        , 0.        , 0.        , 0.        , 0.        ,\n",
       "        3.27272727, 3.47272727, 2.87272727, 0.        , 0.        ,\n",
       "        0.        , 3.07272727, 3.72727273, 2.49090909, 0.        ,\n",
       "        0.        , 0.        , 0.        , 0.        , 0.        ,\n",
       "        0.        , 0.        , 0.        ],\n",
       "       [0.        , 0.        , 0.        , 0.        , 0.        ,\n",
       "        0.        , 0.        , 0.        , 0.        , 0.        ,\n",
       "        2.61818182, 3.89090909, 2.18181818, 0.        , 0.07272727,\n",
       "        0.        , 2.45454545, 3.94545455, 2.03636364, 0.        ,\n",
       "        0.        , 0.        , 0.        , 0.        , 0.        ,\n",
       "        0.        , 0.        , 0.        ],\n",
       "       [0.        , 0.        , 0.        , 0.        , 0.        ,\n",
       "        0.        , 0.        , 0.        , 0.        , 0.        ,\n",
       "        2.27272727, 4.47272727, 2.29090909, 0.        , 0.07272727,\n",
       "        0.        , 2.58181818, 4.30909091, 1.94545455, 0.        ,\n",
       "        0.        , 0.        , 0.        , 0.        , 0.        ,\n",
       "        0.        , 0.        , 0.        ],\n",
       "       [0.        , 0.        , 0.        , 0.        , 0.        ,\n",
       "        0.        , 0.        , 0.        , 0.        , 0.        ,\n",
       "        0.54545455, 2.69090909, 1.03636364, 0.        , 0.        ,\n",
       "        0.        , 1.        , 1.96363636, 0.16363636, 0.        ,\n",
       "        0.        , 0.        , 0.        , 0.        , 0.        ,\n",
       "        0.        , 0.        , 0.        ]])"
      ]
     },
     "execution_count": 28,
     "metadata": {},
     "output_type": "execute_result"
    }
   ],
   "source": [
    "x_train[1996]"
   ]
  },
  {
   "cell_type": "markdown",
   "metadata": {},
   "source": [
    "## 4.打造神經網路"
   ]
  },
  {
   "cell_type": "code",
   "execution_count": 33,
   "metadata": {},
   "outputs": [],
   "source": [
    "model = keras.models.Sequential([\n",
    "    keras.layers.Flatten(input_shape=[28, 28]),\n",
    "    keras.layers.Dense(300, activation='relu'),\n",
    "    keras.layers.Dense(100, activation=\"relu\"),\n",
    "    keras.layers.Dense(10, activation='softmax')\n",
    "])"
   ]
  },
  {
   "cell_type": "code",
   "execution_count": 35,
   "metadata": {},
   "outputs": [
    {
     "name": "stdout",
     "output_type": "stream",
     "text": [
      "Model: \"sequential_1\"\n",
      "_________________________________________________________________\n",
      "Layer (type)                 Output Shape              Param #   \n",
      "=================================================================\n",
      "flatten_1 (Flatten)          (None, 784)               0         \n",
      "_________________________________________________________________\n",
      "dense_1 (Dense)              (None, 300)               235500    \n",
      "_________________________________________________________________\n",
      "dense_2 (Dense)              (None, 100)               30100     \n",
      "_________________________________________________________________\n",
      "dense_3 (Dense)              (None, 10)                1010      \n",
      "=================================================================\n",
      "Total params: 266,610\n",
      "Trainable params: 266,610\n",
      "Non-trainable params: 0\n",
      "_________________________________________________________________\n"
     ]
    }
   ],
   "source": [
    "model.summary()\n",
    "# 235500 = 784 * 300 + 300"
   ]
  },
  {
   "cell_type": "code",
   "execution_count": 36,
   "metadata": {},
   "outputs": [
    {
     "data": {
      "text/plain": [
       "[<keras.layers.core.Flatten at 0x29fd351ac18>,\n",
       " <keras.layers.core.Dense at 0x29fd3503a58>,\n",
       " <keras.layers.core.Dense at 0x29fd351a518>,\n",
       " <keras.layers.core.Dense at 0x29fd351af98>]"
      ]
     },
     "execution_count": 36,
     "metadata": {},
     "output_type": "execute_result"
    }
   ],
   "source": [
    "model.layers"
   ]
  },
  {
   "cell_type": "code",
   "execution_count": 37,
   "metadata": {},
   "outputs": [
    {
     "data": {
      "text/plain": [
       "'dense_2'"
      ]
     },
     "execution_count": 37,
     "metadata": {},
     "output_type": "execute_result"
    }
   ],
   "source": [
    "model.layers[2].name"
   ]
  },
  {
   "cell_type": "code",
   "execution_count": 38,
   "metadata": {},
   "outputs": [
    {
     "data": {
      "text/plain": [
       "'dense_3'"
      ]
     },
     "execution_count": 38,
     "metadata": {},
     "output_type": "execute_result"
    }
   ],
   "source": [
    "model.get_layer('dense_3').name"
   ]
  },
  {
   "cell_type": "code",
   "execution_count": 56,
   "metadata": {},
   "outputs": [
    {
     "ename": "ValueError",
     "evalue": "too many values to unpack (expected 2)",
     "output_type": "error",
     "traceback": [
      "\u001b[1;31m---------------------------------------------------------------------------\u001b[0m",
      "\u001b[1;31mValueError\u001b[0m                                Traceback (most recent call last)",
      "\u001b[1;32m<ipython-input-56-4d7e9d5cde05>\u001b[0m in \u001b[0;36m<module>\u001b[1;34m\u001b[0m\n\u001b[0;32m      1\u001b[0m \u001b[1;31m#Error\u001b[0m\u001b[1;33m\u001b[0m\u001b[1;33m\u001b[0m\u001b[1;33m\u001b[0m\u001b[0m\n\u001b[1;32m----> 2\u001b[1;33m \u001b[0mweights\u001b[0m\u001b[1;33m,\u001b[0m \u001b[0mbiases\u001b[0m \u001b[1;33m=\u001b[0m \u001b[0mmodel\u001b[0m\u001b[1;33m.\u001b[0m\u001b[0mget_weights\u001b[0m\u001b[1;33m(\u001b[0m\u001b[1;33m)\u001b[0m\u001b[1;33m\u001b[0m\u001b[1;33m\u001b[0m\u001b[0m\n\u001b[0m",
      "\u001b[1;31mValueError\u001b[0m: too many values to unpack (expected 2)"
     ]
    }
   ],
   "source": [
    "#Error\n",
    "weights, biases = model.get_weights()"
   ]
  },
  {
   "cell_type": "code",
   "execution_count": 57,
   "metadata": {},
   "outputs": [],
   "source": [
    "# 直接调出所有weights和bias\n",
    "weights = model.get_weights()"
   ]
  },
  {
   "cell_type": "code",
   "execution_count": 58,
   "metadata": {},
   "outputs": [
    {
     "data": {
      "text/plain": [
       "array([ 0.0038802 , -0.14778456,  0.18315585,  0.23002547, -0.35581413,\n",
       "       -0.00744237,  0.22422393,  0.10167295, -0.07548056, -0.15644194],\n",
       "      dtype=float32)"
      ]
     },
     "execution_count": 58,
     "metadata": {},
     "output_type": "execute_result"
    }
   ],
   "source": [
    "model.get_weights()[5] #dense_3的weights"
   ]
  },
  {
   "cell_type": "code",
   "execution_count": 59,
   "metadata": {},
   "outputs": [
    {
     "data": {
      "text/plain": [
       "[array([[-0.00485522,  0.06675908,  0.01972842, ...,  0.02646462,\n",
       "          0.03574827, -0.01503596],\n",
       "        [ 0.04498195, -0.00154321, -0.01459563, ...,  0.02219802,\n",
       "          0.06071515,  0.04640538],\n",
       "        [ 0.04516356, -0.01754917,  0.03314548, ...,  0.06192481,\n",
       "          0.01669499, -0.05090718],\n",
       "        ...,\n",
       "        [ 0.00876202, -0.02903426,  0.04134344, ...,  0.00297316,\n",
       "         -0.05086133,  0.0500694 ],\n",
       "        [-0.00282734,  0.0397285 , -0.00020264, ..., -0.04780283,\n",
       "          0.01218987, -0.04365636],\n",
       "        [-0.00387125, -0.04244172,  0.03587386, ..., -0.05544654,\n",
       "          0.07079292,  0.05486284]], dtype=float32),\n",
       " array([ 4.5423768e-02,  1.0676027e-02,  5.5175457e-02,  3.8929448e-02,\n",
       "        -1.7945050e-03, -5.8943446e-04,  2.7124947e-02, -2.5083700e-02,\n",
       "         6.1089145e-03,  2.7246224e-02,  4.6569180e-02,  4.9425744e-02,\n",
       "        -3.8916513e-02, -3.2438615e-03, -3.6989566e-02,  2.9740741e-02,\n",
       "         1.7635329e-03,  2.7021809e-02, -2.5261698e-02,  1.2187910e-02,\n",
       "         8.0361724e-02,  4.3229010e-02, -2.1375671e-02,  6.5870825e-03,\n",
       "         2.0525578e-02,  2.4094196e-02,  3.7891909e-02, -2.2966282e-02,\n",
       "         1.3253174e-02,  6.2485286e-03, -8.4192376e-04, -1.0274694e-02,\n",
       "         6.3862070e-02, -2.6308784e-02,  6.9781658e-03,  2.0575443e-02,\n",
       "         4.8597876e-04,  3.1956568e-02,  4.0264208e-02,  1.3430430e-04,\n",
       "         4.0675681e-02, -7.7020936e-03,  2.4131166e-02,  2.5824778e-04,\n",
       "         1.0201086e-02,  2.3217466e-02,  4.7671702e-02,  5.5510290e-02,\n",
       "         3.2646555e-02,  1.6665664e-02,  4.7246184e-02,  2.2048552e-02,\n",
       "        -1.2412961e-03, -1.1053765e-02,  3.8347144e-03,  2.0876177e-02,\n",
       "         1.5267156e-02,  5.3818924e-03,  4.6635882e-04, -1.1877215e-03,\n",
       "         3.9389569e-02,  7.8667642e-04,  7.9510123e-02, -1.2121776e-02,\n",
       "         2.3550782e-02, -7.8254222e-04,  3.3372041e-02,  5.1591643e-03,\n",
       "         2.5475096e-02, -3.6323501e-03,  1.7077221e-02,  5.2143179e-02,\n",
       "         2.9737508e-02, -3.5561125e-03,  1.1389313e-02,  5.6165505e-02,\n",
       "        -4.3929446e-02,  3.6915880e-02, -5.7296600e-02,  4.0117040e-02,\n",
       "        -2.7135428e-02,  7.9609314e-03, -7.3005189e-04,  6.4747641e-03,\n",
       "        -1.8613037e-02,  8.8412790e-03, -3.9172683e-02,  4.0416494e-03,\n",
       "         5.1064465e-02,  6.9628926e-03, -6.5290213e-02,  5.1555198e-02,\n",
       "         5.2104872e-02,  2.7539857e-02,  1.6123144e-02,  3.6024556e-03,\n",
       "        -8.0900779e-03,  6.5935212e-03,  3.6095057e-02, -6.0132068e-02,\n",
       "         6.7200996e-02,  6.3977458e-02,  1.2160441e-02,  2.4705747e-02,\n",
       "         1.6007351e-02,  2.1778025e-02,  2.7019287e-02, -4.5002017e-02,\n",
       "         3.7831040e-03, -2.3771203e-03,  3.1787358e-02, -7.1877992e-04,\n",
       "        -2.6952272e-02, -3.5076548e-04,  5.5993468e-02,  2.2472028e-02,\n",
       "        -3.5039538e-03,  6.4439727e-03, -2.0474568e-02,  7.2715446e-02,\n",
       "        -2.1263137e-02,  5.3908531e-02,  1.3135894e-02,  2.4080908e-02,\n",
       "        -2.3118552e-02,  1.2837959e-02,  3.9090290e-05,  3.2998610e-02,\n",
       "         3.0899229e-02,  2.4130674e-02, -7.2201015e-03,  6.1990749e-02,\n",
       "         2.5571672e-02,  2.9885074e-02,  2.8922061e-02, -4.0851180e-02,\n",
       "         9.5527689e-04,  1.5916955e-02,  3.6871031e-02,  1.2738985e-02,\n",
       "        -5.6924894e-03, -1.8851774e-02, -1.1909196e-02,  3.6342084e-02,\n",
       "         2.0404637e-02, -1.7896242e-03,  4.3782335e-02,  1.2952862e-03,\n",
       "         3.3575457e-02, -2.9652106e-02,  1.6159908e-03,  1.9748430e-03,\n",
       "         3.0135675e-04,  3.4941684e-02,  2.4682265e-02, -3.0117894e-02,\n",
       "         4.2394593e-02,  3.8307114e-03,  4.4755865e-02,  3.8624145e-02,\n",
       "         1.5806856e-02,  2.1915216e-02,  5.1678158e-02,  2.1890894e-02,\n",
       "        -1.2533137e-03, -7.7838346e-02, -1.0208720e-02, -6.0216892e-03,\n",
       "        -6.8092071e-02, -3.9200746e-03, -1.4537631e-03, -4.6568416e-02,\n",
       "        -1.2486910e-04, -5.9819087e-02,  2.1235563e-02,  1.5599205e-02,\n",
       "        -2.8776715e-02, -6.6073360e-03,  2.3757692e-03,  4.7767457e-02,\n",
       "         5.1017613e-03,  5.7682008e-03, -3.0181827e-03,  5.2777696e-02,\n",
       "        -3.4133850e-03, -5.2148443e-02, -7.6317484e-04,  4.9403138e-02,\n",
       "         5.0874908e-02,  4.5169160e-02, -1.2258606e-02,  4.2815425e-02,\n",
       "        -4.5203515e-03,  1.9315135e-02, -2.3629162e-02, -1.3670079e-02,\n",
       "         3.9419971e-02, -2.9622575e-02,  5.0399532e-03,  4.0051091e-02,\n",
       "         3.0903650e-02, -3.6959483e-03,  6.3659608e-02,  9.9636503e-02,\n",
       "         3.9412454e-02,  3.2474414e-02,  3.0810447e-02,  2.1574743e-02,\n",
       "        -6.9601992e-03, -1.0182683e-03,  2.3100534e-03,  1.1880602e-02,\n",
       "         2.9996373e-02,  2.0127300e-02,  1.3621221e-02,  1.4762648e-02,\n",
       "        -1.7739692e-03,  2.5061999e-02,  3.9699335e-02,  2.3192147e-02,\n",
       "        -3.2595620e-03,  1.6767917e-02,  1.5968060e-02, -3.1452991e-02,\n",
       "        -2.9175973e-03,  1.5681697e-02,  5.7377346e-02, -6.0283644e-03,\n",
       "         1.8602043e-02,  4.1226104e-02, -3.0390539e-03,  2.3108633e-02,\n",
       "        -9.3291351e-04,  1.7183046e-04,  2.5988303e-02,  3.5295080e-02,\n",
       "         4.8758812e-02,  3.3645008e-02,  2.5814779e-02,  3.1368541e-05,\n",
       "         2.0492077e-02,  2.8817870e-02,  8.9788936e-02, -4.7620605e-03,\n",
       "         5.4699752e-02,  4.7166344e-02, -2.2554802e-02, -4.0225610e-02,\n",
       "         7.5141434e-03, -1.1175890e-02,  1.2762574e-02,  1.0565530e-02,\n",
       "         5.9172444e-02, -4.9608726e-02,  6.2432107e-02, -6.2073156e-02,\n",
       "         1.9070914e-02, -3.3358686e-02,  2.7827902e-02,  2.9029926e-02,\n",
       "         2.2526618e-02, -2.1846967e-03,  2.8893296e-02,  3.1663049e-03,\n",
       "         1.1941621e-02,  4.8161056e-03,  5.4986071e-04,  1.3162494e-02,\n",
       "         5.3877786e-02,  7.9518724e-03,  2.8417681e-03,  6.1656805e-03,\n",
       "        -3.2087523e-02,  1.9651821e-02,  5.3570777e-02, -4.3253232e-02,\n",
       "         5.4333407e-02,  1.6330207e-02,  1.7405430e-02,  7.0202723e-04,\n",
       "         3.1738054e-02,  3.1173723e-02,  3.3373713e-02, -1.8972583e-04,\n",
       "        -4.5750062e-03,  3.6000505e-02, -1.0977576e-03,  2.6888905e-02,\n",
       "         7.3120398e-03, -1.7125264e-02, -2.7348320e-03,  6.0671363e-03,\n",
       "         2.6246501e-02,  1.7130215e-02,  3.7529919e-02,  1.7701223e-02,\n",
       "        -5.1970612e-03, -7.8470334e-03,  5.6842517e-02,  9.4086761e-03],\n",
       "       dtype=float32),\n",
       " array([[-0.09728099,  0.03508951, -0.05752704, ..., -0.10844299,\n",
       "          0.05910859,  0.09912298],\n",
       "        [ 0.10821294,  0.0361549 ,  0.08755466, ...,  0.05571173,\n",
       "          0.06606247, -0.09728088],\n",
       "        [-0.0380427 , -0.01051398, -0.0483691 , ..., -0.11873394,\n",
       "         -0.06841786,  0.04484695],\n",
       "        ...,\n",
       "        [-0.07643876,  0.04474836,  0.03947955, ...,  0.09717348,\n",
       "         -0.00578166, -0.08320121],\n",
       "        [ 0.09937796,  0.00560518, -0.0755654 , ..., -0.0608613 ,\n",
       "         -0.08020431,  0.04174399],\n",
       "        [-0.07868499,  0.03164723,  0.07299987, ..., -0.10766819,\n",
       "         -0.02181216, -0.08508645]], dtype=float32),\n",
       " array([ 0.05459861,  0.12317844,  0.03749639, -0.00148385,  0.09560155,\n",
       "         0.00717138,  0.12384159, -0.00086897, -0.01365193,  0.02024498,\n",
       "         0.07035215, -0.00444989,  0.09048389,  0.0724661 , -0.0565623 ,\n",
       "         0.04979417,  0.0215248 ,  0.02097679, -0.08386693,  0.13162228,\n",
       "         0.02279739, -0.01340488,  0.00174214,  0.06349897, -0.01516373,\n",
       "         0.05017671,  0.01316084,  0.14428559,  0.0040537 ,  0.06944168,\n",
       "         0.00217513, -0.01231172,  0.03690694,  0.00155352,  0.09000186,\n",
       "         0.01443991, -0.01039153,  0.06231031,  0.03048735,  0.02597926,\n",
       "         0.03926535, -0.02236949,  0.04355115,  0.03769716, -0.00544054,\n",
       "        -0.01263432, -0.01677977, -0.0444979 ,  0.03060883,  0.0090511 ,\n",
       "         0.01829037, -0.01651238, -0.00574541, -0.00042888, -0.02994038,\n",
       "         0.03377751, -0.00559203, -0.05178255,  0.08782358,  0.13047017,\n",
       "         0.01169127,  0.04405132, -0.00061851,  0.03124083,  0.04657078,\n",
       "        -0.00834118,  0.03462224, -0.04204905, -0.03707203,  0.06164743,\n",
       "         0.12681648, -0.00214833,  0.02604242,  0.1159433 ,  0.02567908,\n",
       "         0.05303625,  0.00385981,  0.07881599, -0.01346841,  0.05061936,\n",
       "         0.00072371, -0.11357382, -0.04996865,  0.03661744,  0.0179608 ,\n",
       "         0.07255898,  0.03787624,  0.0487659 ,  0.00744633,  0.07224449,\n",
       "         0.03726966, -0.02757375,  0.06758981,  0.06694946,  0.05935558,\n",
       "        -0.00504047,  0.03055541,  0.01029635,  0.04109483,  0.07872897],\n",
       "       dtype=float32),\n",
       " array([[ 2.13165775e-01, -1.78424120e-01,  2.87192255e-01,\n",
       "         -3.09518166e-02, -1.76385716e-01,  1.17440000e-01,\n",
       "         -4.43997741e-01,  1.31603688e-01, -2.02738225e-01,\n",
       "          4.30057198e-01],\n",
       "        [-4.10191238e-01, -2.25216880e-01, -9.60627720e-02,\n",
       "          5.36987484e-01,  3.23344290e-01,  1.88389316e-01,\n",
       "         -2.10317150e-01,  1.92439049e-01,  1.00658134e-01,\n",
       "         -9.33401808e-02],\n",
       "        [-3.66722122e-02,  5.74375056e-02, -3.14823568e-01,\n",
       "         -7.81393051e-02,  3.48071277e-01,  2.05164567e-01,\n",
       "          4.66385126e-01,  1.56308174e-01,  9.55765063e-05,\n",
       "         -1.93785742e-01],\n",
       "        [ 6.37481064e-02, -8.88938978e-02,  1.99862644e-01,\n",
       "          1.28337339e-01, -6.38039932e-02,  5.90298586e-02,\n",
       "         -7.83263892e-02,  1.75954908e-01,  6.71794936e-02,\n",
       "         -3.99933837e-04],\n",
       "        [ 1.07675068e-01,  1.09963469e-01,  2.10566118e-01,\n",
       "         -3.72529685e-01, -3.13779026e-01,  3.26322168e-01,\n",
       "         -2.57445246e-01,  1.02075696e-01,  2.37694159e-01,\n",
       "         -3.09732467e-01],\n",
       "        [ 2.26794511e-01,  2.09198937e-01, -1.01482514e-02,\n",
       "          1.19692668e-01, -1.18665867e-01, -7.76302665e-02,\n",
       "         -2.66137272e-01, -2.44634241e-01, -2.45089997e-02,\n",
       "          2.25521341e-01],\n",
       "        [-1.42131373e-01, -5.78780286e-02, -2.53847957e-01,\n",
       "          1.76816657e-01, -3.73203844e-01, -3.55648071e-01,\n",
       "          1.42166108e-01,  2.72453249e-01, -2.59290010e-01,\n",
       "         -1.38873369e-01],\n",
       "        [-1.99102908e-01,  2.25803450e-01, -5.53166121e-03,\n",
       "          3.54236543e-01,  1.26068339e-01, -1.51318191e-02,\n",
       "         -2.80567408e-01,  2.26050690e-01, -8.44196975e-02,\n",
       "         -1.80479631e-01],\n",
       "        [-2.14717284e-01, -1.92476571e-01, -1.49341896e-01,\n",
       "          2.26425856e-01,  1.77986920e-01, -1.94798246e-01,\n",
       "         -2.02262506e-01,  2.02866688e-01,  1.98286355e-01,\n",
       "         -1.80876464e-01],\n",
       "        [-9.19739604e-02,  1.02167629e-01, -1.95767537e-01,\n",
       "          1.37285367e-01, -1.46851435e-01, -2.17302576e-01,\n",
       "          2.53474742e-01, -6.99164718e-02, -1.70694649e-01,\n",
       "         -8.19375366e-02],\n",
       "        [ 1.34686111e-02,  2.78186321e-01, -7.59261474e-02,\n",
       "         -4.62534338e-01,  8.05273876e-02,  2.89650530e-01,\n",
       "          1.70926660e-01,  3.21696430e-01,  1.12743743e-01,\n",
       "         -4.62748379e-01],\n",
       "        [ 1.30540296e-01,  7.24591538e-02, -9.38215479e-02,\n",
       "         -3.97998393e-02,  4.25602458e-02,  1.00383870e-01,\n",
       "         -2.95293853e-02, -1.04608084e-03, -3.17429751e-03,\n",
       "         -1.55625477e-01],\n",
       "        [ 2.66994774e-01, -3.09898317e-01,  1.09457083e-01,\n",
       "         -2.11300462e-01,  8.08656961e-02, -2.02174857e-01,\n",
       "         -2.03490883e-01,  2.88596004e-01, -2.96128720e-01,\n",
       "         -2.42964923e-01],\n",
       "        [ 3.14254731e-01, -2.23580241e-01,  2.05500484e-01,\n",
       "         -2.19081402e-01, -2.88094968e-01, -1.90611497e-01,\n",
       "         -1.31247640e-01,  5.33594526e-02, -1.19503118e-01,\n",
       "          2.19900399e-01],\n",
       "        [ 5.74389100e-02, -3.46845716e-01, -1.00961201e-01,\n",
       "         -2.76244860e-02,  2.06254318e-01, -3.16345423e-01,\n",
       "          1.57507420e-01, -3.15414697e-01,  4.17901874e-01,\n",
       "         -9.67015922e-02],\n",
       "        [-2.75222570e-01, -7.33321756e-02,  3.85032237e-01,\n",
       "          1.58488631e-01, -1.05679728e-01, -1.12793423e-01,\n",
       "         -7.44102299e-02, -1.54919982e-01, -1.68567255e-01,\n",
       "         -3.91592197e-02],\n",
       "        [-2.80467391e-01, -1.38511464e-01, -5.49395867e-02,\n",
       "          1.43387184e-01,  2.87698526e-02, -2.86204480e-02,\n",
       "          2.46789530e-01, -8.38644337e-03,  4.34719086e-01,\n",
       "          2.74618417e-01],\n",
       "        [-2.39564329e-01, -1.50873572e-01, -2.10325122e-01,\n",
       "          1.16367467e-01,  1.35778069e-01,  2.94221312e-01,\n",
       "          1.55090019e-01,  1.38477221e-01, -2.46964931e-01,\n",
       "          6.64478168e-02],\n",
       "        [ 4.34044711e-02, -1.85271487e-01, -1.80721074e-01,\n",
       "         -3.99383783e-01, -3.38297077e-02, -1.09010585e-01,\n",
       "         -3.92574161e-01,  1.28071234e-01,  8.26061890e-03,\n",
       "          4.59074795e-01],\n",
       "        [ 3.43344122e-01,  4.77891490e-02, -3.71326625e-01,\n",
       "          4.71353263e-01,  1.26012310e-01, -9.09015303e-04,\n",
       "          2.23087996e-01,  8.21958780e-02,  5.98139726e-02,\n",
       "         -2.80532420e-01],\n",
       "        [-8.37703049e-02, -2.15858638e-01, -3.06162722e-02,\n",
       "          2.24617764e-01, -3.97921979e-01,  1.42333284e-01,\n",
       "         -2.35893667e-01, -4.01250660e-01,  1.37350664e-01,\n",
       "          2.03216866e-01],\n",
       "        [ 9.17313397e-02, -1.07088521e-01,  2.14286130e-02,\n",
       "          5.64300343e-02,  2.56133765e-01,  2.61977136e-01,\n",
       "          2.74112403e-01,  8.01211819e-02,  2.62509659e-03,\n",
       "         -1.41047329e-01],\n",
       "        [-2.47570667e-02,  1.87575176e-01, -1.28134177e-03,\n",
       "          7.23762512e-02, -5.88682517e-02,  2.12524342e-03,\n",
       "          1.75294176e-01, -1.09015681e-01, -5.30842580e-02,\n",
       "         -1.69019386e-01],\n",
       "        [-1.53389171e-01,  2.97795366e-02, -3.03080585e-02,\n",
       "          3.91523421e-01,  1.80787947e-02, -1.66614279e-02,\n",
       "          2.34876752e-01,  2.32752502e-01,  1.37758814e-02,\n",
       "          3.17636758e-01],\n",
       "        [-9.56602581e-03,  1.94375515e-01, -2.52261698e-01,\n",
       "         -5.90150692e-02, -1.38937369e-01,  8.40506330e-02,\n",
       "         -4.17372920e-02, -1.40082285e-01,  2.48539463e-01,\n",
       "         -2.59804338e-01],\n",
       "        [-1.28101766e-01,  2.14091897e-01,  1.51042774e-01,\n",
       "         -8.99846852e-02,  1.21368639e-01, -1.88518420e-01,\n",
       "          2.66613334e-01,  1.96432844e-01,  3.19113523e-01,\n",
       "          1.11891426e-01],\n",
       "        [ 3.23599607e-01,  4.74093035e-02,  3.41543376e-01,\n",
       "         -1.69630527e-01,  2.76947543e-02, -9.48667228e-02,\n",
       "         -2.98200279e-01, -1.40252709e-01, -2.34405875e-01,\n",
       "         -2.70265609e-01],\n",
       "        [ 6.19775653e-02,  2.02721328e-01,  3.98521960e-01,\n",
       "          3.50504309e-01, -3.38612378e-01, -6.91248029e-02,\n",
       "          2.88792938e-01,  2.33497083e-01, -5.39740436e-02,\n",
       "         -2.82763124e-01],\n",
       "        [ 4.85664271e-02, -1.72484264e-01, -1.64252609e-01,\n",
       "          1.37380473e-02,  2.02640191e-01, -1.01667158e-02,\n",
       "         -2.33482998e-02,  1.49706692e-01, -1.12891920e-01,\n",
       "          1.19818248e-01],\n",
       "        [-4.06645864e-01, -1.52273536e-01,  4.01540771e-02,\n",
       "          1.74975187e-01, -2.05570400e-01,  3.57842565e-01,\n",
       "          2.67570987e-02, -9.72912312e-02,  1.45976365e-01,\n",
       "         -1.64698586e-01],\n",
       "        [-1.57597423e-01, -2.28293747e-01, -1.60912886e-01,\n",
       "          4.07535918e-02, -2.79662665e-02, -1.73163399e-01,\n",
       "         -1.63542271e-01, -1.66903242e-01,  1.93673790e-01,\n",
       "         -3.52799222e-02],\n",
       "        [ 3.63713861e-01,  3.21809202e-01,  1.00478187e-01,\n",
       "          1.48612484e-01,  2.75557131e-01, -6.69312000e-01,\n",
       "          2.82556534e-01, -4.10105973e-01,  1.78544939e-01,\n",
       "         -3.40104699e-01],\n",
       "        [ 1.06817335e-01, -1.02519222e-01, -2.74339050e-01,\n",
       "          4.46358733e-02,  2.88199276e-01, -4.25312430e-01,\n",
       "         -2.21124962e-01,  3.03566605e-01,  1.64624989e-01,\n",
       "          2.47074470e-01],\n",
       "        [-1.78013802e-01,  1.09389916e-01,  5.77148013e-02,\n",
       "         -2.21248761e-01,  1.64613858e-01,  1.68417811e-01,\n",
       "          3.27689916e-01, -2.22897530e-01,  2.33536869e-01,\n",
       "          1.43072993e-01],\n",
       "        [ 3.03499967e-01, -4.64173779e-02,  2.02143133e-01,\n",
       "         -5.95917329e-02, -3.46817106e-01, -2.28488579e-01,\n",
       "          1.89440563e-01,  6.19015023e-02, -3.26369563e-03,\n",
       "         -1.31883904e-01],\n",
       "        [ 1.23598419e-01, -5.04939370e-02,  3.17024887e-01,\n",
       "         -5.18614019e-04,  1.60989016e-01, -1.52721822e-01,\n",
       "          1.61062684e-02,  2.60707855e-01,  1.55129462e-01,\n",
       "         -1.01195328e-01],\n",
       "        [ 7.44140074e-02, -4.99324165e-02,  6.23107664e-02,\n",
       "         -1.96629211e-01, -3.03566512e-02,  2.40134582e-01,\n",
       "          1.12979189e-01, -1.18140958e-01, -1.84058592e-01,\n",
       "         -1.85267434e-01],\n",
       "        [-3.78154129e-01, -4.15140271e-01,  2.76588380e-01,\n",
       "          3.49460274e-01,  1.64796472e-01, -1.06513202e-02,\n",
       "          8.43193159e-02, -8.29946771e-02,  3.87810528e-01,\n",
       "         -3.35756749e-01],\n",
       "        [-8.43723416e-02, -1.08105689e-01, -2.46279657e-01,\n",
       "          5.37101448e-01, -3.63177985e-01,  5.01477838e-01,\n",
       "         -1.35335684e-01, -2.93726474e-01, -6.38005584e-02,\n",
       "         -1.95270121e-01],\n",
       "        [-3.45354050e-01,  9.22502801e-02, -1.68999702e-01,\n",
       "          1.68151602e-01,  1.12784402e-02,  2.26426661e-01,\n",
       "          1.81233615e-01,  2.16275230e-01,  2.18095370e-02,\n",
       "          1.41277298e-01],\n",
       "        [ 4.97141518e-02,  2.70037323e-01,  1.30423024e-01,\n",
       "          2.40361571e-01, -9.70964693e-03, -2.28281692e-01,\n",
       "         -2.53046453e-01, -3.32336992e-01, -1.63081363e-01,\n",
       "          4.51586135e-02],\n",
       "        [ 4.54541063e-03, -2.76647776e-01,  1.12059802e-01,\n",
       "         -3.83118898e-01,  6.91134334e-02, -4.24693197e-01,\n",
       "          1.42717764e-01,  1.34883905e-02,  3.34110230e-01,\n",
       "          2.43217185e-01],\n",
       "        [ 5.47853291e-01,  5.97227104e-02, -4.54345830e-02,\n",
       "          7.17829987e-02, -2.34398648e-01, -1.09676765e-02,\n",
       "         -2.09290817e-01, -1.13172188e-01,  7.33450651e-02,\n",
       "          1.99493527e-01],\n",
       "        [ 2.80201226e-01, -4.52085167e-01,  8.19928572e-02,\n",
       "          2.79675245e-01,  1.84345722e-01,  3.33192766e-01,\n",
       "         -4.75392072e-03, -5.22108555e-01, -3.44165444e-01,\n",
       "          2.29725733e-01],\n",
       "        [ 1.97948232e-01,  4.20849025e-02,  8.07253793e-02,\n",
       "         -1.05722465e-01, -1.32919960e-02, -5.13714179e-02,\n",
       "         -2.34917521e-01, -2.13778809e-01,  5.79026528e-02,\n",
       "          1.07967071e-01],\n",
       "        [ 2.05400214e-01,  2.25101143e-01, -2.36248553e-01,\n",
       "         -3.50197971e-01,  3.11232805e-01, -1.59111470e-01,\n",
       "         -1.10208161e-01, -1.35044366e-01,  6.10490181e-02,\n",
       "          2.00195715e-01],\n",
       "        [-3.26900072e-02,  2.14726612e-01,  3.25867593e-01,\n",
       "         -4.05445635e-01,  3.26148599e-01, -1.10546127e-01,\n",
       "          2.02270299e-01, -8.90085772e-02, -2.60019541e-01,\n",
       "          2.99501196e-02],\n",
       "        [-1.68468922e-01,  5.14003992e-01,  2.47917101e-01,\n",
       "         -2.41347075e-01,  2.93106195e-02, -6.28480837e-02,\n",
       "         -2.59584427e-01, -2.29331896e-01, -3.03875953e-02,\n",
       "         -1.77565739e-01],\n",
       "        [-3.45330626e-01,  1.72090799e-01,  2.88938016e-01,\n",
       "         -2.11401638e-02,  3.77584100e-01, -2.64214545e-01,\n",
       "          2.62335986e-01,  1.83687732e-01, -3.09199810e-01,\n",
       "          6.68991283e-02],\n",
       "        [-2.57545393e-02, -9.10534635e-02, -3.14195417e-02,\n",
       "          5.34722954e-02,  5.35938293e-02,  5.11967003e-01,\n",
       "         -2.89973076e-02,  1.53467104e-01, -3.48269999e-01,\n",
       "          1.83442026e-01],\n",
       "        [-1.77233666e-02, -5.16420156e-02, -3.23095582e-02,\n",
       "         -2.16431037e-01,  5.88092804e-02, -2.76456140e-02,\n",
       "          2.02168420e-01,  3.59488130e-01,  1.56691477e-01,\n",
       "         -1.08706698e-01],\n",
       "        [ 1.34685606e-01,  3.06277752e-01, -3.41214627e-01,\n",
       "         -2.98203170e-01, -1.87588438e-01,  7.55305514e-02,\n",
       "         -1.32691756e-01,  1.00645564e-01, -1.25965074e-01,\n",
       "          1.58090010e-01],\n",
       "        [-7.69871175e-02,  9.99931246e-02,  8.51653367e-02,\n",
       "         -2.84293443e-01,  1.75670534e-01,  2.00646535e-01,\n",
       "         -2.15395436e-01, -2.32873276e-01,  1.05119176e-01,\n",
       "         -6.37417659e-02],\n",
       "        [-1.63876973e-02,  1.58472493e-01,  2.08567411e-01,\n",
       "         -1.85495213e-01, -2.32552096e-01, -1.05745383e-01,\n",
       "          3.88168916e-02, -4.86919545e-02, -2.40835294e-01,\n",
       "         -1.26348570e-01],\n",
       "        [-3.27554315e-01,  4.11138713e-01,  8.11128039e-03,\n",
       "         -5.52228000e-03,  1.57750562e-01,  1.73769683e-01,\n",
       "         -3.47025603e-01, -5.28742671e-02, -2.44630560e-01,\n",
       "         -4.61697467e-02],\n",
       "        [-6.38317689e-02,  1.11296102e-01,  2.57726699e-01,\n",
       "          2.02146962e-01,  1.56874627e-01, -3.04786772e-01,\n",
       "         -9.16528702e-02,  1.20350748e-01, -2.42250964e-01,\n",
       "          1.74516067e-01],\n",
       "        [ 2.45852377e-02,  2.03549206e-01,  3.17402817e-02,\n",
       "          5.67552596e-02,  1.70538336e-01, -1.19532384e-01,\n",
       "          1.25298068e-01, -3.22116017e-02,  1.94891039e-02,\n",
       "          1.27636507e-01],\n",
       "        [-1.17602780e-01,  2.29059502e-01, -2.67148107e-01,\n",
       "         -7.07323477e-02,  2.82825112e-01,  2.61368990e-01,\n",
       "         -3.16884458e-01,  1.90466061e-01,  3.12990725e-01,\n",
       "          1.49525806e-01],\n",
       "        [ 2.39062175e-01,  1.50243267e-01, -3.64293993e-01,\n",
       "         -1.77790716e-01, -3.36299598e-01, -3.63830894e-01,\n",
       "          4.00529981e-01,  2.27677569e-01,  3.52309614e-01,\n",
       "          4.25574072e-02],\n",
       "        [ 1.07308500e-01,  1.63641661e-01,  1.57526061e-01,\n",
       "          2.68624485e-01,  7.36008137e-02, -3.06975693e-01,\n",
       "          3.55044007e-01, -1.86409667e-01, -3.87778759e-01,\n",
       "         -2.77946532e-01],\n",
       "        [ 3.49330425e-01, -2.30234385e-01, -3.41125131e-01,\n",
       "         -2.97332983e-02, -3.04605871e-01,  4.06890333e-01,\n",
       "          1.14728622e-02, -3.56510282e-01, -2.23120898e-01,\n",
       "         -3.78783047e-02],\n",
       "        [ 1.40564382e-01,  4.26353604e-01, -3.03231180e-01,\n",
       "         -6.49999306e-02, -3.99177969e-01, -2.05255643e-01,\n",
       "          4.40414876e-01, -2.30738297e-02, -2.63288021e-01,\n",
       "         -6.15372248e-02],\n",
       "        [-1.26252308e-01,  3.31991345e-01,  5.25640845e-02,\n",
       "          2.85630077e-01,  1.89100727e-01, -1.37451753e-01,\n",
       "         -9.52235758e-02,  3.86314727e-02, -2.32140198e-01,\n",
       "         -2.32460678e-01],\n",
       "        [-1.11892715e-01, -2.13569388e-01,  2.63265502e-02,\n",
       "          2.81903118e-01, -1.44729897e-01,  4.38691415e-02,\n",
       "         -1.83329120e-01, -3.47374938e-02, -2.64549792e-01,\n",
       "          1.23899929e-01],\n",
       "        [-2.55325317e-01, -2.43446484e-01,  4.32570875e-01,\n",
       "         -2.90757030e-01,  2.01206371e-01,  2.29190722e-01,\n",
       "         -2.13672251e-01, -3.57926816e-01, -2.76908904e-01,\n",
       "         -2.83572562e-02],\n",
       "        [ 2.22784415e-01,  1.17790699e-01, -1.71466306e-01,\n",
       "          2.39220589e-01, -2.62013614e-01,  3.48725647e-01,\n",
       "         -3.07088375e-01, -5.15233865e-03,  2.43506461e-01,\n",
       "         -2.60784924e-01],\n",
       "        [-7.92069957e-02,  5.96814938e-02, -3.89767289e-02,\n",
       "         -2.50994507e-02, -1.50967777e-01,  4.44413126e-01,\n",
       "         -4.65601891e-01,  2.16072202e-01,  3.78400445e-01,\n",
       "          4.03948501e-02],\n",
       "        [ 2.49085262e-01,  2.17704087e-01, -3.05730402e-01,\n",
       "          9.78717729e-02,  2.59948164e-01, -2.70259857e-01,\n",
       "         -3.24685909e-02,  9.30282921e-02, -1.41755734e-02,\n",
       "          9.28051099e-02],\n",
       "        [ 1.52452350e-01,  4.36002240e-02, -1.36552945e-01,\n",
       "         -6.35029525e-02,  1.87703982e-01,  3.53901803e-01,\n",
       "         -1.82397261e-01, -3.14762980e-01, -1.93473175e-01,\n",
       "          1.72892883e-01],\n",
       "        [ 2.94585042e-02, -3.27850170e-02, -2.38855943e-01,\n",
       "         -3.33496273e-01,  8.90225768e-02,  2.53975987e-01,\n",
       "          1.83841199e-01,  2.60305971e-01, -4.96039353e-02,\n",
       "         -3.24148029e-01],\n",
       "        [ 2.30613146e-02, -1.37573585e-01,  3.33862811e-01,\n",
       "         -3.27575505e-02,  2.33053006e-02, -1.68845177e-01,\n",
       "          3.46723378e-01, -2.31493786e-01, -3.69753093e-01,\n",
       "          2.22430751e-01],\n",
       "        [-8.20555612e-02, -8.59073251e-02,  1.34511605e-01,\n",
       "          1.15674824e-01,  2.36783251e-01,  3.44620161e-02,\n",
       "          9.86322481e-03, -2.34421745e-01,  8.83193314e-02,\n",
       "          9.68840998e-03],\n",
       "        [ 1.33542612e-01, -2.62006462e-01,  2.33124405e-01,\n",
       "         -3.39322984e-02, -3.01545382e-01, -9.19907987e-02,\n",
       "         -1.51579544e-01, -8.17999244e-02,  1.28672048e-01,\n",
       "         -3.77559960e-02],\n",
       "        [ 4.08732086e-01, -1.81679666e-01,  3.39562476e-01,\n",
       "          1.08325809e-01, -2.13162154e-01,  7.92583916e-03,\n",
       "          2.88341939e-01,  2.39441432e-02, -3.22022557e-01,\n",
       "         -2.18294337e-01],\n",
       "        [ 3.63653637e-02, -3.45870674e-01,  2.11436883e-01,\n",
       "          1.18235677e-01,  2.06474334e-01,  7.80509114e-02,\n",
       "          6.98938370e-02, -4.26935315e-01,  5.21762669e-01,\n",
       "         -4.95862007e-01],\n",
       "        [ 1.15368113e-01, -2.16335468e-02, -2.36447193e-02,\n",
       "         -1.22049779e-01, -2.73833685e-02, -2.02105284e-01,\n",
       "         -3.21087390e-01,  4.05677915e-01, -3.20154041e-01,\n",
       "          4.03878652e-02],\n",
       "        [ 2.37400457e-01, -3.07543948e-02,  5.65747498e-03,\n",
       "         -2.12749556e-01,  2.23958150e-01,  2.32949287e-01,\n",
       "         -4.33344066e-01,  1.06214374e-01,  2.82655627e-01,\n",
       "         -1.80948570e-01],\n",
       "        [ 2.25841045e-01,  3.11232865e-01,  3.43234651e-02,\n",
       "         -1.91491202e-01, -4.63351011e-01, -1.27878115e-01,\n",
       "         -2.01855693e-02,  1.37704283e-01, -2.05896482e-01,\n",
       "         -9.38258972e-03],\n",
       "        [-1.73132896e-01,  7.91666657e-02,  3.31768878e-02,\n",
       "          2.62642372e-02,  3.63201439e-01,  5.04543930e-02,\n",
       "         -4.34118629e-01,  2.58956790e-01, -2.54268885e-01,\n",
       "         -2.26692799e-02],\n",
       "        [ 8.38194937e-02, -2.82502510e-02, -1.31259128e-01,\n",
       "         -1.80152982e-01,  2.95942038e-01,  7.29141831e-02,\n",
       "          4.88708854e-01,  5.46657015e-03,  1.78273432e-02,\n",
       "         -4.55971032e-01],\n",
       "        [-1.99343696e-01,  2.57465765e-02, -1.68407708e-01,\n",
       "         -3.77676338e-02,  1.21771604e-01,  1.01547986e-01,\n",
       "          5.10714166e-02,  1.22102335e-01,  1.66107044e-01,\n",
       "          2.02686757e-01],\n",
       "        [-1.86219707e-01,  2.81204104e-01, -1.24396928e-01,\n",
       "         -7.79325813e-02,  1.56232402e-01, -2.58845180e-01,\n",
       "         -5.16926825e-01, -3.49145830e-02, -1.68256134e-01,\n",
       "          1.63625062e-01],\n",
       "        [-2.08760947e-02,  2.38446780e-02, -5.24810478e-02,\n",
       "          6.74258452e-03,  3.25642675e-01,  9.11924168e-02,\n",
       "         -1.37401149e-01, -1.31781206e-01,  2.90849626e-01,\n",
       "          1.15313433e-01],\n",
       "        [ 1.70366049e-01,  2.91795671e-01, -9.03671011e-02,\n",
       "          3.83273572e-01,  2.73075998e-01,  3.37714814e-02,\n",
       "         -2.92711824e-01,  3.01050514e-01,  4.93361987e-02,\n",
       "         -2.67782295e-03],\n",
       "        [-1.97977841e-01,  6.78457245e-02, -8.46381411e-02,\n",
       "         -2.23810241e-01,  7.45104700e-02, -8.55072886e-02,\n",
       "         -7.91565403e-02,  8.91416892e-02, -2.60944664e-01,\n",
       "         -1.09956607e-01],\n",
       "        [-3.31749201e-01,  1.28271520e-01, -3.37490559e-01,\n",
       "          2.92491108e-01, -3.02659005e-01,  5.45653589e-02,\n",
       "         -2.23421603e-01,  2.23344132e-01, -2.65372638e-02,\n",
       "          8.30217823e-02],\n",
       "        [ 1.33288324e-01,  4.90326956e-02, -2.48280406e-01,\n",
       "         -2.53341645e-01, -4.01549459e-01,  2.78079987e-01,\n",
       "          1.75884426e-01, -1.16252311e-01, -1.63177252e-01,\n",
       "          3.28577831e-02],\n",
       "        [-2.16117591e-01, -1.17347762e-01, -1.28004536e-01,\n",
       "          3.13293695e-01, -2.79892012e-02, -2.07493737e-01,\n",
       "          2.84945577e-01, -3.85150641e-01, -5.42938663e-03,\n",
       "          3.11196715e-01],\n",
       "        [-1.42574728e-01, -6.81984201e-02, -3.28028877e-03,\n",
       "          9.11890790e-02, -1.09192222e-01,  3.13051671e-01,\n",
       "          1.69912040e-01, -9.16080624e-02,  2.34470278e-01,\n",
       "         -2.12740391e-01],\n",
       "        [ 4.70716029e-01, -4.70949054e-01,  5.10506749e-01,\n",
       "         -1.68215305e-01,  2.93984205e-01, -4.07168657e-01,\n",
       "          2.65444517e-01, -2.94243455e-01, -3.46259028e-01,\n",
       "         -1.36545032e-01],\n",
       "        [-2.13234112e-01,  2.28410855e-01,  7.90455863e-02,\n",
       "          2.56561577e-01, -3.35160494e-01, -2.03475595e-01,\n",
       "         -3.39246750e-01,  1.95198596e-01,  2.97602475e-01,\n",
       "          1.86568171e-01],\n",
       "        [-2.77535141e-01,  9.76411700e-02, -3.74382257e-01,\n",
       "         -9.57231969e-02,  1.51935205e-01,  4.29171950e-01,\n",
       "          2.12922037e-01, -2.33626381e-01,  1.93098150e-02,\n",
       "          1.35016814e-01],\n",
       "        [-2.04710081e-01, -1.45005733e-01,  2.43854716e-01,\n",
       "         -3.23454589e-01,  1.07447907e-01,  3.07916164e-01,\n",
       "         -3.06056380e-01, -1.73301190e-01,  3.68438438e-02,\n",
       "         -3.59161586e-01],\n",
       "        [ 4.01442200e-01, -3.94824415e-01,  3.06073815e-01,\n",
       "         -1.44339114e-01, -3.56410086e-01, -7.61738867e-02,\n",
       "          3.38950418e-02, -6.14460409e-02,  1.36956573e-01,\n",
       "          8.54511708e-02],\n",
       "        [-2.36122683e-01, -2.10515037e-01,  1.37161046e-01,\n",
       "          1.61264077e-01,  2.25723743e-01,  2.41171941e-01,\n",
       "          1.56330675e-01, -2.85482913e-01, -5.06813407e-01,\n",
       "         -3.04931432e-01],\n",
       "        [ 7.72266388e-02,  8.37089419e-02, -1.93881810e-01,\n",
       "         -1.23479679e-01,  3.43474708e-02, -8.18290859e-02,\n",
       "         -1.86776087e-01,  7.86899775e-02, -1.62664726e-01,\n",
       "         -1.47463709e-01],\n",
       "        [ 4.81195897e-01, -2.14081347e-01, -2.97863901e-01,\n",
       "          5.93329314e-03, -2.57174283e-01,  1.36054307e-01,\n",
       "          1.81843862e-01, -5.92873944e-03, -1.44105971e-01,\n",
       "          1.30379662e-01],\n",
       "        [-2.32705787e-01, -2.06070855e-01,  2.70082980e-01,\n",
       "         -1.94393247e-01,  2.89992124e-01, -7.52259195e-02,\n",
       "         -6.50890172e-02,  1.52385570e-02, -2.21959487e-01,\n",
       "         -2.34841794e-01],\n",
       "        [ 9.34995115e-02, -5.73560782e-02,  7.12494031e-02,\n",
       "         -2.31894910e-01, -2.44624794e-01, -1.36336416e-01,\n",
       "         -3.97057921e-01,  4.98744458e-01,  1.44312844e-01,\n",
       "          3.70983690e-01],\n",
       "        [ 2.24475235e-01, -1.48082018e-01, -1.12944461e-01,\n",
       "         -2.68055480e-02, -3.53981614e-01,  5.30734301e-01,\n",
       "          5.21853030e-01,  1.28629267e-01, -4.56241399e-01,\n",
       "          1.34957775e-01]], dtype=float32),\n",
       " array([ 0.0038802 , -0.14778456,  0.18315585,  0.23002547, -0.35581413,\n",
       "        -0.00744237,  0.22422393,  0.10167295, -0.07548056, -0.15644194],\n",
       "       dtype=float32)]"
      ]
     },
     "execution_count": 59,
     "metadata": {},
     "output_type": "execute_result"
    }
   ],
   "source": [
    "weights"
   ]
  },
  {
   "cell_type": "code",
   "execution_count": 60,
   "metadata": {},
   "outputs": [
    {
     "ename": "AttributeError",
     "evalue": "'list' object has no attribute 'shape'",
     "output_type": "error",
     "traceback": [
      "\u001b[1;31m---------------------------------------------------------------------------\u001b[0m",
      "\u001b[1;31mAttributeError\u001b[0m                            Traceback (most recent call last)",
      "\u001b[1;32m<ipython-input-60-8c12dd2b9105>\u001b[0m in \u001b[0;36m<module>\u001b[1;34m\u001b[0m\n\u001b[1;32m----> 1\u001b[1;33m \u001b[0mweights\u001b[0m\u001b[1;33m.\u001b[0m\u001b[0mshape\u001b[0m\u001b[1;33m\u001b[0m\u001b[1;33m\u001b[0m\u001b[0m\n\u001b[0m",
      "\u001b[1;31mAttributeError\u001b[0m: 'list' object has no attribute 'shape'"
     ]
    }
   ],
   "source": [
    "weights.shape"
   ]
  },
  {
   "cell_type": "markdown",
   "metadata": {},
   "source": [
    "## 5.組裝"
   ]
  },
  {
   "cell_type": "code",
   "execution_count": 61,
   "metadata": {},
   "outputs": [],
   "source": [
    "model.compile(loss=\"sparse_categorical_crossentropy\",\n",
    "             optimizer=\"sgd\",\n",
    "             metrics=[\"accuracy\"])"
   ]
  },
  {
   "cell_type": "markdown",
   "metadata": {},
   "source": [
    "## 6. 訓練"
   ]
  },
  {
   "cell_type": "markdown",
   "metadata": {},
   "source": [
    "### 參考https://www.itread01.com/content/1541581923.html\n",
    "* 1. batchsize：批大小。在深度學習中，一般採用SGD訓練，即每次訓練在訓練集中取batchsize個樣本訓練\n",
    "* 2. iteration：1個iteration等於使用batchsize個樣本訓練一次；batch 需要完成一個 epoch 的次數。記住：在一個 epoch 中，batch 數和迭代數是相等的\n",
    "* 3. epoch：1個epoch等於使用訓練集中的全部樣本訓練一次"
   ]
  },
  {
   "cell_type": "code",
   "execution_count": 43,
   "metadata": {},
   "outputs": [
    {
     "name": "stdout",
     "output_type": "stream",
     "text": [
      "Epoch 1/30\n",
      "60000/60000 [==============================] - 4s 67us/step - loss: 0.5340 - accuracy: 0.8128\n",
      "Epoch 2/30\n",
      "60000/60000 [==============================] - 3s 53us/step - loss: 0.4008 - accuracy: 0.8576\n",
      "Epoch 3/30\n",
      "60000/60000 [==============================] - 3s 55us/step - loss: 0.3608 - accuracy: 0.8698\n",
      "Epoch 4/30\n",
      "60000/60000 [==============================] - 3s 53us/step - loss: 0.3353 - accuracy: 0.8785\n",
      "Epoch 5/30\n",
      "60000/60000 [==============================] - 3s 54us/step - loss: 0.3173 - accuracy: 0.8842\n",
      "Epoch 6/30\n",
      "60000/60000 [==============================] - 3s 55us/step - loss: 0.3011 - accuracy: 0.8895\n",
      "Epoch 7/30\n",
      "60000/60000 [==============================] - 3s 57us/step - loss: 0.2901 - accuracy: 0.8934\n",
      "Epoch 8/30\n",
      "60000/60000 [==============================] - 4s 63us/step - loss: 0.2776 - accuracy: 0.8991\n",
      "Epoch 9/30\n",
      "60000/60000 [==============================] - 4s 60us/step - loss: 0.2667 - accuracy: 0.9022\n",
      "Epoch 10/30\n",
      "60000/60000 [==============================] - 4s 60us/step - loss: 0.2581 - accuracy: 0.9052\n",
      "Epoch 11/30\n",
      "60000/60000 [==============================] - 4s 61us/step - loss: 0.2495 - accuracy: 0.9082\n",
      "Epoch 12/30\n",
      "60000/60000 [==============================] - 3s 58us/step - loss: 0.2423 - accuracy: 0.9107\n",
      "Epoch 13/30\n",
      "60000/60000 [==============================] - 4s 62us/step - loss: 0.2338 - accuracy: 0.9143\n",
      "Epoch 14/30\n",
      "60000/60000 [==============================] - 4s 61us/step - loss: 0.2268 - accuracy: 0.9166\n",
      "Epoch 15/30\n",
      "60000/60000 [==============================] - 4s 59us/step - loss: 0.2207 - accuracy: 0.9191\n",
      "Epoch 16/30\n",
      "60000/60000 [==============================] - 4s 61us/step - loss: 0.2142 - accuracy: 0.9221\n",
      "Epoch 17/30\n",
      "60000/60000 [==============================] - 4s 61us/step - loss: 0.2079 - accuracy: 0.9242\n",
      "Epoch 18/30\n",
      "60000/60000 [==============================] - 4s 59us/step - loss: 0.2030 - accuracy: 0.9264\n",
      "Epoch 19/30\n",
      "60000/60000 [==============================] - 4s 61us/step - loss: 0.1980 - accuracy: 0.9278\n",
      "Epoch 20/30\n",
      "60000/60000 [==============================] - 4s 61us/step - loss: 0.1918 - accuracy: 0.9300\n",
      "Epoch 21/30\n",
      "60000/60000 [==============================] - 4s 59us/step - loss: 0.1864 - accuracy: 0.9318\n",
      "Epoch 22/30\n",
      "60000/60000 [==============================] - 4s 62us/step - loss: 0.1809 - accuracy: 0.9347\n",
      "Epoch 23/30\n",
      "60000/60000 [==============================] - 4s 61us/step - loss: 0.1765 - accuracy: 0.9366\n",
      "Epoch 24/30\n",
      "60000/60000 [==============================] - 4s 59us/step - loss: 0.1722 - accuracy: 0.9359\n",
      "Epoch 25/30\n",
      "60000/60000 [==============================] - 4s 62us/step - loss: 0.1670 - accuracy: 0.9399\n",
      "Epoch 26/30\n",
      "60000/60000 [==============================] - 4s 61us/step - loss: 0.1636 - accuracy: 0.9405\n",
      "Epoch 27/30\n",
      "60000/60000 [==============================] - 4s 59us/step - loss: 0.1603 - accuracy: 0.9417\n",
      "Epoch 28/30\n",
      "60000/60000 [==============================] - 4s 64us/step - loss: 0.1555 - accuracy: 0.9440\n",
      "Epoch 29/30\n",
      "60000/60000 [==============================] - 4s 64us/step - loss: 0.1517 - accuracy: 0.9458\n",
      "Epoch 30/30\n",
      "60000/60000 [==============================] - 4s 59us/step - loss: 0.1483 - accuracy: 0.9472\n"
     ]
    }
   ],
   "source": [
    "history = model.fit(x_train, y_train, epochs=30)"
   ]
  },
  {
   "cell_type": "markdown",
   "metadata": {},
   "source": [
    "## 7. Learning Curves"
   ]
  },
  {
   "cell_type": "code",
   "execution_count": 63,
   "metadata": {},
   "outputs": [
    {
     "data": {
      "text/plain": [
       "<function matplotlib.pyplot.show(*args, **kw)>"
      ]
     },
     "execution_count": 63,
     "metadata": {},
     "output_type": "execute_result"
    },
    {
     "data": {
      "image/png": "[encoded data removed]",
      "text/plain": [
       "<Figure size 576x360 with 1 Axes>"
      ]
     },
     "metadata": {
      "needs_background": "light"
     },
     "output_type": "display_data"
    }
   ],
   "source": [
    "import pandas as pd\n",
    "pd.DataFrame(history.history).plot(figsize=(8, 5))\n",
    "plt.grid(True)\n",
    "plt.gca().set_ylim(0, 1) # set the vertical range to [0-1]\n",
    "plt.show"
   ]
  },
  {
   "cell_type": "markdown",
   "metadata": {},
   "source": [
    "## 8.切出驗證集，來確定是否overfitting"
   ]
  },
  {
   "cell_type": "code",
   "execution_count": 79,
   "metadata": {},
   "outputs": [],
   "source": [
    "(x_train, y_train), (x_test, y_test) = fashion_mnist.load_data()"
   ]
  },
  {
   "cell_type": "code",
   "execution_count": 80,
   "metadata": {},
   "outputs": [],
   "source": [
    "x_train = x_train/55\n",
    "x_test = x_test/255"
   ]
  },
  {
   "cell_type": "code",
   "execution_count": 81,
   "metadata": {},
   "outputs": [],
   "source": [
    "x_valid, x_train = x_train[:5000], x_train[5000:] #因為前面已經除以過255，所以這邊不用除\n",
    "y_valid, y_train = y_train[:5000], y_train[5000:]"
   ]
  },
  {
   "cell_type": "code",
   "execution_count": 82,
   "metadata": {},
   "outputs": [
    {
     "data": {
      "text/plain": [
       "'Ankle boot'"
      ]
     },
     "execution_count": 82,
     "metadata": {},
     "output_type": "execute_result"
    }
   ],
   "source": [
    "class_names = ['T-shirt/top', \"Trouser\", \"Pullover\", \"Dress\", \"Coat\", \"Sandal\", \"Shirt\", \"Sneaker\", \"Bag\", \"Ankle boot\"]\n",
    "class_names[y_train[1996]]"
   ]
  },
  {
   "cell_type": "code",
   "execution_count": 83,
   "metadata": {},
   "outputs": [
    {
     "data": {
      "text/plain": [
       "9"
      ]
     },
     "execution_count": 83,
     "metadata": {},
     "output_type": "execute_result"
    }
   ],
   "source": [
    "# check answers\n",
    "y_train[1996]"
   ]
  },
  {
   "cell_type": "code",
   "execution_count": 84,
   "metadata": {},
   "outputs": [],
   "source": [
    "model_2 = keras.models.Sequential([\n",
    "    keras.layers.Flatten(input_shape=[28, 28]),\n",
    "    keras.layers.Dense(300, activation='relu'),\n",
    "    keras.layers.Dense(100, activation=\"relu\"),\n",
    "    keras.layers.Dense(10, activation='softmax')\n",
    "])"
   ]
  },
  {
   "cell_type": "code",
   "execution_count": 85,
   "metadata": {},
   "outputs": [],
   "source": [
    "# Error\n",
    "#weights, biases = model.get_weights"
   ]
  },
  {
   "cell_type": "code",
   "execution_count": 86,
   "metadata": {},
   "outputs": [],
   "source": [
    "model_2.compile(loss=\"sparse_categorical_crossentropy\",\n",
    "             optimizer=\"sgd\",\n",
    "             metrics=[\"accuracy\"])"
   ]
  },
  {
   "cell_type": "markdown",
   "metadata": {},
   "source": [
    "#### 放入驗證集"
   ]
  },
  {
   "cell_type": "code",
   "execution_count": 87,
   "metadata": {},
   "outputs": [
    {
     "name": "stdout",
     "output_type": "stream",
     "text": [
      "Train on 55000 samples, validate on 5000 samples\n",
      "Epoch 1/30\n",
      "55000/55000 [==============================] - 3s 61us/step - loss: 0.5525 - accuracy: 0.8076 - val_loss: 0.4668 - val_accuracy: 0.8432\n",
      "Epoch 2/30\n",
      "55000/55000 [==============================] - 3s 55us/step - loss: 0.4056 - accuracy: 0.8558 - val_loss: 0.3990 - val_accuracy: 0.8570\n",
      "Epoch 3/30\n",
      "55000/55000 [==============================] - 3s 58us/step - loss: 0.3631 - accuracy: 0.8707 - val_loss: 0.3528 - val_accuracy: 0.8736\n",
      "Epoch 4/30\n",
      "55000/55000 [==============================] - 3s 54us/step - loss: 0.3363 - accuracy: 0.8786 - val_loss: 0.3421 - val_accuracy: 0.8766\n",
      "Epoch 5/30\n",
      "55000/55000 [==============================] - 3s 59us/step - loss: 0.3179 - accuracy: 0.8849 - val_loss: 0.3440 - val_accuracy: 0.8790\n",
      "Epoch 6/30\n",
      "55000/55000 [==============================] - 4s 64us/step - loss: 0.3014 - accuracy: 0.8906 - val_loss: 0.3211 - val_accuracy: 0.8852\n",
      "Epoch 7/30\n",
      "55000/55000 [==============================] - 4s 64us/step - loss: 0.2904 - accuracy: 0.8951 - val_loss: 0.3267 - val_accuracy: 0.8788\n",
      "Epoch 8/30\n",
      "55000/55000 [==============================] - 4s 66us/step - loss: 0.2755 - accuracy: 0.9004 - val_loss: 0.3246 - val_accuracy: 0.8814\n",
      "Epoch 9/30\n",
      "55000/55000 [==============================] - 4s 67us/step - loss: 0.2675 - accuracy: 0.9016 - val_loss: 0.3333 - val_accuracy: 0.8860\n",
      "Epoch 10/30\n",
      "55000/55000 [==============================] - 4s 64us/step - loss: 0.2563 - accuracy: 0.9067 - val_loss: 0.3061 - val_accuracy: 0.8880\n",
      "Epoch 11/30\n",
      "55000/55000 [==============================] - 4s 67us/step - loss: 0.2492 - accuracy: 0.9090 - val_loss: 0.2971 - val_accuracy: 0.8958\n",
      "Epoch 12/30\n",
      "55000/55000 [==============================] - 4s 67us/step - loss: 0.2398 - accuracy: 0.9123 - val_loss: 0.3109 - val_accuracy: 0.8880\n",
      "Epoch 13/30\n",
      "55000/55000 [==============================] - 4s 64us/step - loss: 0.2325 - accuracy: 0.9163 - val_loss: 0.2958 - val_accuracy: 0.8936\n",
      "Epoch 14/30\n",
      "55000/55000 [==============================] - 4s 66us/step - loss: 0.2259 - accuracy: 0.9173 - val_loss: 0.3237 - val_accuracy: 0.8836\n",
      "Epoch 15/30\n",
      "55000/55000 [==============================] - 4s 67us/step - loss: 0.2185 - accuracy: 0.9207 - val_loss: 0.3110 - val_accuracy: 0.8904\n",
      "Epoch 16/30\n",
      "55000/55000 [==============================] - 4s 64us/step - loss: 0.2122 - accuracy: 0.9235 - val_loss: 0.2989 - val_accuracy: 0.8938\n",
      "Epoch 17/30\n",
      "55000/55000 [==============================] - 4s 66us/step - loss: 0.2061 - accuracy: 0.9257 - val_loss: 0.3053 - val_accuracy: 0.8950\n",
      "Epoch 18/30\n",
      "55000/55000 [==============================] - 4s 67us/step - loss: 0.2014 - accuracy: 0.9275 - val_loss: 0.2943 - val_accuracy: 0.8954\n",
      "Epoch 19/30\n",
      "55000/55000 [==============================] - 4s 65us/step - loss: 0.1952 - accuracy: 0.9292 - val_loss: 0.2856 - val_accuracy: 0.8966\n",
      "Epoch 20/30\n",
      "55000/55000 [==============================] - 4s 68us/step - loss: 0.1901 - accuracy: 0.9305 - val_loss: 0.2908 - val_accuracy: 0.8946\n",
      "Epoch 21/30\n",
      "55000/55000 [==============================] - 4s 65us/step - loss: 0.1845 - accuracy: 0.9331 - val_loss: 0.3060 - val_accuracy: 0.8926\n",
      "Epoch 22/30\n",
      "55000/55000 [==============================] - 4s 65us/step - loss: 0.1782 - accuracy: 0.9357 - val_loss: 0.3001 - val_accuracy: 0.8934\n",
      "Epoch 23/30\n",
      "55000/55000 [==============================] - 4s 68us/step - loss: 0.1740 - accuracy: 0.9361 - val_loss: 0.3003 - val_accuracy: 0.8940\n",
      "Epoch 24/30\n",
      "55000/55000 [==============================] - 4s 65us/step - loss: 0.1691 - accuracy: 0.9386 - val_loss: 0.3077 - val_accuracy: 0.8922\n",
      "Epoch 25/30\n",
      "55000/55000 [==============================] - 4s 66us/step - loss: 0.1657 - accuracy: 0.9406 - val_loss: 0.2950 - val_accuracy: 0.8958\n",
      "Epoch 26/30\n",
      "55000/55000 [==============================] - 4s 66us/step - loss: 0.1611 - accuracy: 0.9412 - val_loss: 0.3067 - val_accuracy: 0.8934\n",
      "Epoch 27/30\n",
      "55000/55000 [==============================] - 4s 67us/step - loss: 0.1567 - accuracy: 0.9433 - val_loss: 0.3109 - val_accuracy: 0.8926\n",
      "Epoch 28/30\n",
      "55000/55000 [==============================] - 4s 70us/step - loss: 0.1519 - accuracy: 0.9456 - val_loss: 0.3049 - val_accuracy: 0.8946\n",
      "Epoch 29/30\n",
      "55000/55000 [==============================] - 4s 68us/step - loss: 0.1490 - accuracy: 0.9458 - val_loss: 0.3228 - val_accuracy: 0.8922\n",
      "Epoch 30/30\n",
      "55000/55000 [==============================] - 4s 68us/step - loss: 0.1459 - accuracy: 0.9462 - val_loss: 0.3160 - val_accuracy: 0.8958\n"
     ]
    }
   ],
   "source": [
    "history_2 = model_2.fit(x_train, y_train, epochs=30, validation_data=(x_valid, y_valid))"
   ]
  },
  {
   "cell_type": "code",
   "execution_count": 88,
   "metadata": {},
   "outputs": [
    {
     "data": {
      "text/plain": [
       "<function matplotlib.pyplot.show(*args, **kw)>"
      ]
     },
     "execution_count": 88,
     "metadata": {},
     "output_type": "execute_result"
    },
    {
     "data": {
      "image/png": "[encoded data removed]",
      "text/plain": [
       "<Figure size 576x360 with 1 Axes>"
      ]
     },
     "metadata": {
      "needs_background": "light"
     },
     "output_type": "display_data"
    }
   ],
   "source": [
    "# Learning Curve\n",
    "import pandas as pd\n",
    "\n",
    "pd.DataFrame(history_2.history).plot(figsize=(8, 5))\n",
    "plt.grid(True) # plt.grid(True): 用來顯示網格\n",
    "plt.gca().set_ylim(0, 1) #plt.gca(): 得到當前的 axes\n",
    "plt.show"
   ]
  },
  {
   "cell_type": "markdown",
   "metadata": {},
   "source": [
    "### 結論: 測試集和驗證集的accuracy 有些差異，有些微overfitting"
   ]
  },
  {
   "cell_type": "code",
   "execution_count": 98,
   "metadata": {},
   "outputs": [
    {
     "name": "stdout",
     "output_type": "stream",
     "text": [
      "10000/10000 [==============================] - 0s 27us/step\n"
     ]
    },
    {
     "data": {
      "text/plain": [
       "[0.5789692057609558, 0.859499990940094]"
      ]
     },
     "execution_count": 98,
     "metadata": {},
     "output_type": "execute_result"
    }
   ],
   "source": [
    "model_2.evaluate(x_test, y_test)"
   ]
  },
  {
   "cell_type": "markdown",
   "metadata": {},
   "source": [
    "## 9.Make Predictions"
   ]
  },
  {
   "cell_type": "markdown",
   "metadata": {},
   "source": [
    "#### 使用模型的predict()方法对新的实例进行预测"
   ]
  },
  {
   "cell_type": "code",
   "execution_count": 99,
   "metadata": {},
   "outputs": [
    {
     "data": {
      "text/plain": [
       "array([[0.15, 0.09, 0.09, 0.11, 0.06, 0.13, 0.13, 0.06, 0.06, 0.11],\n",
       "       [0.08, 0.08, 0.18, 0.12, 0.06, 0.28, 0.07, 0.04, 0.02, 0.07],\n",
       "       [0.07, 0.1 , 0.21, 0.09, 0.07, 0.11, 0.11, 0.05, 0.08, 0.11]],\n",
       "      dtype=float32)"
      ]
     },
     "execution_count": 99,
     "metadata": {},
     "output_type": "execute_result"
    }
   ],
   "source": [
    "x_new = x_test[:3]\n",
    "y_proba = model.predict(x_new)\n",
    "y_proba.round(2)"
   ]
  },
  {
   "cell_type": "code",
   "execution_count": 100,
   "metadata": {},
   "outputs": [
    {
     "data": {
      "text/plain": [
       "array([0, 5, 2], dtype=int64)"
      ]
     },
     "execution_count": 100,
     "metadata": {},
     "output_type": "execute_result"
    }
   ],
   "source": [
    "y_pred = model.predict_classes(x_new)\n",
    "y_pred #尷尬，與y_new不同"
   ]
  },
  {
   "cell_type": "code",
   "execution_count": 101,
   "metadata": {},
   "outputs": [
    {
     "data": {
      "text/plain": [
       "array(['T-shirt/top', 'Sandal', 'Pullover'], dtype='<U11')"
      ]
     },
     "execution_count": 101,
     "metadata": {},
     "output_type": "execute_result"
    }
   ],
   "source": [
    "import numpy as np\n",
    "np.array(class_names)[y_pred] #classify all three images correctly"
   ]
  },
  {
   "cell_type": "code",
   "execution_count": 97,
   "metadata": {},
   "outputs": [
    {
     "data": {
      "text/plain": [
       "array([9, 2, 1], dtype=uint8)"
      ]
     },
     "execution_count": 97,
     "metadata": {},
     "output_type": "execute_result"
    }
   ],
   "source": [
    "# check \n",
    "y_new = y_test[:3]\n",
    "y_new"
   ]
  },
  {
   "cell_type": "markdown",
   "metadata": {},
   "source": [
    "## 10.Saving and Restorning a Model"
   ]
  },
  {
   "cell_type": "code",
   "execution_count": 102,
   "metadata": {},
   "outputs": [],
   "source": [
    "model_2.save(\"my_keras_model.h5\") #腳本存在資料夾"
   ]
  },
  {
   "cell_type": "markdown",
   "metadata": {},
   "source": [
    "#### Loading the model"
   ]
  },
  {
   "cell_type": "code",
   "execution_count": 103,
   "metadata": {},
   "outputs": [],
   "source": [
    "model_2 = keras.models.load_model(\"my_keras_model.h5\")"
   ]
  },
  {
   "cell_type": "markdown",
   "metadata": {},
   "source": [
    "## 11.Using Callbacks"
   ]
  },
  {
   "cell_type": "code",
   "execution_count": 105,
   "metadata": {},
   "outputs": [
    {
     "name": "stdout",
     "output_type": "stream",
     "text": [
      "Train on 55000 samples, validate on 5000 samples\n",
      "Epoch 1/10\n",
      "55000/55000 [==============================] - 3s 56us/step - loss: 0.1097 - accuracy: 0.9607 - val_loss: 0.3241 - val_accuracy: 0.8996\n",
      "Epoch 2/10\n",
      "55000/55000 [==============================] - 3s 63us/step - loss: 0.1079 - accuracy: 0.9615 - val_loss: 0.3313 - val_accuracy: 0.9010\n",
      "Epoch 3/10\n",
      "55000/55000 [==============================] - 4s 65us/step - loss: 0.1047 - accuracy: 0.9626 - val_loss: 0.3328 - val_accuracy: 0.8974\n",
      "Epoch 4/10\n",
      "55000/55000 [==============================] - 3s 58us/step - loss: 0.1026 - accuracy: 0.9637 - val_loss: 0.3367 - val_accuracy: 0.9004\n",
      "Epoch 5/10\n",
      "55000/55000 [==============================] - 4s 64us/step - loss: 0.1002 - accuracy: 0.9639 - val_loss: 0.3288 - val_accuracy: 0.8994\n",
      "Epoch 6/10\n",
      "55000/55000 [==============================] - 4s 65us/step - loss: 0.0973 - accuracy: 0.9657 - val_loss: 0.3696 - val_accuracy: 0.8934\n",
      "Epoch 7/10\n",
      "55000/55000 [==============================] - 4s 64us/step - loss: 0.0940 - accuracy: 0.9667 - val_loss: 0.3449 - val_accuracy: 0.8992\n",
      "Epoch 8/10\n",
      "55000/55000 [==============================] - 4s 67us/step - loss: 0.0919 - accuracy: 0.9677 - val_loss: 0.3624 - val_accuracy: 0.8960\n",
      "Epoch 9/10\n",
      "55000/55000 [==============================] - 4s 64us/step - loss: 0.0907 - accuracy: 0.9681 - val_loss: 0.3431 - val_accuracy: 0.8970\n",
      "Epoch 10/10\n",
      "55000/55000 [==============================] - 4s 66us/step - loss: 0.0892 - accuracy: 0.9684 - val_loss: 0.3517 - val_accuracy: 0.9006\n"
     ]
    }
   ],
   "source": [
    "#build and compile the model\n",
    "# ModelCheckpoint: saves checkpoints of your model at regular intervals\n",
    "checkpoint_cb = keras.callbacks.ModelCheckpoint(\"my_keras_model.h5\", save_best_only=True)\n",
    "history_3 = model_2.fit(x_train, y_train, epochs=10, validation_data=(x_valid, y_valid), callbacks=[checkpoint_cb])"
   ]
  },
  {
   "cell_type": "markdown",
   "metadata": {},
   "source": [
    "### EarlyStopping\n",
    "can set a large value since training will stop autimatically when there is no progress"
   ]
  },
  {
   "cell_type": "code",
   "execution_count": 106,
   "metadata": {},
   "outputs": [
    {
     "name": "stdout",
     "output_type": "stream",
     "text": [
      "Train on 55000 samples, validate on 5000 samples\n",
      "Epoch 1/100\n",
      "55000/55000 [==============================] - 3s 58us/step - loss: 0.0854 - accuracy: 0.9705 - val_loss: 0.3379 - val_accuracy: 0.9024\n",
      "Epoch 2/100\n",
      "55000/55000 [==============================] - 3s 63us/step - loss: 0.0822 - accuracy: 0.9710 - val_loss: 0.3693 - val_accuracy: 0.8984\n",
      "Epoch 3/100\n",
      "55000/55000 [==============================] - 3s 62us/step - loss: 0.0820 - accuracy: 0.9711 - val_loss: 0.3735 - val_accuracy: 0.9000\n",
      "Epoch 4/100\n",
      "55000/55000 [==============================] - 3s 59us/step - loss: 0.0781 - accuracy: 0.9718 - val_loss: 0.3573 - val_accuracy: 0.9030\n",
      "Epoch 5/100\n",
      "55000/55000 [==============================] - 3s 62us/step - loss: 0.0783 - accuracy: 0.9728 - val_loss: 0.3708 - val_accuracy: 0.8982\n",
      "Epoch 6/100\n",
      "55000/55000 [==============================] - 4s 64us/step - loss: 0.0739 - accuracy: 0.9747 - val_loss: 0.3785 - val_accuracy: 0.8976\n",
      "Epoch 7/100\n",
      "55000/55000 [==============================] - 4s 64us/step - loss: 0.0721 - accuracy: 0.9758 - val_loss: 0.3986 - val_accuracy: 0.8984\n",
      "Epoch 8/100\n",
      "55000/55000 [==============================] - 4s 66us/step - loss: 0.0720 - accuracy: 0.9747 - val_loss: 0.3635 - val_accuracy: 0.8994\n",
      "Epoch 9/100\n",
      "55000/55000 [==============================] - 4s 65us/step - loss: 0.0705 - accuracy: 0.9751 - val_loss: 0.3681 - val_accuracy: 0.8992\n",
      "Epoch 10/100\n",
      "55000/55000 [==============================] - 4s 68us/step - loss: 0.0670 - accuracy: 0.9767 - val_loss: 0.3777 - val_accuracy: 0.9004\n",
      "Epoch 11/100\n",
      "55000/55000 [==============================] - 4s 64us/step - loss: 0.0659 - accuracy: 0.9771 - val_loss: 0.4035 - val_accuracy: 0.8986\n"
     ]
    }
   ],
   "source": [
    "earlystopping_cb = keras.callbacks.EarlyStopping(patience=10, restore_best_weights=True)\n",
    "history_4 = model_2.fit(x_train, y_train, epochs=100, validation_data=(x_valid, y_valid), callbacks=[checkpoint_cb, earlystopping_cb])"
   ]
  },
  {
   "cell_type": "code",
   "execution_count": 107,
   "metadata": {},
   "outputs": [
    {
     "data": {
      "text/plain": [
       "<function matplotlib.pyplot.show(*args, **kw)>"
      ]
     },
     "execution_count": 107,
     "metadata": {},
     "output_type": "execute_result"
    },
    {
     "data": {
      "image/png": "[encoded data removed]",
      "text/plain": [
       "<Figure size 576x360 with 1 Axes>"
      ]
     },
     "metadata": {
      "needs_background": "light"
     },
     "output_type": "display_data"
    }
   ],
   "source": [
    "# Learning Curve\n",
    "import pandas as pd\n",
    "\n",
    "pd.DataFrame(history_2.history).plot(figsize=(8, 5))\n",
    "plt.grid(True) # plt.grid(True): 用來顯示網格\n",
    "plt.gca().set_ylim(0, 1) #plt.gca(): 得到當前的 axes\n",
    "plt.show"
   ]
  },
  {
   "cell_type": "markdown",
   "metadata": {},
   "source": [
    "#### 結論: test和validation 的accuracy拉大"
   ]
  },
  {
   "cell_type": "markdown",
   "metadata": {},
   "source": [
    "## 12.Visualization Using TensorBoard"
   ]
  },
  {
   "cell_type": "code",
   "execution_count": 109,
   "metadata": {},
   "outputs": [],
   "source": [
    "import os\n",
    "root_logdir = os.path.join(os.curdir, \"my_logs\")\n",
    "\n",
    "def get_run_logdir():\n",
    "    import time\n",
    "    run_id = time.strftime(\"run_%Y_%m_%d-%H_%M_%S\")\n",
    "    return os.path.join(root_logdir, run_id)"
   ]
  },
  {
   "cell_type": "code",
   "execution_count": 110,
   "metadata": {},
   "outputs": [],
   "source": [
    "run_logdir = get_run_logdir() #EX: './my_logs/run_2019_01_16-11_28_43|'"
   ]
  },
  {
   "cell_type": "markdown",
   "metadata": {},
   "source": [
    "TF 1.12"
   ]
  },
  {
   "cell_type": "code",
   "execution_count": 135,
   "metadata": {},
   "outputs": [
    {
     "name": "stdout",
     "output_type": "stream",
     "text": [
      "Requirement already satisfied: tensorflow==1.13.1 in c:\\programdata\\anaconda3\\lib\\site-packages (1.13.1)\n",
      "Requirement already satisfied: gast>=0.2.0 in c:\\programdata\\anaconda3\\lib\\site-packages (from tensorflow==1.13.1) (0.2.2)\n",
      "Requirement already satisfied: termcolor>=1.1.0 in c:\\programdata\\anaconda3\\lib\\site-packages (from tensorflow==1.13.1) (1.1.0)\n",
      "Requirement already satisfied: keras-preprocessing>=1.0.5 in c:\\programdata\\anaconda3\\lib\\site-packages (from tensorflow==1.13.1) (1.1.0)\n",
      "Requirement already satisfied: grpcio>=1.8.6 in c:\\programdata\\anaconda3\\lib\\site-packages (from tensorflow==1.13.1) (1.27.2)\n",
      "Requirement already satisfied: tensorflow-estimator<1.14.0rc0,>=1.13.0 in c:\\programdata\\anaconda3\\lib\\site-packages (from tensorflow==1.13.1) (1.13.0)\n",
      "Requirement already satisfied: numpy>=1.13.3 in c:\\programdata\\anaconda3\\lib\\site-packages (from tensorflow==1.13.1) (1.16.4)\n",
      "Requirement already satisfied: tensorboard<1.14.0,>=1.13.0 in c:\\programdata\\anaconda3\\lib\\site-packages (from tensorflow==1.13.1) (1.13.1)\n",
      "Requirement already satisfied: keras-applications>=1.0.6 in c:\\programdata\\anaconda3\\lib\\site-packages (from tensorflow==1.13.1) (1.0.8)\n",
      "Requirement already satisfied: absl-py>=0.1.6 in c:\\programdata\\anaconda3\\lib\\site-packages (from tensorflow==1.13.1) (0.9.0)\n",
      "Requirement already satisfied: protobuf>=3.6.1 in c:\\programdata\\anaconda3\\lib\\site-packages (from tensorflow==1.13.1) (3.11.3)\n",
      "Requirement already satisfied: astor>=0.6.0 in c:\\programdata\\anaconda3\\lib\\site-packages (from tensorflow==1.13.1) (0.8.1)\n",
      "Requirement already satisfied: wheel>=0.26 in c:\\programdata\\anaconda3\\lib\\site-packages (from tensorflow==1.13.1) (0.33.4)\n",
      "Requirement already satisfied: six>=1.10.0 in c:\\users\\user.laptop-osidbp5e\\appdata\\roaming\\python\\python37\\site-packages (from tensorflow==1.13.1) (1.12.0)\n",
      "Requirement already satisfied: mock>=2.0.0 in c:\\programdata\\anaconda3\\lib\\site-packages (from tensorflow-estimator<1.14.0rc0,>=1.13.0->tensorflow==1.13.1) (3.0.5)\n",
      "Requirement already satisfied: werkzeug>=0.11.15 in c:\\programdata\\anaconda3\\lib\\site-packages (from tensorboard<1.14.0,>=1.13.0->tensorflow==1.13.1) (0.15.4)\n",
      "Requirement already satisfied: markdown>=2.6.8 in c:\\programdata\\anaconda3\\lib\\site-packages (from tensorboard<1.14.0,>=1.13.0->tensorflow==1.13.1) (3.2.1)\n",
      "Requirement already satisfied: h5py in c:\\programdata\\anaconda3\\lib\\site-packages (from keras-applications>=1.0.6->tensorflow==1.13.1) (2.9.0)\n",
      "Requirement already satisfied: setuptools in c:\\programdata\\anaconda3\\lib\\site-packages (from protobuf>=3.6.1->tensorflow==1.13.1) (41.0.1)\n",
      "Note: you may need to restart the kernel to use updated packages.\n"
     ]
    }
   ],
   "source": [
    "pip install tensorflow==1.13.1"
   ]
  },
  {
   "cell_type": "raw",
   "metadata": {},
   "source": [
    "import tensorflow\n",
    "import keras\n",
    "from tensorflow.keras.models import Sequential\n",
    "#from keras.models import Sequential\n",
    "model_2 = tensorflow.keras.Sequential()\n",
    "\n",
    "model_2 = keras.models.Sequential([\n",
    "    keras.layers.Flatten(input_shape=[28, 28]),\n",
    "    keras.layers.Dense(300, activation='relu'),\n",
    "    keras.layers.Dense(100, activation=\"relu\"),\n",
    "    keras.layers.Dense(10, activation='softmax')\n",
    "])\n",
    "\n",
    "model_2.compile(loss=\"sparse_categorical_crossentropy\",\n",
    "             optimizer=\"sgd\",\n",
    "             metrics=[\"accuracy\"])"
   ]
  },
  {
   "cell_type": "code",
   "execution_count": 140,
   "metadata": {},
   "outputs": [
    {
     "ename": "NameError",
     "evalue": "name 'tf_upgrade_v2' is not defined",
     "output_type": "error",
     "traceback": [
      "\u001b[1;31m---------------------------------------------------------------------------\u001b[0m",
      "\u001b[1;31mNameError\u001b[0m                                 Traceback (most recent call last)",
      "\u001b[1;32m<ipython-input-140-52920cffe44d>\u001b[0m in \u001b[0;36m<module>\u001b[1;34m\u001b[0m\n\u001b[1;32m----> 1\u001b[1;33m \u001b[0mtf_upgrade_v2\u001b[0m\u001b[1;33m\u001b[0m\u001b[1;33m\u001b[0m\u001b[0m\n\u001b[0m",
      "\u001b[1;31mNameError\u001b[0m: name 'tf_upgrade_v2' is not defined"
     ]
    }
   ],
   "source": [
    "tf_upgrade_v2"
   ]
  },
  {
   "cell_type": "code",
   "execution_count": 147,
   "metadata": {},
   "outputs": [],
   "source": [
    "import tensorflow \n",
    "import keras\n",
    "#from tensorflow.keras.models import Sequential\n",
    "from keras.models import Sequential\n",
    "#from keras.models import Sequential\n",
    "model_2 = tensorflow.keras.Sequential()\n",
    "\n",
    "model_2 = keras.models.Sequential([\n",
    "    keras.layers.Flatten(input_shape=[28, 28]),\n",
    "    keras.layers.Dense(300, activation='relu'),\n",
    "    keras.layers.Dense(100, activation=\"relu\"),\n",
    "    keras.layers.Dense(10, activation='softmax')\n",
    "])\n",
    "\n",
    "model_2.compile(loss=\"sparse_categorical_crossentropy\",\n",
    "             optimizer=\"sgd\",\n",
    "             metrics=[\"accuracy\"])"
   ]
  },
  {
   "cell_type": "markdown",
   "metadata": {},
   "source": [
    "### Error"
   ]
  },
  {
   "cell_type": "raw",
   "metadata": {},
   "source": [
    "#Build and compile your model\n",
    "from keras.callbacks import TensorBoard\n",
    "tensorboard_cb = keras.callbacks.TensorBoard(run_logdir)\n",
    "history_5 = model_2.fit(x_train, y_train, epochs=30, validation_data=(x_valid, y_valid), callbacks=[tensorboard_cb])"
   ]
  },
  {
   "cell_type": "code",
   "execution_count": null,
   "metadata": {},
   "outputs": [],
   "source": []
  }
 ],
 "metadata": {
  "kernelspec": {
   "display_name": "Python 3",
   "language": "python",
   "name": "python3"
  },
  "language_info": {
   "codemirror_mode": {
    "name": "ipython",
    "version": 3
   },
   "file_extension": ".py",
   "mimetype": "text/x-python",
   "name": "python",
   "nbconvert_exporter": "python",
   "pygments_lexer": "ipython3",
   "version": "3.7.3"
  }
 },
 "nbformat": 4,
 "nbformat_minor": 2
}
