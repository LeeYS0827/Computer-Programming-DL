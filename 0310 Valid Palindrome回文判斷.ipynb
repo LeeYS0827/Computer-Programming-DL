{
 "cells": [
  {
   "cell_type": "code",
   "execution_count": null,
   "metadata": {},
   "outputs": [
    {
     "name": "stdout",
     "output_type": "stream",
     "text": [
      "Enter a sentence: hihi\n",
      "Wrong\n",
      "Enter a sentence: 上海自來水來自海上\n",
      "That's right\n",
      "Enter a sentence: 中山諸羅茶羅諸山中\n",
      "That's right\n",
      "Enter a sentence: 官貪無廉政；政廉無貪官\n",
      "That's right\n"
     ]
    }
   ],
   "source": [
    "def isPalindrome() -> bool:\n",
    "        s = input(\"Enter a sentence: \")\n",
    "        ans = ''\n",
    "        for c in s:\n",
    "            if c.isalnum():\n",
    "                ans += c.lower()\n",
    "        return ans == ans[::-1]\n",
    "    \n",
    "is_valid = isPalindrome()\n",
    "\n",
    "while not is_valid:\n",
    "    print(\"Wrong\")\n",
    "    is_valid = isPalindrome()\n",
    "#if is_valid:\n",
    "while is_valid:\n",
    "    print(\"That's right\")\n",
    "    is_valid = isPalindrome()\n",
    "\n",
    "# is_valid()\n",
    "# is_valid('hihi')\n",
    "# is_valid('官貪無廉政；政廉無貪官')"
   ]
  },
  {
   "cell_type": "raw",
   "metadata": {},
   "source": [
    "s = input(\"Enter a sentence\")"
   ]
  },
  {
   "cell_type": "raw",
   "metadata": {},
   "source": [
    "def isPalindrome() -> bool:\n",
    "        s = input(\"Enter a sentence: \")\n",
    "        ans = ''\n",
    "        for c in s:\n",
    "            if c.isalnum():\n",
    "                ans += c.lower()\n",
    "                if ans == ans[::-1]:\n",
    "                    print(\"True\")\n",
    "                else:\n",
    "                    break\n",
    "\n",
    "isPalindrome()"
   ]
  },
  {
   "cell_type": "code",
   "execution_count": null,
   "metadata": {},
   "outputs": [],
   "source": []
  }
 ],
 "metadata": {
  "kernelspec": {
   "display_name": "Python 3",
   "language": "python",
   "name": "python3"
  }
 },
 "nbformat": 4,
 "nbformat_minor": 2
}
